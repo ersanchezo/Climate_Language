{
 "cells": [
  {
   "cell_type": "code",
   "execution_count": 3,
   "metadata": {
    "collapsed": false
   },
   "outputs": [],
   "source": [
    "#Project for Quantitative Criticism Lab (UT Austin)\n",
    "#Elias Sanchez\n",
    "#DATASET USED : WORLD ATLAS OF LANGUAGE STRUCTURE (WALS) (WEBSITE: http://wals.info/)\n",
    "\n",
    "import pandas as pd\n",
    "import numpy as np\n",
    "import csv\n",
    "import math as m\n",
    "import matplotlib.pyplot as plt"
   ]
  },
  {
   "cell_type": "code",
   "execution_count": 4,
   "metadata": {
    "collapsed": false
   },
   "outputs": [],
   "source": [
    "# Converts WALS coordinate data n to nearest n.25 or n.75 in order to search for classification\n",
    "def rco(num):\n",
    "    n = num-int(num)\n",
    "    if n<=0.5:\n",
    "        return (int(num)+ 0.25)\n",
    "    else:\n",
    "        return(int(num)+0.75)"
   ]
  },
  {
   "cell_type": "code",
   "execution_count": 5,
   "metadata": {
    "collapsed": false
   },
   "outputs": [],
   "source": [
    "#Auxilary binary search function\n",
    "def binary(alist, item):\n",
    "    if len(alist) == 0:\n",
    "        return (-1)\n",
    "    else:\n",
    "        midpoint = len(alist)//2\n",
    "        if alist[midpoint]==item:\n",
    "          return (midpoint)\n",
    "        else:\n",
    "          if item<alist[midpoint]:\n",
    "            return binary(alist[:midpoint],item)\n",
    "          else:\n",
    "            return binary(alist[midpoint+1:],item)"
   ]
  },
  {
   "cell_type": "code",
   "execution_count": 6,
   "metadata": {
    "collapsed": false
   },
   "outputs": [],
   "source": [
    "lang_df = pd.read_csv('language.csv', encoding = 'ISO-8859-1')"
   ]
  },
  {
   "cell_type": "code",
   "execution_count": 7,
   "metadata": {
    "collapsed": false
   },
   "outputs": [],
   "source": [
    "#koppen_1901-2010.tsv contains a file with latitude and longitudes that are close to .25 and .75 that gives the climate\n",
    "koppen = np.genfromtxt(\"koppen_1901-2010.tsv\", dtype=None, names=True)"
   ]
  },
  {
   "cell_type": "code",
   "execution_count": 8,
   "metadata": {
    "collapsed": false
   },
   "outputs": [],
   "source": [
    "#Translate longitude and latitude to Climate use binary search to look for num. coordinates\n",
    "Clim = []\n",
    "for i in range(0, len(lang_df)):\n",
    "    s = 0\n",
    "    if rco(lang_df['longitude'][i]) == -179.75:\n",
    "        s = 0\n",
    "    else:\n",
    "        #binary search in first columns\n",
    "        long = rco(lang_df['longitude'][i]) - 0.5\n",
    "        s = binary(koppen['longitude'],long)\n",
    "    \n",
    "    if s==-1:\n",
    "            Clim.append(str(\"NaN\"))\n",
    "            print(i)\n",
    "    else:\n",
    "        j=s\n",
    "        lat = rco(lang_df['latitude'][i])\n",
    "        lon = rco(lang_df['longitude'][i])\n",
    "        \n",
    "        while bool(lat == koppen['latitude'][j] and lon== koppen['longitude'][j])==False and bool(koppen['longitude'][j]< lon+1)==True:\n",
    "            j=j+1\n",
    "            if j== len(koppen['latitude'])-1:\n",
    "                break\n",
    "        \n",
    "        if rco(lang_df['latitude'][i])== koppen['latitude'][j] and rco(lang_df['longitude'][i])==koppen['longitude'][j]:\n",
    "            Clim.append(str(koppen['p1901_2010'][j]))\n",
    "        else:\n",
    "            Clim.append(\"NaN\")\n",
    "                                                                       \n",
    "        "
   ]
  },
  {
   "cell_type": "code",
   "execution_count": 481,
   "metadata": {
    "collapsed": false
   },
   "outputs": [],
   "source": [
    "k = np.asarray(Clim)\n",
    "k = k.tolist()\n",
    "\n",
    "#get first letter of Koppen classification\n",
    "for i in range(0, len(k)):\n",
    "    if k[i]!='NaN':\n",
    "        k[i] = k[i][2]\n",
    "\n",
    "lang_df[\"Climate\"] = k\n",
    "# drop languages that where unale to be classified with Koppen\n",
    "lang_df = lang_df[lang_df.Climate != 'NaN']"
   ]
  },
  {
   "cell_type": "code",
   "execution_count": 489,
   "metadata": {
    "collapsed": false
   },
   "outputs": [],
   "source": [
    "#Testing features on Phonology Area - Drop rows with null values\n",
    "df1 = lang_df[lang_df['1A Consonant Inventories'].notnull() & lang_df['2A Vowel Quality Inventories'].notnull() & lang_df['3A Consonant-Vowel Ratio'].notnull() & lang_df['4A Voicing in Plosives and Fricatives'].notnull()& lang_df['13A Tone'].notnull() \n",
    "& lang_df['18A Absence of Common Consonants'].notnull() & lang_df['7A Glottalized Consonants'].notnull() & lang_df['8A Lateral Consonants'].notnull() & lang_df['9A The Velar Nasal'].notnull()& lang_df['10A Vowel Nasalization'].notnull()]\n",
    "features = ['1A Consonant Inventories', '2A Vowel Quality Inventories', '3A Consonant-Vowel Ratio', '4A Voicing in Plosives and Fricatives', '13A Tone', '18A Absence of Common Consonants', '7A Glottalized Consonants', '8A Lateral Consonants', '9A The Velar Nasal', '10A Vowel Nasalization']\n",
    "col = ['Name', '1A Consonant Inventories', '2A Vowel Quality Inventories', '3A Consonant-Vowel Ratio', '4A Voicing in Plosives and Fricatives', '13A Tone', '18A Absence of Common Consonants', '7A Glottalized Consonants', '8A Lateral_Consonants', '9A The Velar Nasal', '10A Vowel Nasalization', 'Climate']\n",
    "\n",
    "#Target Vector\n",
    "trg = df1['Climate']\n",
    "trg = trg.tolist()"
   ]
  },
  {
   "cell_type": "code",
   "execution_count": 610,
   "metadata": {
    "collapsed": false
   },
   "outputs": [],
   "source": [
    "phon_df = lang_df[lang_df['4A Voicing in Plosives and Fricatives'].notnull() & lang_df['5A Voicing and Gaps in Plosive Systems'].notnull() & \n",
    "                  lang_df['6A Uvular Consonants'].notnull() & lang_df['7A Glottalized Consonants'].notnull() & \n",
    "                  lang_df['8A Lateral Consonants'].notnull() & lang_df['11A Front Rounded Vowels'].notnull() & \n",
    "                  lang_df['13A Tone'].notnull() & lang_df['18A Absence of Common Consonants'].notnull() & \n",
    "                  lang_df['19A Presence of Uncommon Consonants'].notnull() & lang_df['12A Syllable Structure'].notnull()]\n",
    "\n",
    "phon_feat = ['4A Voicing in Plosives and Fricatives', '5A Voicing and Gaps in Plosive Systems', '6A Uvular Consonants', '7A Glottalized Consonants',\n",
    "                '8A Lateral Consonants', '11A Front Rounded Vowels', '13A Tone', '18A Absence of Common Consonants', '19A Presence of Uncommon Consonants', '12A Syllable Structure']\n",
    "\n",
    "#clphon = pd.Series.tolist(phon_df['Climate'])\n",
    "#stats_out(clphon)"
   ]
  },
  {
   "cell_type": "code",
   "execution_count": 613,
   "metadata": {
    "collapsed": false
   },
   "outputs": [
    {
     "name": "stdout",
     "output_type": "stream",
     "text": [
      "C-V scores, Method 1  - OHE : \n",
      "[ 0.24390244  0.35365854  0.2345679   0.25925926  0.24691358]\n",
      "C-V scores, Method 1  - non-OHE : \n",
      "[ 0.23170732  0.34146341  0.27160494  0.20987654  0.2345679 ]\n",
      "Accuracy for C-V (95 CI) , Method 1  - OHE : 0.27 (+/- 0.09)\n",
      "Accuracy for C-V (95 CI), Method 2  - OHE : 0.26 (+/- 0.09)\n"
     ]
    }
   ],
   "source": [
    "#Pre-proccessing - OHE for both y input and output vectors\n",
    "from sklearn.preprocessing import OneHotEncoder\n",
    "x_phon, y_phon = df_list(phon_feat, phon_df)\n",
    "enc = OneHotEncoder()\n",
    "x_phon = enc.fit_transform(x_phon).toarray()\n",
    "x_phon\n",
    "lb.fit(y_phon)\n",
    "y_phon = lb.transform(y_phon)\n",
    "y_phon\n",
    "#run SVC - One-vs.-rest\n",
    "from sklearn.svm import SVC\n",
    "from sklearn.multiclass import OneVsRestClassifier\n",
    "from sklearn.cross_validation import cross_val_score\n",
    "from sklearn import preprocessing\n",
    "from sklearn.preprocessing import LabelBinarizer\n",
    "from sklearn.svm import LinearSVC\n",
    "\n",
    "#Method 1\n",
    "sv_ovr = OneVsRestClassifier(LinearSVC(random_state=0, class_weight='balanced'))\n",
    "\n",
    "#Method 2\n",
    "\n",
    "svmm = OneVsRestClassifier(svm.SVC(kernel= \"linear\", class_weight='balanced'))\n",
    "\n",
    "#reduced cv to 4 because in this subdataset there were only 4 samples for polar\n",
    "scores_1 = cross_val_score(sv_ovr, x_phon, y_phon, cv=5)\n",
    "scores_2 = cross_val_score(svmm, x_phon, y_phon, cv=5)\n",
    "#I don't think svm.SVC allows for OHE, and only does label encoding\n",
    "#scores_3 = cross_val_score(svmm, X, Y, cv=4)\n",
    "\n",
    "print(\"C-V scores, Method 1  - OHE : \")\n",
    "print(scores_1)\n",
    "print(\"C-V scores, Method 1  - non-OHE : \")\n",
    "print(scores_2)\n",
    "#print(\"C-V scores, Method 2  - OHE :\")\n",
    "#print(scores_3)\n",
    "\n",
    "#95 percent Confidence Interval\n",
    "print(\"Accuracy for C-V (95 CI) , Method 1  - OHE : %0.2f (+/- %0.2f)\" % (scores_1.mean(), scores_1.std() * 2))\n",
    "print(\"Accuracy for C-V (95 CI), Method 2  - OHE : %0.2f (+/- %0.2f)\" % (scores_2.mean(), scores_2.std() * 2))\n",
    "#print(\"Accuracy for C-V (95 CI), Method 2  - Label Encoding : %0.2f (+/- %0.2f)\" % (scores_3.mean(), scores_3.std() * 2))\n"
   ]
  },
  {
   "cell_type": "code",
   "execution_count": 572,
   "metadata": {
    "collapsed": false
   },
   "outputs": [
    {
     "name": "stdout",
     "output_type": "stream",
     "text": [
      "A - Tropical: 1036\n",
      "B - Arid: 344\n",
      "C - Temperate: 553\n",
      "D - Cold: 234\n",
      "E - Polar: 68\n",
      "2235\n"
     ]
    }
   ],
   "source": [
    "#Basic Ststistic for Output vector function Distribution of Climate languages for WALS data set (General)\n",
    "def stats_out(Y):\n",
    "    A=0\n",
    "    B=0\n",
    "    C=0\n",
    "    D=0\n",
    "    E=0\n",
    "    for i in range(0,len(Y)):\n",
    "        if Y[i] == 'A':\n",
    "            A+=1\n",
    "        elif Y[i] == 'B':\n",
    "            B+=1\n",
    "        elif Y[i] == 'C':\n",
    "            C+=1\n",
    "        elif Y[i] == 'D':\n",
    "            D+=1\n",
    "        elif Y[i] == 'E':\n",
    "            E+=1\n",
    "    print(\"A - Tropical: \" + str(A) )\n",
    "    print(\"B - Arid: \" + str(B) )\n",
    "    print(\"C - Temperate: \" + str(C) )\n",
    "    print(\"D - Cold: \" + str(D) )\n",
    "    print(\"E - Polar: \" + str(E) )\n",
    "\n",
    "#Distribution of Climate languages for WALS data set (General)\n",
    "\n",
    "Cl= pd.Series.tolist(lang_df['Climate'])\n",
    "stats_out(Cl)\n",
    "print(len(Cl))\n",
    "\n",
    "\n",
    "    "
   ]
  },
  {
   "cell_type": "code",
   "execution_count": 573,
   "metadata": {
    "collapsed": false
   },
   "outputs": [
    {
     "name": "stdout",
     "output_type": "stream",
     "text": [
      "A - Tropical: 110\n",
      "B - Arid: 60\n",
      "C - Temperate: 78\n",
      "D - Cold: 38\n",
      "E - Polar: 10\n"
     ]
    }
   ],
   "source": [
    "climor = pd.Series.tolist(morph_df['Climate'])\n",
    "stats_out(climor)"
   ]
  },
  {
   "cell_type": "code",
   "execution_count": 14,
   "metadata": {
    "collapsed": false
   },
   "outputs": [],
   "source": [
    "from matplotlib import pyplot as plt\n",
    "from sklearn import svm\n",
    "\n",
    "def f_importances(coef, names):\n",
    "    imp = coef\n",
    "    \n",
    "    plt.barh(range(len(names)), imp, align='center')\n",
    "    plt.yticks(range(len(names)), names)\n",
    "    plt.show()\n"
   ]
  },
  {
   "cell_type": "code",
   "execution_count": 1,
   "metadata": {
    "collapsed": true
   },
   "outputs": [],
   "source": [
    "#Pandas DF and Features to X-feature list and Y-vector (Climate)\n",
    "\n",
    "def df_list(features, df):\n",
    "    l = []\n",
    "    for i in range(0, len(features)):\n",
    "        l.append(pd.Series.tolist(pd.to_numeric(df[features[i]].str[0])))\n",
    "    \n",
    "    x = []\n",
    "    \n",
    "    for i in range(0,len(l[0])):\n",
    "        x.append([])\n",
    "        \n",
    "    for i in range(0,len(l[0])):\n",
    "        for k in range(0,len(features)):\n",
    "            x[i].append(l[k][i])\n",
    "    Y = pd.Series.tolist(df['Climate'])\n",
    "    \n",
    "    return (x,Y)\n",
    "    "
   ]
  },
  {
   "cell_type": "code",
   "execution_count": 574,
   "metadata": {
    "collapsed": false
   },
   "outputs": [
    {
     "data": {
      "text/html": [
       "<div>\n",
       "<table border=\"1\" class=\"dataframe\">\n",
       "  <thead>\n",
       "    <tr style=\"text-align: right;\">\n",
       "      <th>Predicted</th>\n",
       "      <th>A</th>\n",
       "      <th>B</th>\n",
       "      <th>C</th>\n",
       "      <th>D</th>\n",
       "      <th>E</th>\n",
       "    </tr>\n",
       "    <tr>\n",
       "      <th>Actual</th>\n",
       "      <th></th>\n",
       "      <th></th>\n",
       "      <th></th>\n",
       "      <th></th>\n",
       "      <th></th>\n",
       "    </tr>\n",
       "  </thead>\n",
       "  <tbody>\n",
       "    <tr>\n",
       "      <th>A</th>\n",
       "      <td>143</td>\n",
       "      <td>19</td>\n",
       "      <td>13</td>\n",
       "      <td>1</td>\n",
       "      <td>0</td>\n",
       "    </tr>\n",
       "    <tr>\n",
       "      <th>B</th>\n",
       "      <td>22</td>\n",
       "      <td>41</td>\n",
       "      <td>7</td>\n",
       "      <td>4</td>\n",
       "      <td>0</td>\n",
       "    </tr>\n",
       "    <tr>\n",
       "      <th>C</th>\n",
       "      <td>30</td>\n",
       "      <td>25</td>\n",
       "      <td>42</td>\n",
       "      <td>3</td>\n",
       "      <td>0</td>\n",
       "    </tr>\n",
       "    <tr>\n",
       "      <th>D</th>\n",
       "      <td>5</td>\n",
       "      <td>10</td>\n",
       "      <td>17</td>\n",
       "      <td>13</td>\n",
       "      <td>0</td>\n",
       "    </tr>\n",
       "    <tr>\n",
       "      <th>E</th>\n",
       "      <td>0</td>\n",
       "      <td>4</td>\n",
       "      <td>4</td>\n",
       "      <td>3</td>\n",
       "      <td>1</td>\n",
       "    </tr>\n",
       "  </tbody>\n",
       "</table>\n",
       "</div>"
      ],
      "text/plain": [
       "Predicted    A   B   C   D  E\n",
       "Actual                       \n",
       "A          143  19  13   1  0\n",
       "B           22  41   7   4  0\n",
       "C           30  25  42   3  0\n",
       "D            5  10  17  13  0\n",
       "E            0   4   4   3  1"
      ]
     },
     "execution_count": 574,
     "metadata": {},
     "output_type": "execute_result"
    }
   ],
   "source": [
    "#confusion matrix for SVC for One vs Rest Classifier\n",
    "sv_ovr = OneVsRestClassifier(LinearSVC(random_state=0, class_weight='balanced'))\n",
    "sv_ovr.fit(x_phon, y_phon)\n",
    "pred = sv_ovr.predict(x_phon)\n",
    "yn_phon = lb.inverse_transform(y_phon)\n",
    "pred = lb.inverse_transform(pred)\n",
    "y_actu = pd.Series(yn_phon, name='Actual')\n",
    "y_pred = pd.Series(pred, name='Predicted')\n",
    "df_confusion = pd.crosstab(y_actu, y_pred)\n",
    "df_confusion"
   ]
  },
  {
   "cell_type": "code",
   "execution_count": 575,
   "metadata": {
    "collapsed": false
   },
   "outputs": [
    {
     "data": {
      "text/html": [
       "<div>\n",
       "<table border=\"1\" class=\"dataframe\">\n",
       "  <thead>\n",
       "    <tr style=\"text-align: right;\">\n",
       "      <th>Predicted</th>\n",
       "      <th>A</th>\n",
       "      <th>B</th>\n",
       "      <th>C</th>\n",
       "      <th>D</th>\n",
       "      <th>E</th>\n",
       "    </tr>\n",
       "    <tr>\n",
       "      <th>Actual</th>\n",
       "      <th></th>\n",
       "      <th></th>\n",
       "      <th></th>\n",
       "      <th></th>\n",
       "      <th></th>\n",
       "    </tr>\n",
       "  </thead>\n",
       "  <tbody>\n",
       "    <tr>\n",
       "      <th>A</th>\n",
       "      <td>0.812500</td>\n",
       "      <td>0.256757</td>\n",
       "      <td>0.13</td>\n",
       "      <td>0.022222</td>\n",
       "      <td>0.000000</td>\n",
       "    </tr>\n",
       "    <tr>\n",
       "      <th>B</th>\n",
       "      <td>0.125000</td>\n",
       "      <td>0.554054</td>\n",
       "      <td>0.07</td>\n",
       "      <td>0.088889</td>\n",
       "      <td>0.000000</td>\n",
       "    </tr>\n",
       "    <tr>\n",
       "      <th>C</th>\n",
       "      <td>0.170455</td>\n",
       "      <td>0.337838</td>\n",
       "      <td>0.42</td>\n",
       "      <td>0.066667</td>\n",
       "      <td>0.000000</td>\n",
       "    </tr>\n",
       "    <tr>\n",
       "      <th>D</th>\n",
       "      <td>0.028409</td>\n",
       "      <td>0.135135</td>\n",
       "      <td>0.17</td>\n",
       "      <td>0.288889</td>\n",
       "      <td>0.000000</td>\n",
       "    </tr>\n",
       "    <tr>\n",
       "      <th>E</th>\n",
       "      <td>0.000000</td>\n",
       "      <td>0.054054</td>\n",
       "      <td>0.04</td>\n",
       "      <td>0.066667</td>\n",
       "      <td>0.083333</td>\n",
       "    </tr>\n",
       "  </tbody>\n",
       "</table>\n",
       "</div>"
      ],
      "text/plain": [
       "Predicted         A         B     C         D         E\n",
       "Actual                                                 \n",
       "A          0.812500  0.256757  0.13  0.022222  0.000000\n",
       "B          0.125000  0.554054  0.07  0.088889  0.000000\n",
       "C          0.170455  0.337838  0.42  0.066667  0.000000\n",
       "D          0.028409  0.135135  0.17  0.288889  0.000000\n",
       "E          0.000000  0.054054  0.04  0.066667  0.083333"
      ]
     },
     "execution_count": 575,
     "metadata": {},
     "output_type": "execute_result"
    }
   ],
   "source": [
    "#Normalized confusion matrix\n",
    "df_conf_norm = df_confusion / df_confusion.sum(axis=1)\n",
    "df_conf_norm"
   ]
  },
  {
   "cell_type": "code",
   "execution_count": 576,
   "metadata": {
    "collapsed": false
   },
   "outputs": [
    {
     "data": {
      "text/plain": [
       "0.5896805896805897"
      ]
     },
     "execution_count": 576,
     "metadata": {},
     "output_type": "execute_result"
    }
   ],
   "source": [
    "#Simple accuracy measurement\n",
    "c=0\n",
    "for i in range(0, len(pred)):\n",
    "    if pred[i]== yn_phon[i]:\n",
    "        c=c+1\n",
    "c/len(pred)\n"
   ]
  },
  {
   "cell_type": "code",
   "execution_count": 577,
   "metadata": {
    "collapsed": false
   },
   "outputs": [
    {
     "name": "stdout",
     "output_type": "stream",
     "text": [
      "Coefficients for One vs Rest SVM:\n",
      "[[ -1.27051691e-01   3.53472273e-02  -1.62104928e-01  -7.43161361e-02\n",
      "   -2.59453761e-01  -2.15894227e-01  -3.40412830e-01   3.36002123e-01\n",
      "    1.51633167e-01   6.08738136e-01  -2.16879840e-01  -6.24016636e-01\n",
      "   -9.59671890e-02  -2.48821424e-01  -1.04082332e-01   1.23293606e-01\n",
      "    4.08156978e-01   1.79650097e-02  -2.15882517e-01  -7.46266322e-01\n",
      "    4.37511473e-01   4.67876354e-01   2.56162903e-02   4.04299748e-01\n",
      "   -5.07704674e-01  -7.18213246e-01   3.16067913e-01  -2.68939204e-01\n",
      "   -3.19453906e-01  -5.58003313e-02  -5.44496034e-02  -1.55970772e-01\n",
      "   -1.17705153e-01  -2.16621271e-01  -4.61733583e-01   2.74288360e-01\n",
      "   -2.30418456e-01   3.06359422e-01   3.18267711e-01  -1.01543652e+00\n",
      "    1.29135366e+00  -6.52311225e-01   1.88745365e-02  -2.88873690e-01\n",
      "    2.29233678e-01  -1.31885787e-01  -4.25473419e-01]\n",
      " [ -4.63340572e-04  -1.39514224e-01  -2.25045101e-01  -5.13942305e-02\n",
      "    1.34792327e-03   1.07670747e-01   9.45953999e-01  -9.66280392e-01\n",
      "   -5.05109173e-01  -1.23427083e-01  -1.68894111e-01   1.04181938e-01\n",
      "   -2.28277640e-01   1.12535578e-01   1.18350052e-02   5.08645862e-01\n",
      "   -4.75320767e-01   2.55651854e-01   2.81144076e-01  -6.63038872e-01\n",
      "   -4.47869632e-01  -1.61492052e-01   2.59496566e-01  -2.49508619e-01\n",
      "    2.89075727e-01  -5.53988517e-01   1.77175973e-01  -3.55689432e-01\n",
      "   -9.34218906e-01   6.96315470e-01  -1.41107158e-01   5.30655793e-02\n",
      "   -3.28375316e-01   1.54930507e-01  -7.85878110e-01   5.66568035e-01\n",
      "   -1.93260964e-01  -1.58776364e-01  -1.56016911e-01   1.35510448e+00\n",
      "   -1.02863627e+00  -3.84867738e-01   3.76497919e-01  -5.78498377e-01\n",
      "   -5.79770201e-01  -3.44455136e-03   1.66797857e-01]\n",
      " [ -6.76195332e-02  -2.00821783e-01  -3.02036956e-02  -1.32362173e-01\n",
      "    3.68159844e-01   2.36437140e-01  -5.46987575e-01   1.95332333e-01\n",
      "   -6.83948927e-01  -1.90868682e-01   8.53886654e-02   3.68495291e-01\n",
      "   -6.94022459e-01   9.57235530e-02   1.96319366e-01  -4.63116698e-01\n",
      "   -5.36112479e-02   2.06095505e-01  -2.73017208e-01   8.06356408e-01\n",
      "   -9.45756863e-01  -3.41415007e-01  -1.27268330e-01  -9.90360417e-02\n",
      "    1.55206945e-01  -1.84947504e-02   8.53004587e-02   7.47272861e-02\n",
      "    1.49450152e-01  -7.40485081e-01  -2.46405553e-01  -2.94505241e-01\n",
      "    1.09903609e-01   5.45009687e-01  -6.79883873e-01  -4.44350705e-01\n",
      "    4.33605154e-01  -2.85387448e-01   3.87024353e-01  -3.73818914e-01\n",
      "   -1.01809001e+00   6.63229507e-01   3.95224774e-01  -4.84576899e-01\n",
      "   -2.25044451e-01  -1.58235952e-01  -4.77267816e-02]\n",
      " [  1.73523113e-01  -5.65733238e-01   2.73767300e-01  -2.78820994e-01\n",
      "   -8.26361900e-02   3.91361348e-01  -1.07981702e+00  -5.72713132e-01\n",
      "    9.46541178e-01  -2.15866060e-01  -2.04628930e-02  -2.58160080e-01\n",
      "    9.72252131e-02   3.37000947e-01   3.57325172e-01  -7.07713577e-01\n",
      "   -2.28286808e-01  -7.29584557e-01   3.96671803e-01  -5.38127399e-01\n",
      "    7.15450599e-01  -3.44679201e-01  -1.01653912e-01  -1.12415244e-01\n",
      "    1.30016001e-01   3.14685369e-02  -6.98310924e-01  -1.42077354e-01\n",
      "    6.32942373e-01  -1.89817914e-01   4.07708943e-01   3.47846998e-01\n",
      "   -1.15281976e+00   1.66096263e-01   9.68373981e-01  -8.60767568e-01\n",
      "   -3.40450167e-01  -3.30516328e-01   3.33579707e-01  -4.49304621e-01\n",
      "   -6.18448275e-01   6.38977975e-01  -2.05585362e-01  -9.64832423e-02\n",
      "   -8.41667884e-01   1.11414753e-01   3.32989312e-01]\n",
      " [ -3.00548053e-01  -4.33106466e-01   3.89576365e-01  -3.61912611e-01\n",
      "    1.74674954e-01   4.93384775e-01  -7.23316049e-01  -6.50734445e-01\n",
      "    0.00000000e+00  -2.98854198e-01   4.10003859e-01  -1.45092429e+00\n",
      "    6.33783867e-01   1.48951003e-01   6.40038691e-01  -4.96236822e-01\n",
      "   -1.73123573e-01  -1.47843089e-01   1.92690539e-01  -7.86229714e-02\n",
      "   -7.91844543e-01  -4.70039041e-01   5.34163796e-01  -9.69124881e-01\n",
      "    3.95957200e-01  -1.96947838e-01  -1.27887414e-01   7.42242214e-01\n",
      "   -1.28783591e+00  -3.25096579e-02   1.63716625e-01   2.68233395e-02\n",
      "   -8.96530730e-01  -2.84249172e-01   3.43527290e-01  -7.65268883e-01\n",
      "    0.00000000e+00   0.00000000e+00   1.89774960e-01  -2.94707831e-01\n",
      "   -1.47843089e-01  -1.69455359e+00  -3.06719984e-01   1.54805876e+00\n",
      "   -7.51008510e-01  -1.89836024e-01   2.34853769e-01]]\n",
      "\n",
      " Feature ranking:\n"
     ]
    },
    {
     "ename": "IndexError",
     "evalue": "list index out of range",
     "output_type": "error",
     "traceback": [
      "\u001b[0;31m---------------------------------------------------------------------------\u001b[0m",
      "\u001b[0;31mIndexError\u001b[0m                                Traceback (most recent call last)",
      "\u001b[0;32m<ipython-input-577-11a1e983a96b>\u001b[0m in \u001b[0;36m<module>\u001b[0;34m()\u001b[0m\n\u001b[1;32m     21\u001b[0m \u001b[0;34m\u001b[0m\u001b[0m\n\u001b[1;32m     22\u001b[0m \u001b[0;32mfor\u001b[0m \u001b[0mf\u001b[0m \u001b[0;32min\u001b[0m \u001b[0mrange\u001b[0m\u001b[0;34m(\u001b[0m\u001b[0mX\u001b[0m\u001b[0;34m.\u001b[0m\u001b[0mshape\u001b[0m\u001b[0;34m[\u001b[0m\u001b[0;36m1\u001b[0m\u001b[0;34m]\u001b[0m\u001b[0;34m)\u001b[0m\u001b[0;34m:\u001b[0m\u001b[0;34m\u001b[0m\u001b[0m\n\u001b[0;32m---> 23\u001b[0;31m     \u001b[0mprint\u001b[0m\u001b[0;34m(\u001b[0m\u001b[0;34m\"%d. feature %d - %s (%f)\"\u001b[0m \u001b[0;34m%\u001b[0m \u001b[0;34m(\u001b[0m\u001b[0mf\u001b[0m \u001b[0;34m+\u001b[0m \u001b[0;36m1\u001b[0m\u001b[0;34m,\u001b[0m \u001b[0mind\u001b[0m\u001b[0;34m[\u001b[0m\u001b[0mf\u001b[0m\u001b[0;34m]\u001b[0m \u001b[0;34m+\u001b[0m \u001b[0;36m1\u001b[0m\u001b[0;34m,\u001b[0m \u001b[0mphon_feat\u001b[0m\u001b[0;34m[\u001b[0m\u001b[0mind\u001b[0m\u001b[0;34m[\u001b[0m\u001b[0mf\u001b[0m\u001b[0;34m]\u001b[0m\u001b[0;34m]\u001b[0m\u001b[0;34m,\u001b[0m \u001b[0mfeat\u001b[0m\u001b[0;34m[\u001b[0m\u001b[0mind\u001b[0m\u001b[0;34m[\u001b[0m\u001b[0mf\u001b[0m\u001b[0;34m]\u001b[0m\u001b[0;34m]\u001b[0m\u001b[0;34m)\u001b[0m\u001b[0;34m)\u001b[0m\u001b[0;34m\u001b[0m\u001b[0m\n\u001b[0m\u001b[1;32m     24\u001b[0m \u001b[0;34m\u001b[0m\u001b[0m\n\u001b[1;32m     25\u001b[0m \u001b[0mplt\u001b[0m\u001b[0;34m.\u001b[0m\u001b[0mfigure\u001b[0m\u001b[0;34m(\u001b[0m\u001b[0;34m)\u001b[0m\u001b[0;34m\u001b[0m\u001b[0m\n",
      "\u001b[0;31mIndexError\u001b[0m: list index out of range"
     ]
    }
   ],
   "source": [
    "#Feature Importance - for each list j, represents the jth feature vs Rest linear SVM's coefficient\n",
    "\n",
    "sv_ovr.fit(x_phon, y_phon)\n",
    "coef = sv_ovr.coef_\n",
    "\n",
    "\n",
    "print(\"Coefficients for One vs Rest SVM:\")\n",
    "print(coef)\n",
    "a = np.absolute(coef)\n",
    "b = np.sum(a, axis=0)\n",
    "b = np.square(b)\n",
    "s = sum(b)\n",
    "feat = np.true_divide(b,s)\n",
    "feat = np.asarray(feat)\n",
    "\n",
    "ind = np.argsort(feat)[::-1]\n",
    "\n",
    "print(\"\\n Feature ranking:\")\n",
    "\n",
    "X = np.asarray(x_phon)\n",
    "\n",
    "for f in range(X.shape[1]):\n",
    "    print(\"%d. feature %d - %s (%f)\" % (f + 1, ind[f] + 1, phon_feat[ind[f]], feat[ind[f]]))\n",
    "    \n",
    "plt.figure()\n",
    "plt.title(\"Feature importances\")\n",
    "plt.bar(range(X.shape[1]), feat[ind],\n",
    "       color=\"r\", align=\"center\")\n",
    "plt.xticks(range(X.shape[1]), ind+1)\n",
    "plt.xlim([-1, X.shape[1]])\n",
    "plt.show()\n",
    "\n",
    "\n",
    "\n",
    "\n",
    "\n"
   ]
  },
  {
   "cell_type": "code",
   "execution_count": 579,
   "metadata": {
    "collapsed": false
   },
   "outputs": [],
   "source": [
    "#Random Forest Multi-Classification with One Hot Encoding for Climate Vector\n",
    "from sklearn.ensemble import RandomForestClassifier\n",
    "from sklearn.metrics import accuracy_score\n",
    "from sklearn.metrics import confusion_matrix\n",
    "from sklearn.cross_validation import train_test_split\n"
   ]
  },
  {
   "cell_type": "code",
   "execution_count": 578,
   "metadata": {
    "collapsed": false
   },
   "outputs": [],
   "source": [
    "train_x, test_x, train_y, test_y = train_test_split(x_phon, y_phon)"
   ]
  },
  {
   "cell_type": "code",
   "execution_count": 580,
   "metadata": {
    "collapsed": false
   },
   "outputs": [
    {
     "data": {
      "text/plain": [
       "RandomForestClassifier(bootstrap=True, class_weight=None, criterion='gini',\n",
       "            max_depth=None, max_features='auto', max_leaf_nodes=None,\n",
       "            min_samples_leaf=1, min_samples_split=2,\n",
       "            min_weight_fraction_leaf=0.0, n_estimators=10, n_jobs=1,\n",
       "            oob_score=False, random_state=None, verbose=0,\n",
       "            warm_start=False)"
      ]
     },
     "execution_count": 580,
     "metadata": {},
     "output_type": "execute_result"
    }
   ],
   "source": [
    "rfc = RandomForestClassifier()\n",
    "rfc.fit(x_phon, y_phon)"
   ]
  },
  {
   "cell_type": "code",
   "execution_count": 581,
   "metadata": {
    "collapsed": false
   },
   "outputs": [
    {
     "data": {
      "text/plain": [
       "RandomForestClassifier(bootstrap=True, class_weight=None, criterion='gini',\n",
       "            max_depth=None, max_features='auto', max_leaf_nodes=None,\n",
       "            min_samples_leaf=1, min_samples_split=2,\n",
       "            min_weight_fraction_leaf=0.0, n_estimators=10, n_jobs=1,\n",
       "            oob_score=False, random_state=None, verbose=0,\n",
       "            warm_start=False)"
      ]
     },
     "execution_count": 581,
     "metadata": {},
     "output_type": "execute_result"
    }
   ],
   "source": [
    "trained_model = rfc.fit(train_x, train_y)\n",
    "trained_model"
   ]
  },
  {
   "cell_type": "code",
   "execution_count": 582,
   "metadata": {
    "collapsed": false
   },
   "outputs": [
    {
     "name": "stdout",
     "output_type": "stream",
     "text": [
      "Train Accuracy ::  0.790163934426\n",
      "Test Accuracy  ::  0.56862745098\n"
     ]
    }
   ],
   "source": [
    "predictions = trained_model.predict(test_x)\n",
    "test_y = lb.inverse_transform(test_y)\n",
    "predictions = lb.inverse_transform(predictions)\n",
    "print(\"Train Accuracy :: \", accuracy_score(train_y, trained_model.predict(train_x)))\n",
    "print(\"Test Accuracy  :: \", accuracy_score(test_y, predictions))"
   ]
  },
  {
   "cell_type": "code",
   "execution_count": 583,
   "metadata": {
    "collapsed": false
   },
   "outputs": [
    {
     "name": "stdout",
     "output_type": "stream",
     "text": [
      "[ 0.40243902  0.47560976  0.32098765  0.43209877  0.41975309]\n",
      "Accuracy: 0.41 (+/- 0.10)\n"
     ]
    }
   ],
   "source": [
    "#Cross validation for RF 95% Confidence Interval\n",
    "scores = cross_val_score(rfc, x_phon, y_phon, cv=5)\n",
    "print(scores)\n",
    "print(\"Accuracy: %0.2f (+/- %0.2f)\" % (scores.mean(), scores.std() * 2))"
   ]
  },
  {
   "cell_type": "code",
   "execution_count": 584,
   "metadata": {
    "collapsed": false
   },
   "outputs": [
    {
     "data": {
      "text/html": [
       "<div>\n",
       "<table border=\"1\" class=\"dataframe\">\n",
       "  <thead>\n",
       "    <tr style=\"text-align: right;\">\n",
       "      <th>Predicted</th>\n",
       "      <th>A</th>\n",
       "      <th>B</th>\n",
       "      <th>C</th>\n",
       "      <th>D</th>\n",
       "    </tr>\n",
       "    <tr>\n",
       "      <th>Actual</th>\n",
       "      <th></th>\n",
       "      <th></th>\n",
       "      <th></th>\n",
       "      <th></th>\n",
       "    </tr>\n",
       "  </thead>\n",
       "  <tbody>\n",
       "    <tr>\n",
       "      <th>A</th>\n",
       "      <td>46</td>\n",
       "      <td>3</td>\n",
       "      <td>2</td>\n",
       "      <td>1</td>\n",
       "    </tr>\n",
       "    <tr>\n",
       "      <th>B</th>\n",
       "      <td>7</td>\n",
       "      <td>3</td>\n",
       "      <td>2</td>\n",
       "      <td>0</td>\n",
       "    </tr>\n",
       "    <tr>\n",
       "      <th>C</th>\n",
       "      <td>12</td>\n",
       "      <td>2</td>\n",
       "      <td>6</td>\n",
       "      <td>3</td>\n",
       "    </tr>\n",
       "    <tr>\n",
       "      <th>D</th>\n",
       "      <td>8</td>\n",
       "      <td>0</td>\n",
       "      <td>1</td>\n",
       "      <td>3</td>\n",
       "    </tr>\n",
       "    <tr>\n",
       "      <th>E</th>\n",
       "      <td>2</td>\n",
       "      <td>0</td>\n",
       "      <td>0</td>\n",
       "      <td>1</td>\n",
       "    </tr>\n",
       "  </tbody>\n",
       "</table>\n",
       "</div>"
      ],
      "text/plain": [
       "Predicted   A  B  C  D\n",
       "Actual                \n",
       "A          46  3  2  1\n",
       "B           7  3  2  0\n",
       "C          12  2  6  3\n",
       "D           8  0  1  3\n",
       "E           2  0  0  1"
      ]
     },
     "execution_count": 584,
     "metadata": {},
     "output_type": "execute_result"
    }
   ],
   "source": [
    "#Confusion matrix for tested sample\n",
    "#predictions = lb.inverse_transform(predictions)\n",
    "y_actu = pd.Series(test_y, name='Actual')\n",
    "y_pred = pd.Series(predictions, name='Predicted')\n",
    "df_confusion = pd.crosstab(y_actu, y_pred)\n",
    "df_confusion"
   ]
  },
  {
   "cell_type": "code",
   "execution_count": 585,
   "metadata": {
    "collapsed": false
   },
   "outputs": [
    {
     "name": "stdout",
     "output_type": "stream",
     "text": [
      "Feature ranking:\n",
      "47\n",
      "1. feature 10 - 12A Syllable Structure (0.049635)\n"
     ]
    },
    {
     "ename": "IndexError",
     "evalue": "list index out of range",
     "output_type": "error",
     "traceback": [
      "\u001b[0;31m---------------------------------------------------------------------------\u001b[0m",
      "\u001b[0;31mIndexError\u001b[0m                                Traceback (most recent call last)",
      "\u001b[0;32m<ipython-input-585-705bb6b00647>\u001b[0m in \u001b[0;36m<module>\u001b[0;34m()\u001b[0m\n\u001b[1;32m     14\u001b[0m \u001b[0;34m\u001b[0m\u001b[0m\n\u001b[1;32m     15\u001b[0m \u001b[0;32mfor\u001b[0m \u001b[0mf\u001b[0m \u001b[0;32min\u001b[0m \u001b[0mrange\u001b[0m\u001b[0;34m(\u001b[0m\u001b[0;36m0\u001b[0m\u001b[0;34m,\u001b[0m\u001b[0mX\u001b[0m\u001b[0;34m.\u001b[0m\u001b[0mshape\u001b[0m\u001b[0;34m[\u001b[0m\u001b[0;36m1\u001b[0m\u001b[0;34m]\u001b[0m\u001b[0;34m)\u001b[0m\u001b[0;34m:\u001b[0m\u001b[0;34m\u001b[0m\u001b[0m\n\u001b[0;32m---> 16\u001b[0;31m     \u001b[0mprint\u001b[0m\u001b[0;34m(\u001b[0m\u001b[0;34m\"%d. feature %d - %s (%f)\"\u001b[0m \u001b[0;34m%\u001b[0m \u001b[0;34m(\u001b[0m\u001b[0mf\u001b[0m\u001b[0;34m+\u001b[0m\u001b[0;36m1\u001b[0m \u001b[0;34m,\u001b[0m \u001b[0mindices\u001b[0m\u001b[0;34m[\u001b[0m\u001b[0mf\u001b[0m\u001b[0;34m]\u001b[0m \u001b[0;34m+\u001b[0m \u001b[0;36m1\u001b[0m\u001b[0;34m,\u001b[0m \u001b[0mphon_feat\u001b[0m\u001b[0;34m[\u001b[0m\u001b[0mindices\u001b[0m\u001b[0;34m[\u001b[0m\u001b[0mf\u001b[0m\u001b[0;34m]\u001b[0m\u001b[0;34m]\u001b[0m\u001b[0;34m,\u001b[0m \u001b[0mimportances\u001b[0m\u001b[0;34m[\u001b[0m\u001b[0mindices\u001b[0m\u001b[0;34m[\u001b[0m\u001b[0mf\u001b[0m\u001b[0;34m]\u001b[0m\u001b[0;34m]\u001b[0m\u001b[0;34m)\u001b[0m\u001b[0;34m)\u001b[0m\u001b[0;34m\u001b[0m\u001b[0m\n\u001b[0m\u001b[1;32m     17\u001b[0m \u001b[0;34m\u001b[0m\u001b[0m\n\u001b[1;32m     18\u001b[0m \u001b[0mplt\u001b[0m\u001b[0;34m.\u001b[0m\u001b[0mfigure\u001b[0m\u001b[0;34m(\u001b[0m\u001b[0;34m)\u001b[0m\u001b[0;34m\u001b[0m\u001b[0m\n",
      "\u001b[0;31mIndexError\u001b[0m: list index out of range"
     ]
    }
   ],
   "source": [
    "#Feature Importance\n",
    "importances = trained_model.feature_importances_\n",
    "std = np.std([tree.feature_importances_ for tree in trained_model.estimators_],\n",
    "             axis=0)\n",
    "\n",
    "indices = np.argsort(importances)[::-1]\n",
    "\n",
    "\n",
    "# Print the feature ranking\n",
    "print(\"Feature ranking:\")\n",
    "\n",
    "X = np.asarray(x_phon)\n",
    "print(X.shape[1])\n",
    "\n",
    "for f in range(0,X.shape[1]):\n",
    "    print(\"%d. feature %d - %s (%f)\" % (f+1 , indices[f] + 1, phon_feat[indices[f]], importances[indices[f]]))\n",
    "    \n",
    "plt.figure()\n",
    "plt.title(\"Feature importances\")\n",
    "plt.bar(range(X.shape[1]), importances[indices],\n",
    "       color=\"r\", yerr=std[indices], align=\"center\")\n",
    "plt.xticks(range(X.shape[1]), (indices+1))\n",
    "plt.xlim([-1, X.shape[1]])\n",
    "plt.show()"
   ]
  },
  {
   "cell_type": "code",
   "execution_count": 586,
   "metadata": {
    "collapsed": false
   },
   "outputs": [
    {
     "name": "stdout",
     "output_type": "stream",
     "text": [
      "Extra Tree Classifier:\n",
      "[ 0.3902439   0.53658537  0.2962963   0.34567901  0.41975309] \n",
      "\n",
      "Accuracy: 0.40 (+/- 0.16)\n",
      "\n",
      "[ 0.02572544  0.03704512  0.02368171  0.03069451  0.02994998  0.02869715\n",
      "  0.02562418  0.01529028  0.00227215  0.04602641  0.01803989  0.00778922\n",
      "  0.03923758  0.04713277  0.03198354  0.02242687  0.00510122  0.02233459\n",
      "  0.01797931  0.00664019  0.00424649  0.02709146  0.03328461  0.01768033\n",
      "  0.01961109  0.00646486  0.02426875  0.01100588  0.00387151  0.0037816\n",
      "  0.02956107  0.03554607  0.02432232  0.0142861   0.00593969  0.01222264\n",
      "  0.00515674  0.00028016  0.03862991  0.0191633   0.04642865  0.01375523\n",
      "  0.02301109  0.0036275   0.021103    0.0375475   0.03444033]\n",
      "Feature ranking:\n"
     ]
    },
    {
     "ename": "IndexError",
     "evalue": "list index out of range",
     "output_type": "error",
     "traceback": [
      "\u001b[0;31m---------------------------------------------------------------------------\u001b[0m",
      "\u001b[0;31mIndexError\u001b[0m                                Traceback (most recent call last)",
      "\u001b[0;32m<ipython-input-586-3f064b2e3045>\u001b[0m in \u001b[0;36m<module>\u001b[0;34m()\u001b[0m\n\u001b[1;32m     21\u001b[0m \u001b[0;34m\u001b[0m\u001b[0m\n\u001b[1;32m     22\u001b[0m \u001b[0;32mfor\u001b[0m \u001b[0mf\u001b[0m \u001b[0;32min\u001b[0m \u001b[0mrange\u001b[0m\u001b[0;34m(\u001b[0m\u001b[0mX\u001b[0m\u001b[0;34m.\u001b[0m\u001b[0mshape\u001b[0m\u001b[0;34m[\u001b[0m\u001b[0;36m1\u001b[0m\u001b[0;34m]\u001b[0m\u001b[0;34m)\u001b[0m\u001b[0;34m:\u001b[0m\u001b[0;34m\u001b[0m\u001b[0m\n\u001b[0;32m---> 23\u001b[0;31m     \u001b[0mprint\u001b[0m\u001b[0;34m(\u001b[0m\u001b[0;34m\"%d. feature %d - %s (%f)\"\u001b[0m \u001b[0;34m%\u001b[0m \u001b[0;34m(\u001b[0m\u001b[0mf\u001b[0m \u001b[0;34m+\u001b[0m \u001b[0;36m1\u001b[0m\u001b[0;34m,\u001b[0m \u001b[0mindices\u001b[0m\u001b[0;34m[\u001b[0m\u001b[0mf\u001b[0m\u001b[0;34m]\u001b[0m\u001b[0;34m+\u001b[0m\u001b[0;36m1\u001b[0m\u001b[0;34m,\u001b[0m \u001b[0mphon_feat\u001b[0m\u001b[0;34m[\u001b[0m\u001b[0mindices\u001b[0m\u001b[0;34m[\u001b[0m\u001b[0mf\u001b[0m\u001b[0;34m]\u001b[0m\u001b[0;34m]\u001b[0m\u001b[0;34m,\u001b[0m \u001b[0mimportances\u001b[0m\u001b[0;34m[\u001b[0m\u001b[0mindices\u001b[0m\u001b[0;34m[\u001b[0m\u001b[0mf\u001b[0m\u001b[0;34m]\u001b[0m\u001b[0;34m]\u001b[0m\u001b[0;34m)\u001b[0m\u001b[0;34m)\u001b[0m\u001b[0;34m\u001b[0m\u001b[0m\n\u001b[0m\u001b[1;32m     24\u001b[0m \u001b[0;34m\u001b[0m\u001b[0m\n\u001b[1;32m     25\u001b[0m \u001b[0;31m# Plot the feature importances of the forest\u001b[0m\u001b[0;34m\u001b[0m\u001b[0;34m\u001b[0m\u001b[0m\n",
      "\u001b[0;31mIndexError\u001b[0m: list index out of range"
     ]
    }
   ],
   "source": [
    "#Extra Tree Classifier\n",
    "from sklearn.ensemble import ExtraTreesClassifier\n",
    "forest = ExtraTreesClassifier(random_state=0)\n",
    "\n",
    "forest.fit(x_phon, y_phon)\n",
    "\n",
    "etcv = cross_val_score(forest, x_phon, y_phon, cv=5)\n",
    "print(\"Extra Tree Classifier:\")\n",
    "\n",
    "print(etcv,\"\\n\")\n",
    "\n",
    "print(\"Accuracy: %0.2f (+/- %0.2f)\\n\" % (etcv.mean(), etcv.std() * 2))\n",
    "\n",
    "importances = forest.feature_importances_\n",
    "std = np.std([tree.feature_importances_ for tree in forest.estimators_],\n",
    "             axis=0)\n",
    "indices = np.argsort(importances)[::-1]\n",
    "print(importances)\n",
    "# Print the feature ranking\n",
    "print(\"Feature ranking:\")\n",
    "\n",
    "for f in range(X.shape[1]):\n",
    "    print(\"%d. feature %d - %s (%f)\" % (f + 1, indices[f]+1, phon_feat[indices[f]], importances[indices[f]]))\n",
    "\n",
    "# Plot the feature importances of the forest\n",
    "plt.figure()\n",
    "plt.title(\"Feature importances\")\n",
    "plt.bar(range(X.shape[1]), importances[indices],\n",
    "       color=\"r\", yerr=std[indices], align=\"center\")\n",
    "plt.xticks(range(X.shape[1]), indices)\n",
    "plt.xlim([-1, X.shape[1]])\n",
    "plt.show()\n"
   ]
  },
  {
   "cell_type": "code",
   "execution_count": 590,
   "metadata": {
    "collapsed": true
   },
   "outputs": [],
   "source": [
    "#Linear SVM Feature Importance for binary classification Function\n",
    "def svm_feat_imp(clas, xi, yi, feat_names):\n",
    "    clas.fit(xi,yi)\n",
    "    coef = clas.coef_[0]\n",
    "\n",
    "    c = np.absolute(coef)\n",
    "    s = sum(c)\n",
    "    \n",
    "    feat_c = np.true_divide(c,s)\n",
    "    feat_c = np.asarray(feat_c)\n",
    "    \n",
    "    ind = np.argsort(feat_c)[::-1]\n",
    "        \n",
    "    print(\"Feature ranking:\")\n",
    "    \n",
    "    xi = np.asarray(xi)\n",
    "    \n",
    "    print(xi.shape)\n",
    "    print(len(feat_names))\n",
    "    print(len(feat_c))\n",
    "    \n",
    "    for f in range(xi.shape[1]):\n",
    "        print(\"%d. feature %d - %s (%f)\" % (f + 1, ind[f], feat_names[ind[f]], feat_c[ind[f]]))\n",
    "    \n",
    "    plt.figure()\n",
    "    plt.title(\"Feature importances\")\n",
    "    plt.bar(range(xi.shape[1]), feat_c[ind], color=\"r\", align=\"center\")\n",
    "    plt.xticks(range(xi.shape[1]), ind+1)\n",
    "    plt.xlim([-1, xi.shape[1]])\n",
    "    plt.show()\n",
    "    \n",
    "    \n",
    "#RF Feature Importance for binary classification Function\n",
    "def RFC_feat_imp(trained_model, feat, inp):\n",
    "    importances = trained_model.feature_importances_\n",
    "    std = np.std([tree.feature_importances_ for tree in trained_model.estimators_],axis=0)\n",
    "    indices = np.argsort(importances)[::-1]\n",
    "\n",
    "    # Print the feature ranking\n",
    "    print(\"Feature ranking:\")\n",
    "\n",
    "    inp = np.asarray(inp)\n",
    "\n",
    "    for f in range(inp.shape[1]):\n",
    "        print(\"%d. feature %d - %s (%f)\" % (f+1, indices[f], feat[indices[f]], importances[indices[f]]))\n",
    "    \n",
    "    print(indices)\n",
    "    plt.figure()\n",
    "    plt.title(\"Feature importances\")\n",
    "    plt.bar(range(inp.shape[1]), importances[indices],color=\"r\", yerr=std[indices], align=\"center\")\n",
    "    plt.xticks(range(inp.shape[1]), indices)\n",
    "    plt.xlim([-1, inp.shape[1]])\n",
    "    plt.show()\n",
    "    \n",
    "\n",
    "    \n",
    "    "
   ]
  },
  {
   "cell_type": "code",
   "execution_count": 372,
   "metadata": {
    "collapsed": true
   },
   "outputs": [],
   "source": [
    "subsets = [['A','B'],['A','C'],['A','D'],['A','E'],['B','C'],['B','D'],['B','E'],['C','D'],['C','E'],['D','E']]"
   ]
  },
  {
   "cell_type": "code",
   "execution_count": 640,
   "metadata": {
    "collapsed": false
   },
   "outputs": [],
   "source": [
    "#Phonological - Binary Classifications\n",
    "\n",
    "def Clim_let(lst):\n",
    "    \n",
    "    dic ={'A':'TROPICAL','B':'ARID', 'C':'TEMPERATE', 'D': 'COLD', 'E':'POLAR'}\n",
    "    print(dic.get(lst[0]) + \" AND \" + dic.get(lst[1]) + \" - BINARY CLASSIFICATION\")\n",
    "    \n",
    "    \n",
    "\n",
    "#Function that makes binary classification between each individual class for RF and linear SVM with CV and Feature importance for each\n",
    "\n",
    "\n",
    "#Get each individual sample from the data set and put it into lists\n",
    "def binary_clas(df, ft, clim_subs):\n",
    "    \n",
    "    x_lst = []\n",
    "    y_lst = []\n",
    "    for i in range(0, len(subsets)):\n",
    "        x = []\n",
    "        y = []\n",
    "        b_df =  df[(df['Climate'] == str(clim_subs[i][0])) | (df['Climate'] == str(clim_subs[i][1]))]\n",
    "        x,y = df_list(ft, b_df)\n",
    "        x_lst.append(x)\n",
    "        y_lst.append(y)\n",
    "    \n",
    "    #Initialize classifiers\n",
    "    rf = RandomForestClassifier(class_weight = 'balanced')\n",
    "    sv = svm.SVC(kernel= \"linear\", class_weight = 'balanced')\n",
    "    et = ExtraTreesClassifier(random_state=0, class_weight = 'balanced')\n",
    "\n",
    "    for j in range(0,len(y_lst)):\n",
    "        \n",
    "        Clim_let(clim_subs[j])\n",
    "        trained_model = rf.fit(x_lst[j],y_lst[j])\n",
    "        cvsv = cross_val_score(sv, x_lst[j], y_lst[j], cv=4)\n",
    "        \n",
    "        t_m = et.fit(x_lst[j],y_lst[j])\n",
    "        \n",
    "        x_lst[j] = enc.fit_transform(x_lst[j]).toarray()\n",
    "        print(\"Linear SVM Classification C-V:\")\n",
    "        print(cvs)\n",
    "        print(\"Accuracy: %0.2f (+/- %0.2f)\" % (cvsv.mean(), cvsv.std() * 2))\n",
    "        print(\"Linear SVM Feature Importance:\")\n",
    "        #svm_feat_imp(sv, x_lst[j], y_lst[j], ft)\n",
    "        \n",
    "        cvrf = cross_val_score(rf, x_lst[j], y_lst[j], cv=5)\n",
    "        print()\n",
    "        \n",
    "        print(\"Random Forest Classification:\")\n",
    "        \n",
    "        print(cvrf)\n",
    "        print(\"Accuracy: %0.2f (+/- %0.2f)\" % (cvrf.mean(), cvrf.std() * 2))\n",
    "        #RFC_feat_imp(trained_model, ft, x_lst[j])\n",
    "        print()\n",
    "        \n",
    "        print(\"Extra Trees Classification:\")\n",
    "        \n",
    "        etcv = cross_val_score(et, x_lst[j], y_lst[j], cv=5)\n",
    "        print(etcv)\n",
    "        print(\"Accuracy: %0.2f (+/- %0.2f)\" % (etcv.mean(), etcv.std() * 2))\n",
    "        #RFC_feat_imp(t_m, ft, x_lst[j])\n",
    "        \n",
    "        print()\n",
    "        \n",
    "        \n",
    "        \n",
    "    \n",
    "    "
   ]
  },
  {
   "cell_type": "code",
   "execution_count": 639,
   "metadata": {
    "collapsed": false,
    "scrolled": false
   },
   "outputs": [
    {
     "name": "stdout",
     "output_type": "stream",
     "text": [
      "TROPICAL AND ARID - BINARY CLASSIFICATION\n",
      "Linear SVM Classification C-V:\n",
      "[ 0.75    0.5625  0.6875  0.375   0.8   ]\n",
      "Accuracy: 0.60 (+/- 0.07)\n",
      "Linear SVM Feature Importance:\n",
      "Feature ranking:\n",
      "(250, 10)\n",
      "10\n",
      "10\n",
      "1. feature 2 - 6A Uvular Consonants (0.307602)\n",
      "2. feature 9 - 12A Syllable Structure (0.227107)\n",
      "3. feature 4 - 8A Lateral Consonants (0.227107)\n",
      "4. feature 8 - 19A Presence of Uncommon Consonants (0.086836)\n",
      "5. feature 0 - 4A Voicing in Plosives and Fricatives (0.040201)\n",
      "6. feature 5 - 11A Front Rounded Vowels (0.035391)\n",
      "7. feature 1 - 5A Voicing and Gaps in Plosive Systems (0.026749)\n",
      "8. feature 6 - 13A Tone (0.026458)\n",
      "9. feature 3 - 7A Glottalized Consonants (0.022510)\n",
      "10. feature 7 - 18A Absence of Common Consonants (0.000040)\n"
     ]
    },
    {
     "data": {
      "image/png": "[encoded data removed]",
      "text/plain": [
       "<matplotlib.figure.Figure at 0x7f5f6c5692b0>"
      ]
     },
     "metadata": {},
     "output_type": "display_data"
    },
    {
     "name": "stdout",
     "output_type": "stream",
     "text": [
      "\n",
      "Random Forest Classification:\n",
      "[ 0.84313725  0.7         0.68        0.72        0.73469388]\n",
      "Accuracy: 0.74 (+/- 0.11)\n",
      "\n",
      "Extra Trees Classification:\n",
      "[ 0.78431373  0.66        0.7         0.74        0.65306122]\n",
      "Accuracy: 0.71 (+/- 0.10)\n",
      "\n",
      "TROPICAL AND TEMPERATE - BINARY CLASSIFICATION\n",
      "Linear SVM Classification C-V:\n",
      "[ 0.75    0.5625  0.6875  0.375   0.8   ]\n",
      "Accuracy: 0.68 (+/- 0.10)\n",
      "Linear SVM Feature Importance:\n",
      "Feature ranking:\n",
      "(276, 10)\n",
      "10\n",
      "10\n",
      "1. feature 2 - 6A Uvular Consonants (0.272310)\n",
      "2. feature 7 - 18A Absence of Common Consonants (0.167122)\n",
      "3. feature 5 - 11A Front Rounded Vowels (0.124399)\n",
      "4. feature 9 - 12A Syllable Structure (0.124224)\n",
      "5. feature 1 - 5A Voicing and Gaps in Plosive Systems (0.118197)\n",
      "6. feature 4 - 8A Lateral Consonants (0.094708)\n",
      "7. feature 3 - 7A Glottalized Consonants (0.047392)\n",
      "8. feature 6 - 13A Tone (0.023834)\n",
      "9. feature 0 - 4A Voicing in Plosives and Fricatives (0.017873)\n",
      "10. feature 8 - 19A Presence of Uncommon Consonants (0.009941)\n"
     ]
    },
    {
     "data": {
      "image/png": "[encoded data removed]",
      "text/plain": [
       "<matplotlib.figure.Figure at 0x7f5f6c569710>"
      ]
     },
     "metadata": {},
     "output_type": "display_data"
    },
    {
     "name": "stdout",
     "output_type": "stream",
     "text": [
      "\n",
      "Random Forest Classification:\n",
      "[ 0.69642857  0.83636364  0.65454545  0.6         0.69090909]\n",
      "Accuracy: 0.70 (+/- 0.16)\n",
      "\n",
      "Extra Trees Classification:\n",
      "[ 0.66071429  0.81818182  0.58181818  0.63636364  0.65454545]\n",
      "Accuracy: 0.67 (+/- 0.16)\n",
      "\n",
      "TROPICAL AND COLD - BINARY CLASSIFICATION\n",
      "Linear SVM Classification C-V:\n",
      "[ 0.75    0.5625  0.6875  0.375   0.8   ]\n",
      "Accuracy: 0.85 (+/- 0.04)\n",
      "Linear SVM Feature Importance:\n",
      "Feature ranking:\n",
      "(221, 10)\n",
      "10\n",
      "10\n",
      "1. feature 9 - 12A Syllable Structure (0.175659)\n",
      "2. feature 2 - 6A Uvular Consonants (0.175649)\n",
      "3. feature 5 - 11A Front Rounded Vowels (0.175577)\n",
      "4. feature 4 - 8A Lateral Consonants (0.133029)\n",
      "5. feature 6 - 13A Tone (0.097725)\n",
      "6. feature 1 - 5A Voicing and Gaps in Plosive Systems (0.082084)\n",
      "7. feature 7 - 18A Absence of Common Consonants (0.066526)\n",
      "8. feature 3 - 7A Glottalized Consonants (0.038974)\n",
      "9. feature 0 - 4A Voicing in Plosives and Fricatives (0.031267)\n",
      "10. feature 8 - 19A Presence of Uncommon Consonants (0.023510)\n"
     ]
    },
    {
     "data": {
      "image/png": "[encoded data removed]",
      "text/plain": [
       "<matplotlib.figure.Figure at 0x7f5f6e48be10>"
      ]
     },
     "metadata": {},
     "output_type": "display_data"
    },
    {
     "name": "stdout",
     "output_type": "stream",
     "text": [
      "\n",
      "Random Forest Classification:\n",
      "[ 0.91111111  0.88636364  0.90909091  0.93181818  0.81818182]\n",
      "Accuracy: 0.89 (+/- 0.08)\n",
      "\n",
      "Extra Trees Classification:\n",
      "[ 0.93333333  0.84090909  0.86363636  0.93181818  0.86363636]\n",
      "Accuracy: 0.89 (+/- 0.08)\n",
      "\n",
      "TROPICAL AND POLAR - BINARY CLASSIFICATION\n",
      "Linear SVM Classification C-V:\n",
      "[ 0.75    0.5625  0.6875  0.375   0.8   ]\n",
      "Accuracy: 0.91 (+/- 0.04)\n",
      "Linear SVM Feature Importance:\n",
      "Feature ranking:\n",
      "(188, 10)\n",
      "10\n",
      "10\n",
      "1. feature 2 - 6A Uvular Consonants (0.292665)\n",
      "2. feature 5 - 11A Front Rounded Vowels (0.188695)\n",
      "3. feature 9 - 12A Syllable Structure (0.173042)\n",
      "4. feature 6 - 13A Tone (0.087457)\n",
      "5. feature 7 - 18A Absence of Common Consonants (0.084988)\n",
      "6. feature 1 - 5A Voicing and Gaps in Plosive Systems (0.073521)\n",
      "7. feature 0 - 4A Voicing in Plosives and Fricatives (0.050611)\n",
      "8. feature 3 - 7A Glottalized Consonants (0.041294)\n",
      "9. feature 8 - 19A Presence of Uncommon Consonants (0.004625)\n",
      "10. feature 4 - 8A Lateral Consonants (0.003101)\n"
     ]
    },
    {
     "data": {
      "image/png": "[encoded data removed]",
      "text/plain": [
       "<matplotlib.figure.Figure at 0x7f5f784309e8>"
      ]
     },
     "metadata": {},
     "output_type": "display_data"
    },
    {
     "name": "stdout",
     "output_type": "stream",
     "text": [
      "\n",
      "Random Forest Classification:\n",
      "[ 0.97435897  0.92105263  0.91891892  0.94594595  1.        ]\n",
      "Accuracy: 0.95 (+/- 0.06)\n",
      "\n",
      "Extra Trees Classification:\n",
      "[ 0.97435897  0.94736842  0.94594595  0.97297297  1.        ]\n",
      "Accuracy: 0.97 (+/- 0.04)\n",
      "\n",
      "ARID AND TEMPERATE - BINARY CLASSIFICATION\n",
      "Linear SVM Classification C-V:\n",
      "[ 0.75    0.5625  0.6875  0.375   0.8   ]\n",
      "Accuracy: 0.61 (+/- 0.04)\n",
      "Linear SVM Feature Importance:\n",
      "Feature ranking:\n",
      "(174, 10)\n",
      "10\n",
      "10\n",
      "1. feature 7 - 18A Absence of Common Consonants (0.315925)\n",
      "2. feature 1 - 5A Voicing and Gaps in Plosive Systems (0.292324)\n",
      "3. feature 5 - 11A Front Rounded Vowels (0.130612)\n",
      "4. feature 8 - 19A Presence of Uncommon Consonants (0.073051)\n",
      "5. feature 6 - 13A Tone (0.062834)\n",
      "6. feature 2 - 6A Uvular Consonants (0.041637)\n",
      "7. feature 3 - 7A Glottalized Consonants (0.036538)\n",
      "8. feature 4 - 8A Lateral Consonants (0.031413)\n",
      "9. feature 0 - 4A Voicing in Plosives and Fricatives (0.015666)\n",
      "10. feature 9 - 12A Syllable Structure (0.000000)\n"
     ]
    },
    {
     "data": {
      "image/png": "[encoded data removed]",
      "text/plain": [
       "<matplotlib.figure.Figure at 0x7f5f6e3cf198>"
      ]
     },
     "metadata": {},
     "output_type": "display_data"
    },
    {
     "name": "stdout",
     "output_type": "stream",
     "text": [
      "\n",
      "Random Forest Classification:\n",
      "[ 0.57142857  0.71428571  0.62857143  0.65714286  0.70588235]\n",
      "Accuracy: 0.66 (+/- 0.11)\n",
      "\n",
      "Extra Trees Classification:\n",
      "[ 0.62857143  0.68571429  0.6         0.62857143  0.61764706]\n",
      "Accuracy: 0.63 (+/- 0.06)\n",
      "\n",
      "ARID AND COLD - BINARY CLASSIFICATION\n",
      "Linear SVM Classification C-V:\n",
      "[ 0.75    0.5625  0.6875  0.375   0.8   ]\n",
      "Accuracy: 0.62 (+/- 0.14)\n",
      "Linear SVM Feature Importance:\n",
      "Feature ranking:\n",
      "(119, 10)\n",
      "10\n",
      "10\n",
      "1. feature 5 - 11A Front Rounded Vowels (0.252507)\n",
      "2. feature 6 - 13A Tone (0.181348)\n",
      "3. feature 7 - 18A Absence of Common Consonants (0.129397)\n",
      "4. feature 2 - 6A Uvular Consonants (0.116329)\n",
      "5. feature 1 - 5A Voicing and Gaps in Plosive Systems (0.093945)\n",
      "6. feature 9 - 12A Syllable Structure (0.093918)\n",
      "7. feature 4 - 8A Lateral Consonants (0.058811)\n",
      "8. feature 8 - 19A Presence of Uncommon Consonants (0.031419)\n",
      "9. feature 3 - 7A Glottalized Consonants (0.025863)\n",
      "10. feature 0 - 4A Voicing in Plosives and Fricatives (0.016465)\n"
     ]
    },
    {
     "data": {
      "image/png": "[encoded data removed]",
      "text/plain": [
       "<matplotlib.figure.Figure at 0x7f5f77371710>"
      ]
     },
     "metadata": {},
     "output_type": "display_data"
    },
    {
     "name": "stdout",
     "output_type": "stream",
     "text": [
      "\n",
      "Random Forest Classification:\n",
      "[ 0.625       0.625       0.79166667  0.66666667  0.7826087 ]\n",
      "Accuracy: 0.70 (+/- 0.15)\n",
      "\n",
      "Extra Trees Classification:\n",
      "[ 0.66666667  0.66666667  0.70833333  0.75        0.73913043]\n",
      "Accuracy: 0.71 (+/- 0.07)\n",
      "\n",
      "ARID AND POLAR - BINARY CLASSIFICATION\n",
      "Linear SVM Classification C-V:\n",
      "[ 0.75    0.5625  0.6875  0.375   0.8   ]\n",
      "Accuracy: 0.72 (+/- 0.24)\n",
      "Linear SVM Feature Importance:\n",
      "Feature ranking:\n",
      "(86, 10)\n",
      "10\n",
      "10\n",
      "1. feature 5 - 11A Front Rounded Vowels (0.319235)\n",
      "2. feature 1 - 5A Voicing and Gaps in Plosive Systems (0.127669)\n",
      "3. feature 6 - 13A Tone (0.127469)\n",
      "4. feature 7 - 18A Absence of Common Consonants (0.123570)\n",
      "5. feature 2 - 6A Uvular Consonants (0.103721)\n",
      "6. feature 9 - 12A Syllable Structure (0.079782)\n",
      "7. feature 0 - 4A Voicing in Plosives and Fricatives (0.039865)\n",
      "8. feature 4 - 8A Lateral Consonants (0.034553)\n",
      "9. feature 8 - 19A Presence of Uncommon Consonants (0.031902)\n",
      "10. feature 3 - 7A Glottalized Consonants (0.012234)\n"
     ]
    },
    {
     "data": {
      "image/png": "[encoded data removed]",
      "text/plain": [
       "<matplotlib.figure.Figure at 0x7f5f6c806c50>"
      ]
     },
     "metadata": {},
     "output_type": "display_data"
    },
    {
     "name": "stdout",
     "output_type": "stream",
     "text": [
      "\n",
      "Random Forest Classification:\n",
      "[ 0.83333333  0.77777778  0.88235294  0.94117647  0.9375    ]\n",
      "Accuracy: 0.87 (+/- 0.12)\n",
      "\n",
      "Extra Trees Classification:\n",
      "[ 0.88888889  0.83333333  0.88235294  0.88235294  0.875     ]\n",
      "Accuracy: 0.87 (+/- 0.04)\n",
      "\n",
      "TEMPERATE AND COLD - BINARY CLASSIFICATION\n",
      "Linear SVM Classification C-V:\n",
      "[ 0.75    0.5625  0.6875  0.375   0.8   ]\n",
      "Accuracy: 0.68 (+/- 0.26)\n",
      "Linear SVM Feature Importance:\n",
      "Feature ranking:\n",
      "(145, 10)\n",
      "10\n",
      "10\n",
      "1. feature 9 - 12A Syllable Structure (0.338557)\n",
      "2. feature 5 - 11A Front Rounded Vowels (0.191598)\n",
      "3. feature 6 - 13A Tone (0.140629)\n",
      "4. feature 2 - 6A Uvular Consonants (0.095732)\n",
      "5. feature 4 - 8A Lateral Consonants (0.089972)\n",
      "6. feature 1 - 5A Voicing and Gaps in Plosive Systems (0.079336)\n",
      "7. feature 3 - 7A Glottalized Consonants (0.040961)\n",
      "8. feature 8 - 19A Presence of Uncommon Consonants (0.011684)\n",
      "9. feature 0 - 4A Voicing in Plosives and Fricatives (0.011520)\n",
      "10. feature 7 - 18A Absence of Common Consonants (0.000010)\n"
     ]
    },
    {
     "data": {
      "image/png": "[encoded data removed]",
      "text/plain": [
       "<matplotlib.figure.Figure at 0x7f5f6e74a940>"
      ]
     },
     "metadata": {},
     "output_type": "display_data"
    },
    {
     "name": "stdout",
     "output_type": "stream",
     "text": [
      "\n",
      "Random Forest Classification:\n",
      "[ 0.55172414  0.4137931   0.68965517  0.75862069  0.72413793]\n",
      "Accuracy: 0.63 (+/- 0.26)\n",
      "\n",
      "Extra Trees Classification:\n",
      "[ 0.51724138  0.34482759  0.72413793  0.62068966  0.65517241]\n",
      "Accuracy: 0.57 (+/- 0.26)\n",
      "\n",
      "TEMPERATE AND POLAR - BINARY CLASSIFICATION\n",
      "Linear SVM Classification C-V:\n",
      "[ 0.75    0.5625  0.6875  0.375   0.8   ]\n",
      "Accuracy: 0.76 (+/- 0.14)\n",
      "Linear SVM Feature Importance:\n",
      "Feature ranking:\n",
      "(112, 10)\n",
      "10\n",
      "10\n",
      "1. feature 5 - 11A Front Rounded Vowels (0.204976)\n",
      "2. feature 9 - 12A Syllable Structure (0.180905)\n",
      "3. feature 6 - 13A Tone (0.180053)\n",
      "4. feature 2 - 6A Uvular Consonants (0.139757)\n",
      "5. feature 0 - 4A Voicing in Plosives and Fricatives (0.102498)\n",
      "6. feature 1 - 5A Voicing and Gaps in Plosive Systems (0.069081)\n",
      "7. feature 7 - 18A Absence of Common Consonants (0.057191)\n",
      "8. feature 3 - 7A Glottalized Consonants (0.042870)\n",
      "9. feature 8 - 19A Presence of Uncommon Consonants (0.022650)\n",
      "10. feature 4 - 8A Lateral Consonants (0.000017)\n"
     ]
    },
    {
     "data": {
      "image/png": "[encoded data removed]",
      "text/plain": [
       "<matplotlib.figure.Figure at 0x7f5f6e74aa20>"
      ]
     },
     "metadata": {},
     "output_type": "display_data"
    },
    {
     "name": "stdout",
     "output_type": "stream",
     "text": [
      "\n",
      "Random Forest Classification:\n",
      "[ 0.91304348  0.86956522  0.86363636  0.86363636  0.90909091]\n",
      "Accuracy: 0.88 (+/- 0.04)\n",
      "\n",
      "Extra Trees Classification:\n",
      "[ 0.86956522  0.86956522  0.86363636  0.90909091  0.95454545]\n",
      "Accuracy: 0.89 (+/- 0.07)\n",
      "\n",
      "COLD AND POLAR - BINARY CLASSIFICATION\n",
      "Linear SVM Classification C-V:\n",
      "[ 0.75    0.5625  0.6875  0.375   0.8   ]\n",
      "Accuracy: 0.56 (+/- 0.24)\n",
      "Linear SVM Feature Importance:\n",
      "Feature ranking:\n",
      "(57, 10)\n",
      "10\n",
      "10\n",
      "1. feature 0 - 4A Voicing in Plosives and Fricatives (0.240155)\n",
      "2. feature 3 - 7A Glottalized Consonants (0.234034)\n",
      "3. feature 1 - 5A Voicing and Gaps in Plosive Systems (0.189047)\n",
      "4. feature 6 - 13A Tone (0.131292)\n",
      "5. feature 2 - 6A Uvular Consonants (0.086946)\n",
      "6. feature 7 - 18A Absence of Common Consonants (0.073411)\n",
      "7. feature 9 - 12A Syllable Structure (0.031376)\n",
      "8. feature 8 - 19A Presence of Uncommon Consonants (0.010335)\n",
      "9. feature 5 - 11A Front Rounded Vowels (0.003314)\n",
      "10. feature 4 - 8A Lateral Consonants (0.000090)\n"
     ]
    },
    {
     "data": {
      "image/png": "[encoded data removed]",
      "text/plain": [
       "<matplotlib.figure.Figure at 0x7f5f6c522748>"
      ]
     },
     "metadata": {},
     "output_type": "display_data"
    },
    {
     "name": "stdout",
     "output_type": "stream",
     "text": [
      "\n",
      "Random Forest Classification:\n",
      "[ 0.91666667  0.75        0.63636364  0.72727273  0.81818182]\n",
      "Accuracy: 0.77 (+/- 0.19)\n",
      "\n",
      "Extra Trees Classification:\n",
      "[ 0.83333333  0.75        0.63636364  0.72727273  0.72727273]\n",
      "Accuracy: 0.73 (+/- 0.13)\n",
      "\n"
     ]
    }
   ],
   "source": [
    "#Phonological - Binary Classifications\n",
    "\n",
    "#Binary classification for each climate\n",
    "binary_clas(phon_df, phon_feat, subsets)\n"
   ]
  },
  {
   "cell_type": "code",
   "execution_count": null,
   "metadata": {
    "collapsed": true
   },
   "outputs": [],
   "source": []
  },
  {
   "cell_type": "code",
   "execution_count": 641,
   "metadata": {
    "collapsed": false
   },
   "outputs": [
    {
     "name": "stdout",
     "output_type": "stream",
     "text": [
      "TROPICAL AND ARID - BINARY CLASSIFICATION\n",
      "Linear SVM Classification C-V:\n",
      "[ 0.75    0.5625  0.6875  0.375   0.8   ]\n",
      "Accuracy: 0.60 (+/- 0.07)\n",
      "Linear SVM Feature Importance:\n",
      "\n",
      "Random Forest Classification:\n",
      "[ 0.8627451  0.64       0.74       0.76       0.7755102]\n",
      "Accuracy: 0.76 (+/- 0.14)\n",
      "\n",
      "Extra Trees Classification:\n",
      "[ 0.82352941  0.72        0.7         0.76        0.7755102 ]\n",
      "Accuracy: 0.76 (+/- 0.09)\n",
      "\n",
      "TROPICAL AND TEMPERATE - BINARY CLASSIFICATION\n",
      "Linear SVM Classification C-V:\n",
      "[ 0.75    0.5625  0.6875  0.375   0.8   ]\n",
      "Accuracy: 0.68 (+/- 0.10)\n",
      "Linear SVM Feature Importance:\n",
      "\n",
      "Random Forest Classification:\n",
      "[ 0.75        0.90909091  0.67272727  0.67272727  0.78181818]\n",
      "Accuracy: 0.76 (+/- 0.17)\n",
      "\n",
      "Extra Trees Classification:\n",
      "[ 0.69642857  0.83636364  0.65454545  0.65454545  0.69090909]\n",
      "Accuracy: 0.71 (+/- 0.13)\n",
      "\n",
      "TROPICAL AND COLD - BINARY CLASSIFICATION\n",
      "Linear SVM Classification C-V:\n",
      "[ 0.75    0.5625  0.6875  0.375   0.8   ]\n",
      "Accuracy: 0.85 (+/- 0.04)\n",
      "Linear SVM Feature Importance:\n",
      "\n",
      "Random Forest Classification:\n",
      "[ 0.95555556  0.86363636  0.90909091  0.90909091  0.86363636]\n",
      "Accuracy: 0.90 (+/- 0.07)\n",
      "\n",
      "Extra Trees Classification:\n",
      "[ 0.93333333  0.90909091  0.86363636  0.90909091  0.84090909]\n",
      "Accuracy: 0.89 (+/- 0.07)\n",
      "\n",
      "TROPICAL AND POLAR - BINARY CLASSIFICATION\n",
      "Linear SVM Classification C-V:\n",
      "[ 0.75    0.5625  0.6875  0.375   0.8   ]\n",
      "Accuracy: 0.91 (+/- 0.04)\n",
      "Linear SVM Feature Importance:\n",
      "\n",
      "Random Forest Classification:\n",
      "[ 0.94871795  0.97368421  0.91891892  0.94594595  0.97297297]\n",
      "Accuracy: 0.95 (+/- 0.04)\n",
      "\n",
      "Extra Trees Classification:\n",
      "[ 0.97435897  0.94736842  0.91891892  0.97297297  1.        ]\n",
      "Accuracy: 0.96 (+/- 0.06)\n",
      "\n",
      "ARID AND TEMPERATE - BINARY CLASSIFICATION\n",
      "Linear SVM Classification C-V:\n",
      "[ 0.75    0.5625  0.6875  0.375   0.8   ]\n",
      "Accuracy: 0.61 (+/- 0.04)\n",
      "Linear SVM Feature Importance:\n",
      "\n",
      "Random Forest Classification:\n",
      "[ 0.68571429  0.68571429  0.62857143  0.8         0.70588235]\n",
      "Accuracy: 0.70 (+/- 0.11)\n",
      "\n",
      "Extra Trees Classification:\n",
      "[ 0.65714286  0.74285714  0.62857143  0.65714286  0.67647059]\n",
      "Accuracy: 0.67 (+/- 0.08)\n",
      "\n",
      "ARID AND COLD - BINARY CLASSIFICATION\n",
      "Linear SVM Classification C-V:\n",
      "[ 0.75    0.5625  0.6875  0.375   0.8   ]\n",
      "Accuracy: 0.62 (+/- 0.14)\n",
      "Linear SVM Feature Importance:\n",
      "\n",
      "Random Forest Classification:\n",
      "[ 0.58333333  0.66666667  0.66666667  0.66666667  0.69565217]\n",
      "Accuracy: 0.66 (+/- 0.08)\n",
      "\n",
      "Extra Trees Classification:\n",
      "[ 0.625       0.54166667  0.75        0.79166667  0.73913043]\n",
      "Accuracy: 0.69 (+/- 0.18)\n",
      "\n",
      "ARID AND POLAR - BINARY CLASSIFICATION\n",
      "Linear SVM Classification C-V:\n",
      "[ 0.75    0.5625  0.6875  0.375   0.8   ]\n",
      "Accuracy: 0.72 (+/- 0.24)\n",
      "Linear SVM Feature Importance:\n",
      "\n",
      "Random Forest Classification:\n",
      "[ 0.94444444  0.83333333  0.88235294  0.88235294  0.8125    ]\n",
      "Accuracy: 0.87 (+/- 0.09)\n",
      "\n",
      "Extra Trees Classification:\n",
      "[ 0.83333333  0.83333333  0.94117647  0.94117647  0.9375    ]\n",
      "Accuracy: 0.90 (+/- 0.10)\n",
      "\n",
      "TEMPERATE AND COLD - BINARY CLASSIFICATION\n",
      "Linear SVM Classification C-V:\n",
      "[ 0.75    0.5625  0.6875  0.375   0.8   ]\n",
      "Accuracy: 0.68 (+/- 0.26)\n",
      "Linear SVM Feature Importance:\n",
      "\n",
      "Random Forest Classification:\n",
      "[ 0.65517241  0.34482759  0.72413793  0.62068966  0.68965517]\n",
      "Accuracy: 0.61 (+/- 0.27)\n",
      "\n",
      "Extra Trees Classification:\n",
      "[ 0.51724138  0.34482759  0.65517241  0.5862069   0.68965517]\n",
      "Accuracy: 0.56 (+/- 0.24)\n",
      "\n",
      "TEMPERATE AND POLAR - BINARY CLASSIFICATION\n",
      "Linear SVM Classification C-V:\n",
      "[ 0.75    0.5625  0.6875  0.375   0.8   ]\n",
      "Accuracy: 0.76 (+/- 0.14)\n",
      "Linear SVM Feature Importance:\n",
      "\n",
      "Random Forest Classification:\n",
      "[ 0.82608696  0.86956522  0.86363636  0.90909091  0.95454545]\n",
      "Accuracy: 0.88 (+/- 0.09)\n",
      "\n",
      "Extra Trees Classification:\n",
      "[ 0.86956522  0.86956522  0.86363636  0.90909091  0.95454545]\n",
      "Accuracy: 0.89 (+/- 0.07)\n",
      "\n",
      "COLD AND POLAR - BINARY CLASSIFICATION\n",
      "Linear SVM Classification C-V:\n",
      "[ 0.75    0.5625  0.6875  0.375   0.8   ]\n",
      "Accuracy: 0.56 (+/- 0.24)\n",
      "Linear SVM Feature Importance:\n",
      "\n",
      "Random Forest Classification:\n",
      "[ 0.75        0.75        0.72727273  0.90909091  0.90909091]\n",
      "Accuracy: 0.81 (+/- 0.16)\n",
      "\n",
      "Extra Trees Classification:\n",
      "[ 0.83333333  0.75        0.63636364  0.72727273  0.72727273]\n",
      "Accuracy: 0.73 (+/- 0.13)\n",
      "\n"
     ]
    }
   ],
   "source": [
    "binary_clas(phon_df, phon_feat, subsets)\n"
   ]
  },
  {
   "cell_type": "code",
   "execution_count": 646,
   "metadata": {
    "collapsed": false
   },
   "outputs": [
    {
     "name": "stdout",
     "output_type": "stream",
     "text": [
      "Linear SVM Classification C-V:\n",
      "[ 0.75    0.5625  0.6875  0.375   0.8   ]\n",
      "Accuracy: 0.71 (+/- 0.10)\n",
      "Linear SVM Feature Importance:\n",
      "\n",
      "Random Forest Classification:\n",
      "[ 0.70731707  0.82926829  0.64197531  0.66666667  0.72839506]\n",
      "Accuracy: 0.71 (+/- 0.13)\n",
      "\n",
      "Extra Trees Classification:\n",
      "[ 0.69512195  0.84146341  0.60493827  0.69135802  0.72839506]\n",
      "Accuracy: 0.71 (+/- 0.15)\n"
     ]
    }
   ],
   "source": [
    "#Binary GROUP Classification\n",
    "#Tropical,Arid (F) vs Temperate, Cold, Polar (G)\n",
    "\n",
    "y_ = lb.inverse_transform(y_phon)\n",
    "for l in range(0,len(y_)):\n",
    "    if y_[l]=='A' or y_[l]=='B':\n",
    "        y_[l] = 'F'\n",
    "    else:\n",
    "        y_[l] = 'G'\n",
    "#print(y_)\n",
    "x_phon\n",
    "rf = RandomForestClassifier(class_weight = 'balanced')\n",
    "sv = svm.SVC(kernel= \"linear\", class_weight = 'balanced')\n",
    "et = ExtraTreesClassifier(random_state=0, class_weight = 'balanced')\n",
    "trained_model = rf.fit(x_phon,y_)\n",
    "cvsv = cross_val_score(sv, x_phon, y_, cv=5)\n",
    "t_m = et.fit(x_phon, y_)\n",
    "print(\"Linear SVM Classification C-V:\")\n",
    "print(cvs)\n",
    "print(\"Accuracy: %0.2f (+/- %0.2f)\" % (cvsv.mean(), cvsv.std() * 2))\n",
    "print(\"Linear SVM Feature Importance:\")\n",
    "#svm_feat_imp(sv, x_phon, trg, features)\n",
    "cvrf = cross_val_score(rf, x_phon, y_, cv=5)\n",
    "print()\n",
    "print(\"Random Forest Classification:\")\n",
    "print(cvrf)\n",
    "print(\"Accuracy: %0.2f (+/- %0.2f)\" % (cvrf.mean(), cvrf.std() * 2))\n",
    "#RFC_feat_imp(trained_model, features, X)\n",
    "print()\n",
    "print(\"Extra Trees Classification:\")\n",
    "etcv = cross_val_score(et, x_phon, y_, cv=5)\n",
    "print(etcv)\n",
    "print(\"Accuracy: %0.2f (+/- %0.2f)\" % (etcv.mean(), etcv.std() * 2))\n",
    "#RFC_feat_imp(t_m, features, x_phon)\n"
   ]
  },
  {
   "cell_type": "code",
   "execution_count": 647,
   "metadata": {
    "collapsed": false
   },
   "outputs": [
    {
     "name": "stdout",
     "output_type": "stream",
     "text": [
      "Linear SVM Classification C-V:\n",
      "[ 0.75    0.5625  0.6875  0.375   0.8   ]\n",
      "Accuracy: 0.67 (+/- 0.06)\n",
      "Linear SVM Feature Importance:\n",
      "\n",
      "Random Forest Classification:\n",
      "[ 0.74698795  0.66666667  0.7037037   0.75308642  0.65432099]\n",
      "Accuracy: 0.70 (+/- 0.08)\n",
      "\n",
      "Extra Trees Classification:\n",
      "[ 0.72289157  0.69135802  0.71604938  0.72839506  0.75308642]\n",
      "Accuracy: 0.72 (+/- 0.04)\n"
     ]
    }
   ],
   "source": [
    "#Binary Group Classification\n",
    "#Arid,Cold,Polar(H) vs Tropical,Temperate(I)\n",
    "y_ = lb.inverse_transform(y_phon)\n",
    "for l in range(0,len(y_)):\n",
    "    if y_[l]=='A' or y_[l]=='C':\n",
    "        y_[l] = 'H'\n",
    "    else:\n",
    "        y_[l] = 'I'\n",
    "#print(y_)\n",
    "rf = RandomForestClassifier(class_weight = 'balanced')\n",
    "sv = svm.SVC(kernel= \"linear\", class_weight = 'balanced')\n",
    "et = ExtraTreesClassifier(random_state=0, class_weight = 'balanced')\n",
    "trained_model = rf.fit(x_phon,y_)\n",
    "cvsv = cross_val_score(sv, x_phon, y_, cv=5)\n",
    "t_m = et.fit(x_phon, y_)\n",
    "print(\"Linear SVM Classification C-V:\")\n",
    "print(cvs)\n",
    "print(\"Accuracy: %0.2f (+/- %0.2f)\" % (cvsv.mean(), cvsv.std() * 2))\n",
    "print(\"Linear SVM Feature Importance:\")\n",
    "#svm_feat_imp(sv, x_phon, trg, features)\n",
    "cvrf = cross_val_score(rf, x_phon, y_, cv=5)\n",
    "print()\n",
    "print(\"Random Forest Classification:\")\n",
    "print(cvrf)\n",
    "print(\"Accuracy: %0.2f (+/- %0.2f)\" % (cvrf.mean(), cvrf.std() * 2))\n",
    "#RFC_feat_imp(trained_model, features, x_phon)\n",
    "print()\n",
    "print(\"Extra Trees Classification:\")\n",
    "etcv = cross_val_score(et, x_phon, y_, cv=5)\n",
    "print(etcv)\n",
    "print(\"Accuracy: %0.2f (+/- %0.2f)\" % (etcv.mean(), etcv.std() * 2))\n",
    "#RFC_feat_imp(t_m, features, x_phon)\n"
   ]
  },
  {
   "cell_type": "code",
   "execution_count": 649,
   "metadata": {
    "collapsed": false
   },
   "outputs": [
    {
     "name": "stdout",
     "output_type": "stream",
     "text": [
      "Linear SVM Classification C-V:\n",
      "[ 0.75    0.5625  0.6875  0.375   0.8   ]\n",
      "Accuracy: 0.57 (+/- 0.08)\n",
      "Linear SVM Feature Importance:\n",
      "\n",
      "Random Forest Classification:\n",
      "[ 0.56097561  0.63414634  0.51219512  0.55555556  0.65      ]\n",
      "Accuracy: 0.58 (+/- 0.10)\n",
      "\n",
      "Extra Trees Classification:\n",
      "[ 0.57317073  0.64634146  0.48780488  0.56790123  0.65      ]\n",
      "Accuracy: 0.59 (+/- 0.12)\n"
     ]
    }
   ],
   "source": [
    "#Binary Group Classification\n",
    "#Arid,Temperate(J) vs Tropical,Cold,Polar(K)\n",
    "y_ = lb.inverse_transform(y_phon)\n",
    "for l in range(0,len(y_)):\n",
    "    if y_[l]=='B' or y_[l]=='C':\n",
    "        y_[l] = 'J'\n",
    "    else:\n",
    "        y_[l] = 'K'\n",
    "\n",
    "rf = RandomForestClassifier(class_weight = 'balanced')\n",
    "sv = svm.SVC(kernel= \"linear\", class_weight = 'balanced')\n",
    "et = ExtraTreesClassifier(random_state=0, class_weight = 'balanced')\n",
    "trained_model = rf.fit(x_phon, y_ )\n",
    "cvsv = cross_val_score(sv, x_phon, y_ , cv=5)\n",
    "t_m = et.fit(x_phon, y_ )\n",
    "print(\"Linear SVM Classification C-V:\")\n",
    "print(cvs)\n",
    "print(\"Accuracy: %0.2f (+/- %0.2f)\" % (cvsv.mean(), cvsv.std() * 2))\n",
    "print(\"Linear SVM Feature Importance:\")\n",
    "#svm_feat_imp(sv, X, trg, features)\n",
    "cvrf = cross_val_score(rf, X, y_, cv=5)\n",
    "print()\n",
    "print(\"Random Forest Classification:\")\n",
    "print(cvrf)\n",
    "print(\"Accuracy: %0.2f (+/- %0.2f)\" % (cvrf.mean(), cvrf.std() * 2))\n",
    "#RFC_feat_imp(trained_model, features, X)\n",
    "print()\n",
    "print(\"Extra Trees Classification:\")\n",
    "etcv = cross_val_score(et, X, y_, cv=5)\n",
    "print(etcv)\n",
    "print(\"Accuracy: %0.2f (+/- %0.2f)\" % (etcv.mean(), etcv.std() * 2))\n",
    "#RFC_feat_imp(t_m, features, X)"
   ]
  },
  {
   "cell_type": "code",
   "execution_count": 445,
   "metadata": {
    "collapsed": false
   },
   "outputs": [
    {
     "name": "stdout",
     "output_type": "stream",
     "text": [
      "A - Tropical: 29\n",
      "B - Arid: 18\n",
      "C - Temperate: 29\n",
      "D - Cold: 12\n",
      "E - Polar: 3\n",
      "91\n"
     ]
    }
   ],
   "source": [
    "#PREPROCCESSING FOR MORPHOLOGY\n",
    "#Same classification procedure for 8 Morphology Features - 23A, 24A, 25A, 25B, 26A, 27A, 28A, 29A\n",
    "\n",
    "df2 = lang_df[lang_df['23A Locus of Marking in the Clause'].notnull() & lang_df['24A Locus of Marking in Possessive Noun Phrases'].notnull() & lang_df['25A Locus of Marking: Whole-language Typology'].notnull() & lang_df['25B Zero Marking of A and P Arguments'].notnull()& lang_df['26A Prefixing vs. Suffixing in Inflectional Morphology'].notnull() \n",
    "& lang_df['27A Reduplication'].notnull() & lang_df['28A Case Syncretism'].notnull() & lang_df['29A Syncretism in Verbal Person/Number Marking'].notnull()]\n",
    "\n",
    "ft = ['23A Locus of Marking in the Clause','24A Locus of Marking in Possessive Noun Phrases','25A Locus of Marking: Whole-language Typology','25B Zero Marking of A and P Arguments','26A Prefixing vs. Suffixing in Inflectional Morphology', '27A Reduplication', '28A Case Syncretism', '29A Syncretism in Verbal Person/Number Marking']\n",
    "#pre-proccesing\n",
    "#F,P = df_list(df2,ft)\n",
    "Cl= pd.Series.tolist(df2['Climate'])\n",
    "stats_out(Cl)\n",
    "print(len(Cl))\n",
    "\n",
    "\n"
   ]
  },
  {
   "cell_type": "code",
   "execution_count": 227,
   "metadata": {
    "collapsed": false
   },
   "outputs": [],
   "source": [
    "#One v Rest SVM linear classifier and Cross-Validation with OHE for Climate \n",
    "classify = OneVsRestClassifier(estimator=SVC(random_state=0))\n",
    "\n",
    "predic = classify.fit(F, P).predict(F)\n"
   ]
  },
  {
   "cell_type": "code",
   "execution_count": 228,
   "metadata": {
    "collapsed": false
   },
   "outputs": [
    {
     "data": {
      "text/html": [
       "<div>\n",
       "<table border=\"1\" class=\"dataframe\">\n",
       "  <thead>\n",
       "    <tr style=\"text-align: right;\">\n",
       "      <th>Predicted</th>\n",
       "      <th>1</th>\n",
       "      <th>2</th>\n",
       "      <th>3</th>\n",
       "      <th>4</th>\n",
       "      <th>5</th>\n",
       "    </tr>\n",
       "    <tr>\n",
       "      <th>Actual</th>\n",
       "      <th></th>\n",
       "      <th></th>\n",
       "      <th></th>\n",
       "      <th></th>\n",
       "      <th></th>\n",
       "    </tr>\n",
       "  </thead>\n",
       "  <tbody>\n",
       "    <tr>\n",
       "      <th>1</th>\n",
       "      <td>26</td>\n",
       "      <td>1</td>\n",
       "      <td>2</td>\n",
       "      <td>0</td>\n",
       "      <td>0</td>\n",
       "    </tr>\n",
       "    <tr>\n",
       "      <th>2</th>\n",
       "      <td>4</td>\n",
       "      <td>11</td>\n",
       "      <td>3</td>\n",
       "      <td>0</td>\n",
       "      <td>0</td>\n",
       "    </tr>\n",
       "    <tr>\n",
       "      <th>3</th>\n",
       "      <td>5</td>\n",
       "      <td>1</td>\n",
       "      <td>23</td>\n",
       "      <td>0</td>\n",
       "      <td>0</td>\n",
       "    </tr>\n",
       "    <tr>\n",
       "      <th>4</th>\n",
       "      <td>2</td>\n",
       "      <td>1</td>\n",
       "      <td>3</td>\n",
       "      <td>6</td>\n",
       "      <td>0</td>\n",
       "    </tr>\n",
       "    <tr>\n",
       "      <th>5</th>\n",
       "      <td>0</td>\n",
       "      <td>0</td>\n",
       "      <td>0</td>\n",
       "      <td>0</td>\n",
       "      <td>3</td>\n",
       "    </tr>\n",
       "  </tbody>\n",
       "</table>\n",
       "</div>"
      ],
      "text/plain": [
       "Predicted   1   2   3  4  5\n",
       "Actual                     \n",
       "1          26   1   2  0  0\n",
       "2           4  11   3  0  0\n",
       "3           5   1  23  0  0\n",
       "4           2   1   3  6  0\n",
       "5           0   0   0  0  3"
      ]
     },
     "execution_count": 228,
     "metadata": {},
     "output_type": "execute_result"
    }
   ],
   "source": [
    "y_actu = pd.Series(P, name='Actual')\n",
    "y_pred = pd.Series(predic, name='Predicted')\n",
    "confusion = pd.crosstab(y_actu, y_pred)\n",
    "confusion"
   ]
  },
  {
   "cell_type": "code",
   "execution_count": 229,
   "metadata": {
    "collapsed": false
   },
   "outputs": [
    {
     "data": {
      "text/plain": [
       "0.7582417582417582"
      ]
     },
     "execution_count": 229,
     "metadata": {},
     "output_type": "execute_result"
    }
   ],
   "source": [
    "#Simple accuracy of SVM\n",
    "c=0\n",
    "for i in range(0, len(P)):\n",
    "    if P[i]== predic[i]:\n",
    "        c=c+1\n",
    "c/len(P)\n"
   ]
  },
  {
   "cell_type": "code",
   "execution_count": 496,
   "metadata": {
    "collapsed": false
   },
   "outputs": [],
   "source": [
    "#Random Forest for Morphology\n",
    "\n"
   ]
  },
  {
   "cell_type": "code",
   "execution_count": null,
   "metadata": {
    "collapsed": false
   },
   "outputs": [],
   "source": [
    "predictions = trained_mod.predict(test_f)\n",
    "print(\"Train Accuracy :: \", accuracy_score(train_p, trained_mod.predict(train_f)))\n",
    "print(\"Test Accuracy  :: \", accuracy_score(test_p, predictions))"
   ]
  },
  {
   "cell_type": "code",
   "execution_count": null,
   "metadata": {
    "collapsed": false
   },
   "outputs": [],
   "source": [
    "#Feature Importance\n",
    "importances = trained_mod.feature_importances_\n",
    "std = np.std([tree.feature_importances_ for tree in trained_mod.estimators_],\n",
    "             axis=0)\n",
    "indices = np.argsort(importances)[::-1]\n",
    "\n",
    "# Print the feature ranking\n",
    "print(\"Feature ranking:\")\n",
    "\n",
    "F = np.asarray(F)\n",
    "\n",
    "for f in range(F.shape[1]):\n",
    "    print(\"%d. feature %d - %s (%f)\" % (f + 1, indices[f] , features[indices[f]], importances[indices[f]]))\n",
    "    \n",
    "print(indices)\n",
    "plt.figure()\n",
    "plt.title(\"Feature importances\")\n",
    "plt.bar(range(F.shape[1]), importances[indices],\n",
    "       color=\"r\", yerr=std[indices], align=\"center\")\n",
    "plt.xticks(range(F.shape[1]), indices)\n",
    "plt.xlim([-1, F.shape[1]])\n",
    "plt.show()"
   ]
  },
  {
   "cell_type": "code",
   "execution_count": 491,
   "metadata": {
    "collapsed": false
   },
   "outputs": [],
   "source": [
    "binary_clas(df2, ft, subsets)"
   ]
  },
  {
   "cell_type": "code",
   "execution_count": null,
   "metadata": {
    "collapsed": true
   },
   "outputs": [],
   "source": []
  }
 ],
 "metadata": {
  "kernelspec": {
   "display_name": "Python 3",
   "language": "python",
   "name": "python3"
  },
  "language_info": {
   "codemirror_mode": {
    "name": "ipython",
    "version": 3
   },
   "file_extension": ".py",
   "mimetype": "text/x-python",
   "name": "python",
   "nbconvert_exporter": "python",
   "pygments_lexer": "ipython3",
   "version": "3.4.3"
  }
 },
 "nbformat": 4,
 "nbformat_minor": 1
}
