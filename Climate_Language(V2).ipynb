{
 "cells": [
  {
   "cell_type": "code",
   "execution_count": 3,
   "metadata": {
    "collapsed": false
   },
   "outputs": [],
   "source": [
    "#Project for Quantitative Criticism Lab (UT Austin)\n",
    "#Elias Sanchez\n",
    "#DATASET USED : WORLD ATLAS OF LANGUAGE STRUCTURE (WALS) (WEBSITE: http://wals.info/)\n",
    "\n",
    "import pandas as pd\n",
    "import numpy as np\n",
    "import csv\n",
    "import math as m\n",
    "import matplotlib.pyplot as plt"
   ]
  },
  {
   "cell_type": "code",
   "execution_count": 4,
   "metadata": {
    "collapsed": false
   },
   "outputs": [],
   "source": [
    "# Converts WALS coordinate data n to nearest n.25 or n.75 in order to search for classification\n",
    "def rco(num):\n",
    "    n = num-int(num)\n",
    "    if n<=0.5:\n",
    "        return (int(num)+ 0.25)\n",
    "    else:\n",
    "        return(int(num)+0.75)"
   ]
  },
  {
   "cell_type": "code",
   "execution_count": 5,
   "metadata": {
    "collapsed": false
   },
   "outputs": [],
   "source": [
    "#Auxilary binary search function\n",
    "def binary(alist, item):\n",
    "    if len(alist) == 0:\n",
    "        return (-1)\n",
    "    else:\n",
    "        midpoint = len(alist)//2\n",
    "        if alist[midpoint]==item:\n",
    "          return (midpoint)\n",
    "        else:\n",
    "          if item<alist[midpoint]:\n",
    "            return binary(alist[:midpoint],item)\n",
    "          else:\n",
    "            return binary(alist[midpoint+1:],item)"
   ]
  },
  {
   "cell_type": "code",
   "execution_count": 6,
   "metadata": {
    "collapsed": false
   },
   "outputs": [],
   "source": [
    "lang_df = pd.read_csv('language.csv', encoding = 'ISO-8859-1')"
   ]
  },
  {
   "cell_type": "code",
   "execution_count": 7,
   "metadata": {
    "collapsed": false
   },
   "outputs": [],
   "source": [
    "#koppen_1901-2010.tsv contains a file with latitude and longitudes that are close to .25 and .75 that gives the climate\n",
    "koppen = np.genfromtxt(\"koppen_1901-2010.tsv\", dtype=None, names=True)"
   ]
  },
  {
   "cell_type": "code",
   "execution_count": 8,
   "metadata": {
    "collapsed": false
   },
   "outputs": [],
   "source": [
    "#Translate longitude and latitude to Climate use binary search to look for num. coordinates\n",
    "Clim = []\n",
    "for i in range(0, len(lang_df)):\n",
    "    s = 0\n",
    "    if rco(lang_df['longitude'][i]) == -179.75:\n",
    "        s = 0\n",
    "    else:\n",
    "        #binary search in first columns\n",
    "        long = rco(lang_df['longitude'][i]) - 0.5\n",
    "        s = binary(koppen['longitude'],long)\n",
    "    \n",
    "    if s==-1:\n",
    "            Clim.append(str(\"NaN\"))\n",
    "            print(i)\n",
    "    else:\n",
    "        j=s\n",
    "        lat = rco(lang_df['latitude'][i])\n",
    "        lon = rco(lang_df['longitude'][i])\n",
    "        \n",
    "        while bool(lat == koppen['latitude'][j] and lon== koppen['longitude'][j])==False and bool(koppen['longitude'][j]< lon+1)==True:\n",
    "            j=j+1\n",
    "            if j== len(koppen['latitude'])-1:\n",
    "                break\n",
    "        \n",
    "        if rco(lang_df['latitude'][i])== koppen['latitude'][j] and rco(lang_df['longitude'][i])==koppen['longitude'][j]:\n",
    "            Clim.append(str(koppen['p1901_2010'][j]))\n",
    "        else:\n",
    "            Clim.append(\"NaN\")\n",
    "                                                                       \n",
    "        "
   ]
  },
  {
   "cell_type": "code",
   "execution_count": 481,
   "metadata": {
    "collapsed": false
   },
   "outputs": [],
   "source": [
    "k = np.asarray(Clim)\n",
    "k = k.tolist()\n",
    "\n",
    "#get first letter of Koppen classification\n",
    "for i in range(0, len(k)):\n",
    "    if k[i]!='NaN':\n",
    "        k[i] = k[i][2]\n",
    "\n",
    "lang_df[\"Climate\"] = k\n",
    "# drop languages that where unale to be classified with Koppen\n",
    "lang_df = lang_df[lang_df.Climate != 'NaN']"
   ]
  },
  {
   "cell_type": "code",
   "execution_count": 489,
   "metadata": {
    "collapsed": false
   },
   "outputs": [],
   "source": [
    "#Testing features on Phonology Area - Drop rows with null values\n",
    "df1 = lang_df[lang_df['1A Consonant Inventories'].notnull() & lang_df['2A Vowel Quality Inventories'].notnull() & lang_df['3A Consonant-Vowel Ratio'].notnull() & lang_df['4A Voicing in Plosives and Fricatives'].notnull()& lang_df['13A Tone'].notnull() \n",
    "& lang_df['18A Absence of Common Consonants'].notnull() & lang_df['7A Glottalized Consonants'].notnull() & lang_df['8A Lateral Consonants'].notnull() & lang_df['9A The Velar Nasal'].notnull()& lang_df['10A Vowel Nasalization'].notnull()]\n",
    "features = ['1A Consonant Inventories', '2A Vowel Quality Inventories', '3A Consonant-Vowel Ratio', '4A Voicing in Plosives and Fricatives', '13A Tone', '18A Absence of Common Consonants', '7A Glottalized Consonants', '8A Lateral Consonants', '9A The Velar Nasal', '10A Vowel Nasalization']\n",
    "col = ['Name', '1A Consonant Inventories', '2A Vowel Quality Inventories', '3A Consonant-Vowel Ratio', '4A Voicing in Plosives and Fricatives', '13A Tone', '18A Absence of Common Consonants', '7A Glottalized Consonants', '8A Lateral_Consonants', '9A The Velar Nasal', '10A Vowel Nasalization', 'Climate']\n",
    "\n",
    "#Target Vector\n",
    "trg = df1['Climate']\n",
    "trg = trg.tolist()"
   ]
  },
  {
   "cell_type": "code",
   "execution_count": 91,
   "metadata": {
    "collapsed": false
   },
   "outputs": [
    {
     "name": "stdout",
     "output_type": "stream",
     "text": [
      "A - Tropical: 1036\n",
      "B - Arid: 344\n",
      "C - Temperate: 553\n",
      "D - Cold: 234\n",
      "E - Polar: 68\n",
      "2235\n"
     ]
    }
   ],
   "source": [
    "#Basic Ststistic for Output vector function Distribution of Climate languages for WALS data set (General)\n",
    "def stats_out(Y):\n",
    "    A=0\n",
    "    B=0\n",
    "    C=0\n",
    "    D=0\n",
    "    E=0\n",
    "    for i in range(0,len(Y)):\n",
    "        if Y[i] == 'A':\n",
    "            A+=1\n",
    "        elif Y[i] == 'B':\n",
    "            B+=1\n",
    "        elif Y[i] == 'C':\n",
    "            C+=1\n",
    "        elif Y[i] == 'D':\n",
    "            D+=1\n",
    "        elif Y[i] == 'E':\n",
    "            E+=1\n",
    "    print(\"A - Tropical: \" + str(A) )\n",
    "    print(\"B - Arid: \" + str(B) )\n",
    "    print(\"C - Temperate: \" + str(C) )\n",
    "    print(\"D - Cold: \" + str(D) )\n",
    "    print(\"E - Polar: \" + str(E) )\n",
    "\n",
    "#Distribution of Climate languages for WALS data set (General)\n",
    "\n",
    "Cl= pd.Series.tolist(lang_df['Climate'])\n",
    "stats_out(Cl)\n",
    "print(len(Cl))\n",
    "    "
   ]
  },
  {
   "cell_type": "code",
   "execution_count": 14,
   "metadata": {
    "collapsed": false
   },
   "outputs": [],
   "source": [
    "from matplotlib import pyplot as plt\n",
    "from sklearn import svm\n",
    "\n",
    "def f_importances(coef, names):\n",
    "    imp = coef\n",
    "    \n",
    "    plt.barh(range(len(names)), imp, align='center')\n",
    "    plt.yticks(range(len(names)), names)\n",
    "    plt.show()\n"
   ]
  },
  {
   "cell_type": "code",
   "execution_count": 1,
   "metadata": {
    "collapsed": true
   },
   "outputs": [],
   "source": [
    "#Pandas DF and Features to X-feature list and Y-vector (Climate)\n",
    "\n",
    "def df_list(features, df):\n",
    "    l = []\n",
    "    for i in range(0, len(features)):\n",
    "        l.append(pd.Series.tolist(pd.to_numeric(df[features[i]].str[0])))\n",
    "    \n",
    "    x = []\n",
    "    \n",
    "    for i in range(0,len(l[0])):\n",
    "        x.append([])\n",
    "        \n",
    "    for i in range(0,len(l[0])):\n",
    "        for k in range(0,len(features)):\n",
    "            x[i].append(l[k][i])\n",
    "    Y = pd.Series.tolist(df['Climate'])\n",
    "    \n",
    "    return (x,Y)\n",
    "    "
   ]
  },
  {
   "cell_type": "code",
   "execution_count": 486,
   "metadata": {
    "collapsed": false
   },
   "outputs": [
    {
     "name": "stdout",
     "output_type": "stream",
     "text": [
      "A - Tropical: 45\n",
      "B - Arid: 27\n",
      "C - Temperate: 34\n",
      "D - Cold: 18\n",
      "E - Polar: 4\n"
     ]
    }
   ],
   "source": [
    "#Morphological data subset statistics\n",
    "stats_out(trg)\n"
   ]
  },
  {
   "cell_type": "code",
   "execution_count": 492,
   "metadata": {
    "collapsed": false
   },
   "outputs": [
    {
     "name": "stdout",
     "output_type": "stream",
     "text": [
      "C-V scores, Method 1  - OHE : \n",
      "[ 0.0625  0.125   0.0625  0.1875]\n",
      "C-V scores, Method 1  - non-OHE : \n",
      "[ 0.03125  0.       0.09375  0.1875 ]\n",
      "C-V scores, Method 2  - OHE :\n",
      "[ 0.17647059  0.21212121  0.12903226  0.3       ]\n",
      "Accuracy for C-V (95 CI) , Method 1  - OHE : 0.11 (+/- 0.10)\n",
      "Accuracy for C-V (95 CI), Method 2  - OHE : 0.08 (+/- 0.14)\n",
      "Accuracy for C-V (95 CI), Method 2  - Label Encoding : 0.20 (+/- 0.13)\n"
     ]
    }
   ],
   "source": [
    "#run SVC - One-vs.-rest\n",
    "from sklearn.svm import SVC\n",
    "from sklearn.multiclass import OneVsRestClassifier\n",
    "from sklearn.cross_validation import cross_val_score\n",
    "from sklearn import preprocessing\n",
    "from sklearn.preprocessing import LabelBinarizer\n",
    "from sklearn.svm import LinearSVC\n",
    "\n",
    "# I thought svm.SVC(kernel= \"linear\", decision_function_shape='ovr') vs OneVsRestClassifier(LinearSVC(random_state=0))\n",
    "# where equivalent methods, but give different results\n",
    "\n",
    "#Convert DF to lists for processing \n",
    "X,Y = a,b = df_list(features, df1)\n",
    "\n",
    "#OHE for \n",
    "lb = preprocessing.LabelBinarizer()\n",
    "lb.fit(Y)\n",
    "y = lb.transform(Y)\n",
    "le = preprocessing.LabelEncoder()\n",
    "le.fit(Y)\n",
    "ye = le.transform(Y)\n",
    "\n",
    "#Method 1\n",
    "sv_ovr = OneVsRestClassifier(LinearSVC(random_state=0, class_weight='balanced'))\n",
    "\n",
    "#Method 2\n",
    "\n",
    "svmm = OneVsRestClassifier(svm.SVC(kernel= \"linear\", class_weight='balanced'))\n",
    "\n",
    "#reduced cv to 4 because in this subdataset there were only 4 samples for polar\n",
    "scores_1 = cross_val_score(sv_ovr, X, y, cv=4)\n",
    "scores_2 = cross_val_score(svmm, X, y, cv=4)\n",
    "#I don't think svm.SVC allows for OHE, and only does label encoding\n",
    "scores_3 = cross_val_score(svmm, X, Y, cv=4)\n",
    "\n",
    "print(\"C-V scores, Method 1  - OHE : \")\n",
    "print(scores_1)\n",
    "print(\"C-V scores, Method 1  - non-OHE : \")\n",
    "print(scores_2)\n",
    "print(\"C-V scores, Method 2  - OHE :\")\n",
    "print(scores_3)\n",
    "\n",
    "#95 percent Confidence Interval\n",
    "print(\"Accuracy for C-V (95 CI) , Method 1  - OHE : %0.2f (+/- %0.2f)\" % (scores_1.mean(), scores_1.std() * 2))\n",
    "print(\"Accuracy for C-V (95 CI), Method 2  - OHE : %0.2f (+/- %0.2f)\" % (scores_2.mean(), scores_2.std() * 2))\n",
    "print(\"Accuracy for C-V (95 CI), Method 2  - Label Encoding : %0.2f (+/- %0.2f)\" % (scores_3.mean(), scores_3.std() * 2))\n"
   ]
  },
  {
   "cell_type": "code",
   "execution_count": 494,
   "metadata": {
    "collapsed": false
   },
   "outputs": [
    {
     "data": {
      "text/html": [
       "<div>\n",
       "<table border=\"1\" class=\"dataframe\">\n",
       "  <thead>\n",
       "    <tr style=\"text-align: right;\">\n",
       "      <th>Predicted</th>\n",
       "      <th>A</th>\n",
       "      <th>B</th>\n",
       "      <th>C</th>\n",
       "      <th>D</th>\n",
       "    </tr>\n",
       "    <tr>\n",
       "      <th>Actual</th>\n",
       "      <th></th>\n",
       "      <th></th>\n",
       "      <th></th>\n",
       "      <th></th>\n",
       "    </tr>\n",
       "  </thead>\n",
       "  <tbody>\n",
       "    <tr>\n",
       "      <th>A</th>\n",
       "      <td>12</td>\n",
       "      <td>1</td>\n",
       "      <td>0</td>\n",
       "      <td>1</td>\n",
       "    </tr>\n",
       "    <tr>\n",
       "      <th>B</th>\n",
       "      <td>4</td>\n",
       "      <td>0</td>\n",
       "      <td>1</td>\n",
       "      <td>0</td>\n",
       "    </tr>\n",
       "    <tr>\n",
       "      <th>C</th>\n",
       "      <td>6</td>\n",
       "      <td>1</td>\n",
       "      <td>1</td>\n",
       "      <td>0</td>\n",
       "    </tr>\n",
       "    <tr>\n",
       "      <th>D</th>\n",
       "      <td>3</td>\n",
       "      <td>0</td>\n",
       "      <td>2</td>\n",
       "      <td>0</td>\n",
       "    </tr>\n",
       "  </tbody>\n",
       "</table>\n",
       "</div>"
      ],
      "text/plain": [
       "Predicted   A  B  C  D\n",
       "Actual                \n",
       "A          12  1  0  1\n",
       "B           4  0  1  0\n",
       "C           6  1  1  0\n",
       "D           3  0  2  0"
      ]
     },
     "execution_count": 494,
     "metadata": {},
     "output_type": "execute_result"
    }
   ],
   "source": [
    "#confusion matrix for SVC for One vs Rest Classifier\n",
    "y_actu = pd.Series(Y, name='Actual')\n",
    "y_pred = pd.Series(pred, name='Predicted')\n",
    "df_confusion = pd.crosstab(y_actu, y_pred)\n",
    "df_confusion"
   ]
  },
  {
   "cell_type": "code",
   "execution_count": 113,
   "metadata": {
    "collapsed": false
   },
   "outputs": [
    {
     "data": {
      "text/html": [
       "<div>\n",
       "<table border=\"1\" class=\"dataframe\">\n",
       "  <thead>\n",
       "    <tr style=\"text-align: right;\">\n",
       "      <th>Predicted</th>\n",
       "      <th>A</th>\n",
       "      <th>B</th>\n",
       "      <th>C</th>\n",
       "      <th>D</th>\n",
       "      <th>E</th>\n",
       "    </tr>\n",
       "    <tr>\n",
       "      <th>Actual</th>\n",
       "      <th></th>\n",
       "      <th></th>\n",
       "      <th></th>\n",
       "      <th></th>\n",
       "      <th></th>\n",
       "    </tr>\n",
       "  </thead>\n",
       "  <tbody>\n",
       "    <tr>\n",
       "      <th>A</th>\n",
       "      <td>0.955556</td>\n",
       "      <td>0.037037</td>\n",
       "      <td>0.029412</td>\n",
       "      <td>0.000000</td>\n",
       "      <td>0.0</td>\n",
       "    </tr>\n",
       "    <tr>\n",
       "      <th>B</th>\n",
       "      <td>0.266667</td>\n",
       "      <td>0.370370</td>\n",
       "      <td>0.147059</td>\n",
       "      <td>0.000000</td>\n",
       "      <td>0.0</td>\n",
       "    </tr>\n",
       "    <tr>\n",
       "      <th>C</th>\n",
       "      <td>0.155556</td>\n",
       "      <td>0.074074</td>\n",
       "      <td>0.647059</td>\n",
       "      <td>0.166667</td>\n",
       "      <td>0.0</td>\n",
       "    </tr>\n",
       "    <tr>\n",
       "      <th>D</th>\n",
       "      <td>0.133333</td>\n",
       "      <td>0.000000</td>\n",
       "      <td>0.117647</td>\n",
       "      <td>0.444444</td>\n",
       "      <td>0.0</td>\n",
       "    </tr>\n",
       "    <tr>\n",
       "      <th>E</th>\n",
       "      <td>0.000000</td>\n",
       "      <td>0.000000</td>\n",
       "      <td>0.000000</td>\n",
       "      <td>0.000000</td>\n",
       "      <td>1.0</td>\n",
       "    </tr>\n",
       "  </tbody>\n",
       "</table>\n",
       "</div>"
      ],
      "text/plain": [
       "Predicted         A         B         C         D    E\n",
       "Actual                                                \n",
       "A          0.955556  0.037037  0.029412  0.000000  0.0\n",
       "B          0.266667  0.370370  0.147059  0.000000  0.0\n",
       "C          0.155556  0.074074  0.647059  0.166667  0.0\n",
       "D          0.133333  0.000000  0.117647  0.444444  0.0\n",
       "E          0.000000  0.000000  0.000000  0.000000  1.0"
      ]
     },
     "execution_count": 113,
     "metadata": {},
     "output_type": "execute_result"
    }
   ],
   "source": [
    "#Normalized confusion matrix\n",
    "df_conf_norm = df_confusion / df_confusion.sum(axis=1)\n",
    "df_conf_norm"
   ]
  },
  {
   "cell_type": "code",
   "execution_count": 114,
   "metadata": {
    "collapsed": false
   },
   "outputs": [
    {
     "data": {
      "text/plain": [
       "0.6796875"
      ]
     },
     "execution_count": 114,
     "metadata": {},
     "output_type": "execute_result"
    }
   ],
   "source": [
    "#Simple accuracy measurement\n",
    "c=0\n",
    "for i in range(0, len(Y)):\n",
    "    if Y[i]== pred[i]:\n",
    "        c=c+1\n",
    "c/len(Y)\n",
    "    "
   ]
  },
  {
   "cell_type": "code",
   "execution_count": 115,
   "metadata": {
    "collapsed": false
   },
   "outputs": [
    {
     "data": {
      "text/plain": [
       "0.55033844572016111"
      ]
     },
     "execution_count": 115,
     "metadata": {},
     "output_type": "execute_result"
    }
   ],
   "source": [
    "#Cohen's Kappa Score\n",
    "from sklearn.metrics import cohen_kappa_score\n",
    "cohen_kappa_score(y_actu, y_pred)"
   ]
  },
  {
   "cell_type": "code",
   "execution_count": null,
   "metadata": {
    "collapsed": true
   },
   "outputs": [],
   "source": [
    "#auxilary function for ranking each Linear SVM\n",
    "def feat_ovr_imp(coeff):\n",
    "    "
   ]
  },
  {
   "cell_type": "code",
   "execution_count": 136,
   "metadata": {
    "collapsed": false
   },
   "outputs": [
    {
     "name": "stdout",
     "output_type": "stream",
     "text": [
      "Coefficients for One vs Rest SVM:\n",
      "[[-0.13162049  0.36661985  0.01518856 -0.03857059  0.12495317  0.46412589\n",
      "  -0.01263335 -0.20098693  0.05168871 -0.12549144]\n",
      " [ 0.08672288 -0.0996722   0.02064281 -0.05925609  0.12408313 -0.09254101\n",
      "  -0.0292931  -0.08166603  0.01315186 -0.02376793]\n",
      " [-0.01804417 -0.26176664 -0.11028506  0.1353091  -0.14678621 -0.26451282\n",
      "   0.07335827  0.1286131  -0.09413336 -0.10237569]\n",
      " [ 0.02270375  0.01372145  0.0358003  -0.0142202  -0.12344039 -0.62060102\n",
      "   0.02316542  0.06346887  0.04064786  0.16777648]\n",
      " [ 0.37259768 -0.10435963  0.31375729 -0.31869476 -0.18944206 -0.38890577\n",
      "  -0.67561593  0.86678041 -1.05686296 -0.36504276]]\n",
      "\n",
      " Feature ranking:\n",
      "1. feature 6 - 18A Absence of Common Consonants (0.328852)\n",
      "2. feature 8 - 8A Lateral_Consonants (0.176589)\n",
      "3. feature 9 - 9A The Velar Nasal (0.154913)\n",
      "4. feature 2 - 2A Vowel Quality Inventories (0.070252)\n",
      "5. feature 7 - 7A Glottalized Consonants (0.065027)\n",
      "6. feature 10 - 10A Vowel Nasalization (0.060382)\n",
      "7. feature 5 - 13A Tone (0.049284)\n",
      "8. feature 1 - 1A Consonant Inventories (0.039154)\n",
      "9. feature 4 - 4A Voicing in Plosives and Fricatives (0.031440)\n",
      "10. feature 3 - 3A Consonant-Vowel Ratio (0.024108)\n"
     ]
    },
    {
     "data": {
      "image/png": "[encoded data removed]",
      "text/plain": [
       "<matplotlib.figure.Figure at 0x7f5f6f51cba8>"
      ]
     },
     "metadata": {},
     "output_type": "display_data"
    }
   ],
   "source": [
    "#Feature Importance - for each list j, represents the jth feature vs Rest linear SVM's coefficient\n",
    "\n",
    "features_names = col[1:11]\n",
    "sv_ovr.fit(X, y)\n",
    "coef = sv_ovr.coef_\n",
    "\n",
    "\n",
    "print(\"Coefficients for One vs Rest SVM:\")\n",
    "print(coef)\n",
    "a = np.absolute(coef)\n",
    "b = np.sum(a, axis=0)\n",
    "b = np.square(b)\n",
    "s = sum(b)\n",
    "feat = np.true_divide(b,s)\n",
    "feat = np.asarray(feat)\n",
    "\n",
    "ind = np.argsort(feat)[::-1]\n",
    "\n",
    "print(\"\\n Feature ranking:\")\n",
    "\n",
    "X = np.asarray(X)\n",
    "\n",
    "for f in range(X.shape[1]):\n",
    "    print(\"%d. feature %d - %s (%f)\" % (f + 1, ind[f] + 1, features_names[ind[f]], feat[ind[f]]))\n",
    "    \n",
    "plt.figure()\n",
    "plt.title(\"Feature importances\")\n",
    "plt.bar(range(X.shape[1]), feat[ind],\n",
    "       color=\"r\", align=\"center\")\n",
    "plt.xticks(range(X.shape[1]), ind+1)\n",
    "plt.xlim([-1, X.shape[1]])\n",
    "plt.show()\n",
    "\n",
    "\n",
    "\n",
    "\n",
    "\n"
   ]
  },
  {
   "cell_type": "code",
   "execution_count": 125,
   "metadata": {
    "collapsed": false
   },
   "outputs": [],
   "source": [
    "#Random Forest Multi-Classification with One Hot Encoding for Climate Vector\n",
    "from sklearn.ensemble import RandomForestClassifier\n",
    "from sklearn.metrics import accuracy_score\n",
    "from sklearn.metrics import confusion_matrix\n",
    "from sklearn.cross_validation import train_test_split\n"
   ]
  },
  {
   "cell_type": "code",
   "execution_count": 180,
   "metadata": {
    "collapsed": false
   },
   "outputs": [],
   "source": [
    "train_x, test_x, train_y, test_y = train_test_split(X,y)"
   ]
  },
  {
   "cell_type": "code",
   "execution_count": 262,
   "metadata": {
    "collapsed": false
   },
   "outputs": [
    {
     "data": {
      "text/plain": [
       "RandomForestClassifier(bootstrap=True, class_weight=None, criterion='gini',\n",
       "            max_depth=None, max_features='auto', max_leaf_nodes=None,\n",
       "            min_samples_leaf=1, min_samples_split=2,\n",
       "            min_weight_fraction_leaf=0.0, n_estimators=10, n_jobs=1,\n",
       "            oob_score=False, random_state=None, verbose=0,\n",
       "            warm_start=False)"
      ]
     },
     "execution_count": 262,
     "metadata": {},
     "output_type": "execute_result"
    }
   ],
   "source": [
    "rfc = RandomForestClassifier()\n",
    "rfc.fit(X, y)"
   ]
  },
  {
   "cell_type": "code",
   "execution_count": 252,
   "metadata": {
    "collapsed": false
   },
   "outputs": [
    {
     "data": {
      "text/plain": [
       "RandomForestClassifier(bootstrap=True, class_weight='balanced',\n",
       "            criterion='gini', max_depth=None, max_features='auto',\n",
       "            max_leaf_nodes=None, min_samples_leaf=1, min_samples_split=2,\n",
       "            min_weight_fraction_leaf=0.0, n_estimators=10, n_jobs=1,\n",
       "            oob_score=False, random_state=None, verbose=0,\n",
       "            warm_start=False)"
      ]
     },
     "execution_count": 252,
     "metadata": {},
     "output_type": "execute_result"
    }
   ],
   "source": [
    "trained_model = rfc.fit(train_x, train_y)\n",
    "trained_model"
   ]
  },
  {
   "cell_type": "code",
   "execution_count": 253,
   "metadata": {
    "collapsed": false
   },
   "outputs": [
    {
     "name": "stdout",
     "output_type": "stream",
     "text": [
      "Train Accuracy ::  0.791666666667\n",
      "Test Accuracy  ::  0.40625\n"
     ]
    }
   ],
   "source": [
    "predictions = trained_model.predict(test_x)\n",
    "predictions = lb.inverse_transform(predictions)\n",
    "print(\"Train Accuracy :: \", accuracy_score(train_y, trained_model.predict(train_x)))\n",
    "print(\"Test Accuracy  :: \", accuracy_score(test_y, predictions))"
   ]
  },
  {
   "cell_type": "code",
   "execution_count": 258,
   "metadata": {
    "collapsed": false
   },
   "outputs": [
    {
     "name": "stdout",
     "output_type": "stream",
     "text": [
      "[ 0.38461538  0.23076923  0.15384615  0.08        0.36      ]\n",
      "Accuracy: 0.24 (+/- 0.23)\n"
     ]
    }
   ],
   "source": [
    "#Cross validation for RF 95% Confidence Interval\n",
    "scores = cross_val_score(rfc, X, y, cv=5)\n",
    "print(scores)\n",
    "print(\"Accuracy: %0.2f (+/- %0.2f)\" % (scores.mean(), scores.std() * 2))"
   ]
  },
  {
   "cell_type": "code",
   "execution_count": 255,
   "metadata": {
    "collapsed": false
   },
   "outputs": [
    {
     "data": {
      "text/html": [
       "<div>\n",
       "<table border=\"1\" class=\"dataframe\">\n",
       "  <thead>\n",
       "    <tr style=\"text-align: right;\">\n",
       "      <th>Predicted</th>\n",
       "      <th>A</th>\n",
       "      <th>B</th>\n",
       "      <th>C</th>\n",
       "      <th>D</th>\n",
       "    </tr>\n",
       "    <tr>\n",
       "      <th>Actual</th>\n",
       "      <th></th>\n",
       "      <th></th>\n",
       "      <th></th>\n",
       "      <th></th>\n",
       "    </tr>\n",
       "  </thead>\n",
       "  <tbody>\n",
       "    <tr>\n",
       "      <th>A</th>\n",
       "      <td>12</td>\n",
       "      <td>1</td>\n",
       "      <td>0</td>\n",
       "      <td>1</td>\n",
       "    </tr>\n",
       "    <tr>\n",
       "      <th>B</th>\n",
       "      <td>4</td>\n",
       "      <td>0</td>\n",
       "      <td>1</td>\n",
       "      <td>0</td>\n",
       "    </tr>\n",
       "    <tr>\n",
       "      <th>C</th>\n",
       "      <td>6</td>\n",
       "      <td>1</td>\n",
       "      <td>1</td>\n",
       "      <td>0</td>\n",
       "    </tr>\n",
       "    <tr>\n",
       "      <th>D</th>\n",
       "      <td>3</td>\n",
       "      <td>0</td>\n",
       "      <td>2</td>\n",
       "      <td>0</td>\n",
       "    </tr>\n",
       "  </tbody>\n",
       "</table>\n",
       "</div>"
      ],
      "text/plain": [
       "Predicted   A  B  C  D\n",
       "Actual                \n",
       "A          12  1  0  1\n",
       "B           4  0  1  0\n",
       "C           6  1  1  0\n",
       "D           3  0  2  0"
      ]
     },
     "execution_count": 255,
     "metadata": {},
     "output_type": "execute_result"
    }
   ],
   "source": [
    "#Confusion matrix for tested sample\n",
    "#predictions = lb.inverse_transform(predictions)\n",
    "y_actu = pd.Series(test_y, name='Actual')\n",
    "y_pred = pd.Series(predictions, name='Predicted')\n",
    "df_confusion = pd.crosstab(y_actu, y_pred)\n",
    "df_confusion"
   ]
  },
  {
   "cell_type": "code",
   "execution_count": 259,
   "metadata": {
    "collapsed": false
   },
   "outputs": [
    {
     "name": "stdout",
     "output_type": "stream",
     "text": [
      "Feature ranking:\n",
      "1. feature 3 - 3A Consonant-Vowel Ratio (0.143270)\n",
      "2. feature 1 - 1A Consonant Inventories (0.131704)\n",
      "3. feature 4 - 4A Voicing in Plosives and Fricatives (0.131554)\n",
      "4. feature 8 - 8A Lateral_Consonants (0.115397)\n",
      "5. feature 9 - 9A The Velar Nasal (0.108166)\n",
      "6. feature 7 - 7A Glottalized Consonants (0.103478)\n",
      "7. feature 2 - 2A Vowel Quality Inventories (0.095154)\n",
      "8. feature 5 - 13A Tone (0.082090)\n",
      "9. feature 10 - 10A Vowel Nasalization (0.054284)\n",
      "10. feature 6 - 18A Absence of Common Consonants (0.034902)\n"
     ]
    },
    {
     "data": {
      "image/png": "[encoded data removed]",
      "text/plain": [
       "<matplotlib.figure.Figure at 0x7f5f6f47a8d0>"
      ]
     },
     "metadata": {},
     "output_type": "display_data"
    }
   ],
   "source": [
    "#Feature Importance\n",
    "importances = trained_model.feature_importances_\n",
    "std = np.std([tree.feature_importances_ for tree in trained_model.estimators_],\n",
    "             axis=0)\n",
    "\n",
    "indices = np.argsort(importances)[::-1]\n",
    "\n",
    "features_names = col[1:11]\n",
    "\n",
    "\n",
    "# Print the feature ranking\n",
    "print(\"Feature ranking:\")\n",
    "\n",
    "X = np.asarray(X)\n",
    "\n",
    "\n",
    "for f in range(0,X.shape[1]):\n",
    "    print(\"%d. feature %d - %s (%f)\" % (f+1 , indices[f] + 1, features_names[indices[f]], importances[indices[f]]))\n",
    "    \n",
    "plt.figure()\n",
    "plt.title(\"Feature importances\")\n",
    "plt.bar(range(X.shape[1]), importances[indices],\n",
    "       color=\"r\", yerr=std[indices], align=\"center\")\n",
    "plt.xticks(range(X.shape[1]), (indices+1))\n",
    "plt.xlim([-1, X.shape[1]])\n",
    "plt.show()"
   ]
  },
  {
   "cell_type": "code",
   "execution_count": 309,
   "metadata": {
    "collapsed": false
   },
   "outputs": [
    {
     "name": "stdout",
     "output_type": "stream",
     "text": [
      "Extra Tree Classifier:\n",
      "[ 0.42307692  0.23076923  0.19230769  0.12        0.36      ] \n",
      "\n",
      "Accuracy: 0.27 (+/- 0.22)\n",
      "\n",
      "Feature ranking:\n",
      "1. feature 0 - 1A Consonant Inventories (0.155290)\n",
      "2. feature 2 - 3A Consonant-Vowel Ratio (0.146374)\n",
      "3. feature 3 - 4A Voicing in Plosives and Fricatives (0.123380)\n",
      "4. feature 7 - 8A Lateral Consonants (0.108937)\n",
      "5. feature 1 - 2A Vowel Quality Inventories (0.108102)\n",
      "6. feature 4 - 13A Tone (0.098412)\n",
      "7. feature 6 - 7A Glottalized Consonants (0.090548)\n",
      "8. feature 8 - 9A The Velar Nasal (0.082299)\n",
      "9. feature 5 - 18A Absence of Common Consonants (0.043959)\n",
      "10. feature 9 - 10A Vowel Nasalization (0.042700)\n"
     ]
    },
    {
     "data": {
      "image/png": "[encoded data removed]",
      "text/plain": [
       "<matplotlib.figure.Figure at 0x7f5f6c971a58>"
      ]
     },
     "metadata": {},
     "output_type": "display_data"
    }
   ],
   "source": [
    "#Extra Tree Classifier\n",
    "from sklearn.ensemble import ExtraTreesClassifier\n",
    "forest = ExtraTreesClassifier(random_state=0)\n",
    "\n",
    "forest.fit(X, y)\n",
    "\n",
    "etcv = cross_val_score(forest, X, y, cv=5)\n",
    "print(\"Extra Tree Classifier:\")\n",
    "\n",
    "print(etcv,\"\\n\")\n",
    "\n",
    "print(\"Accuracy: %0.2f (+/- %0.2f)\\n\" % (etcv.mean(), etcv.std() * 2))\n",
    "\n",
    "importances = forest.feature_importances_\n",
    "std = np.std([tree.feature_importances_ for tree in forest.estimators_],\n",
    "             axis=0)\n",
    "indices = np.argsort(importances)[::-1]\n",
    "\n",
    "# Print the feature ranking\n",
    "print(\"Feature ranking:\")\n",
    "\n",
    "for f in range(X.shape[1]):\n",
    "    print(\"%d. feature %d - %s (%f)\" % (f + 1, indices[f]+1, features[indices[f]], importances[indices[f]]))\n",
    "\n",
    "# Plot the feature importances of the forest\n",
    "plt.figure()\n",
    "plt.title(\"Feature importances\")\n",
    "plt.bar(range(X.shape[1]), importances[indices],\n",
    "       color=\"r\", yerr=std[indices], align=\"center\")\n",
    "plt.xticks(range(X.shape[1]), indices)\n",
    "plt.xlim([-1, X.shape[1]])\n",
    "plt.show()\n"
   ]
  },
  {
   "cell_type": "code",
   "execution_count": 474,
   "metadata": {
    "collapsed": true
   },
   "outputs": [],
   "source": [
    "#Linear SVM Feature Importance for binary classification Function\n",
    "def svm_feat_imp(clas, xi, yi, feat_names):\n",
    "    clas.fit(xi,yi)\n",
    "    coef = clas.coef_[0]\n",
    "\n",
    "    c = np.absolute(coef)\n",
    "    s = sum(c)\n",
    "    \n",
    "    feat_c = np.true_divide(c,s)\n",
    "    feat_c = np.asarray(feat_c)\n",
    "    \n",
    "    ind = np.argsort(feat_c)[::-1]\n",
    "        \n",
    "    print(\"Feature ranking:\")\n",
    "    \n",
    "    xi = np.asarray(xi)\n",
    "    \n",
    "    print(xi.shape)\n",
    "    print(len(feat_names))\n",
    "    print(len(feat_c))\n",
    "    \n",
    "    for f in range(xi.shape[1]):\n",
    "        print(\"%d. feature %d - %s (%f)\" % (f + 1, ind[f], feat_names[ind[f]], feat_c[ind[f]]))\n",
    "    \n",
    "    plt.figure()\n",
    "    plt.title(\"Feature importances\")\n",
    "    plt.bar(range(xi.shape[1]), feat_c[ind], color=\"r\", align=\"center\")\n",
    "    plt.xticks(range(xi.shape[1]), ind+1)\n",
    "    plt.xlim([-1, xi.shape[1]])\n",
    "    plt.show()\n",
    "    \n",
    "    \n",
    "#RF Feature Importance for binary classification Function\n",
    "def RFC_feat_imp(trained_model, feat, inp):\n",
    "    importances = trained_model.feature_importances_\n",
    "    std = np.std([tree.feature_importances_ for tree in trained_model.estimators_],axis=0)\n",
    "    indices = np.argsort(importances)[::-1]\n",
    "\n",
    "    # Print the feature ranking\n",
    "    print(\"Feature ranking:\")\n",
    "\n",
    "    inp = np.asarray(inp)\n",
    "\n",
    "    for f in range(inp.shape[1]):\n",
    "        print(\"%d. feature %d - %s (%f)\" % (f+1, indices[f], feat[indices[f]], importances[indices[f]]))\n",
    "    \n",
    "    print(indices)\n",
    "    plt.figure()\n",
    "    plt.title(\"Feature importances\")\n",
    "    plt.bar(range(inp.shape[1]), importances[indices],color=\"r\", yerr=std[indices], align=\"center\")\n",
    "    plt.xticks(range(inp.shape[1]), indices)\n",
    "    plt.xlim([-1, inp.shape[1]])\n",
    "    plt.show()\n",
    "    \n",
    "\n",
    "    \n",
    "    "
   ]
  },
  {
   "cell_type": "code",
   "execution_count": 372,
   "metadata": {
    "collapsed": true
   },
   "outputs": [],
   "source": [
    "subsets = [['A','B'],['A','C'],['A','D'],['A','E'],['B','C'],['B','D'],['B','E'],['C','D'],['C','E'],['D','E']]"
   ]
  },
  {
   "cell_type": "code",
   "execution_count": 439,
   "metadata": {
    "collapsed": false
   },
   "outputs": [],
   "source": [
    "#Phonological - Binary Classifications\n",
    "#Binary classification for Tropical vs Arid\n",
    "b_df1 = df1[ (df1['Climate']=='A') | (df1['Climate'] =='B')]\n",
    "\n",
    "def Clim_let(lst):\n",
    "    \n",
    "    dic ={'A':'TROPICAL','B':'ARID', 'C':'TEMPERATE', 'D': 'COLD', 'E':'POLAR'}\n",
    "    print(dic.get(lst[0]) + \" AND \" + dic.get(lst[1]) + \" - BINARY CLASSIFICATION\")\n",
    "    \n",
    "    \n",
    "\n",
    "#Function that makes binary classification between each individual class for RF and linear SVM with CV and Feature importance for each\n",
    "\n",
    "#Get each individual sample from the data set and put it into lists\n",
    "def binary_clas(df, ft, clim_subs):\n",
    "    \n",
    "    x_lst = []\n",
    "    y_lst = []\n",
    "    for i in range(0, len(subsets)):\n",
    "        x = []\n",
    "        y = []\n",
    "        b_df =  df1[(df1['Climate'] == str(clim_subs[i][0])) | (df1['Climate'] == str(clim_subs[i][1]))]\n",
    "        x,y = df_list(features, b_df)\n",
    "        \n",
    "        x_lst.append(x)\n",
    "        y_lst.append(y)\n",
    "    \n",
    "    #Initialize classifiers\n",
    "    rf = RandomForestClassifier(class_weight = 'balanced')\n",
    "    sv = svm.SVC(kernel= \"linear\", class_weight = 'balanced')\n",
    "    et = ExtraTreesClassifier(random_state=0, class_weight = 'balanced')\n",
    "\n",
    "    for j in range(0,len(y_lst)):\n",
    "        \n",
    "        trained_model = rf.fit(x_lst[j],y_lst[j])\n",
    "        cvsv = cross_val_score(sv, x_lst[j], y_lst[j], cv=4)\n",
    "        \n",
    "        t_m = et.fit(x_lst[j],y_lst[j])\n",
    "        \n",
    "        Clim_let(clim_subs[j])\n",
    "        \n",
    "        print(\"Linear SVM Classification C-V:\")\n",
    "        print(cvs)\n",
    "        print(\"Accuracy: %0.2f (+/- %0.2f)\" % (cvsv.mean(), cvsv.std() * 2))\n",
    "        print(\"Linear SVM Feature Importance:\")\n",
    "        svm_feat_imp(sv, x_lst[j], y_lst[j], ft)\n",
    "        \n",
    "        cvrf = cross_val_score(rf, x_lst[j], y_lst[j], cv=5)\n",
    "        print()\n",
    "        \n",
    "        print(\"Random Forest Classification:\")\n",
    "        \n",
    "        print(cvrf)\n",
    "        print(\"Accuracy: %0.2f (+/- %0.2f)\" % (cvrf.mean(), cvrf.std() * 2))\n",
    "        RFC_feat_imp(trained_model, ft, x_lst[j])\n",
    "        print()\n",
    "        \n",
    "        print(\"Extra Trees Classification:\")\n",
    "        \n",
    "        etcv = cross_val_score(et, x_lst[j], y_lst[j], cv=5)\n",
    "        print(etcv)\n",
    "        print(\"Accuracy: %0.2f (+/- %0.2f)\" % (etcv.mean(), etcv.std() * 2))\n",
    "        RFC_feat_imp(t_m, ft, x_lst[j])\n",
    "        \n",
    "        \n",
    "        \n",
    "    \n",
    "    "
   ]
  },
  {
   "cell_type": "code",
   "execution_count": 440,
   "metadata": {
    "collapsed": false
   },
   "outputs": [
    {
     "name": "stdout",
     "output_type": "stream",
     "text": [
      "TROPICAL AND ARID - BINARY CLASSIFICATION\n",
      "Linear SVM Classification C-V:\n",
      "[ 0.75    0.5625  0.6875  0.375   0.8   ]\n",
      "Accuracy: 0.50 (+/- 0.17)\n",
      "Linear SVM Feature Importance:\n",
      "Feature ranking:\n",
      "1. feature 7 - 8A Lateral Consonants (0.202610)\n",
      "2. feature 1 - 2A Vowel Quality Inventories (0.202595)\n",
      "3. feature 0 - 1A Consonant Inventories (0.153553)\n",
      "4. feature 5 - 18A Absence of Common Consonants (0.149334)\n",
      "5. feature 8 - 9A The Velar Nasal (0.084038)\n",
      "6. feature 4 - 13A Tone (0.055749)\n",
      "7. feature 2 - 3A Consonant-Vowel Ratio (0.055292)\n",
      "8. feature 9 - 10A Vowel Nasalization (0.055138)\n",
      "9. feature 3 - 4A Voicing in Plosives and Fricatives (0.027739)\n",
      "10. feature 6 - 7A Glottalized Consonants (0.013952)\n"
     ]
    },
    {
     "data": {
      "image/png": "[encoded data removed]",
      "text/plain": [
       "<matplotlib.figure.Figure at 0x7f5f6c820d68>"
      ]
     },
     "metadata": {},
     "output_type": "display_data"
    },
    {
     "name": "stdout",
     "output_type": "stream",
     "text": [
      "\n",
      "Random Forest Classification:\n",
      "[ 0.73333333  0.4         0.35714286  0.78571429  0.78571429]\n",
      "Accuracy: 0.61 (+/- 0.38)\n",
      "Feature ranking:\n",
      "1. feature 4 - 13A Tone (0.175949)\n",
      "2. feature 0 - 1A Consonant Inventories (0.162290)\n",
      "3. feature 2 - 3A Consonant-Vowel Ratio (0.144816)\n",
      "4. feature 7 - 8A Lateral Consonants (0.123092)\n",
      "5. feature 3 - 4A Voicing in Plosives and Fricatives (0.106705)\n",
      "6. feature 1 - 2A Vowel Quality Inventories (0.106291)\n",
      "7. feature 6 - 7A Glottalized Consonants (0.094363)\n",
      "8. feature 8 - 9A The Velar Nasal (0.050705)\n",
      "9. feature 9 - 10A Vowel Nasalization (0.019706)\n",
      "10. feature 5 - 18A Absence of Common Consonants (0.016085)\n",
      "[4 0 2 7 3 1 6 8 9 5]\n"
     ]
    },
    {
     "data": {
      "image/png": "[encoded data removed]",
      "text/plain": [
       "<matplotlib.figure.Figure at 0x7f5f7841ddd8>"
      ]
     },
     "metadata": {},
     "output_type": "display_data"
    },
    {
     "name": "stdout",
     "output_type": "stream",
     "text": [
      "\n",
      "Extra Trees Classification:\n",
      "[ 0.8         0.46666667  0.42857143  0.71428571  0.78571429]\n",
      "Accuracy: 0.64 (+/- 0.32)\n",
      "Feature ranking:\n",
      "1. feature 0 - 1A Consonant Inventories (0.174846)\n",
      "2. feature 4 - 13A Tone (0.145533)\n",
      "3. feature 7 - 8A Lateral Consonants (0.138631)\n",
      "4. feature 2 - 3A Consonant-Vowel Ratio (0.125747)\n",
      "5. feature 3 - 4A Voicing in Plosives and Fricatives (0.115254)\n",
      "6. feature 6 - 7A Glottalized Consonants (0.073094)\n",
      "7. feature 1 - 2A Vowel Quality Inventories (0.072606)\n",
      "8. feature 8 - 9A The Velar Nasal (0.064702)\n",
      "9. feature 9 - 10A Vowel Nasalization (0.049945)\n",
      "10. feature 5 - 18A Absence of Common Consonants (0.039643)\n",
      "[0 4 7 2 3 6 1 8 9 5]\n"
     ]
    },
    {
     "data": {
      "image/png": "[encoded data removed]",
      "text/plain": [
       "<matplotlib.figure.Figure at 0x7f5f6e5d9320>"
      ]
     },
     "metadata": {},
     "output_type": "display_data"
    },
    {
     "name": "stdout",
     "output_type": "stream",
     "text": [
      "TROPICAL AND TEMPERATE - BINARY CLASSIFICATION\n",
      "Linear SVM Classification C-V:\n",
      "[ 0.75    0.5625  0.6875  0.375   0.8   ]\n",
      "Accuracy: 0.56 (+/- 0.27)\n",
      "Linear SVM Feature Importance:\n",
      "Feature ranking:\n",
      "1. feature 1 - 2A Vowel Quality Inventories (0.187407)\n",
      "2. feature 5 - 18A Absence of Common Consonants (0.178287)\n",
      "3. feature 7 - 8A Lateral Consonants (0.168859)\n",
      "4. feature 4 - 13A Tone (0.145994)\n",
      "5. feature 3 - 4A Voicing in Plosives and Fricatives (0.110303)\n",
      "6. feature 8 - 9A The Velar Nasal (0.064671)\n",
      "7. feature 9 - 10A Vowel Nasalization (0.064605)\n",
      "8. feature 2 - 3A Consonant-Vowel Ratio (0.064559)\n",
      "9. feature 6 - 7A Glottalized Consonants (0.012170)\n",
      "10. feature 0 - 1A Consonant Inventories (0.003145)\n"
     ]
    },
    {
     "data": {
      "image/png": "[encoded data removed]",
      "text/plain": [
       "<matplotlib.figure.Figure at 0x7f5f6e428e48>"
      ]
     },
     "metadata": {},
     "output_type": "display_data"
    },
    {
     "name": "stdout",
     "output_type": "stream",
     "text": [
      "\n",
      "Random Forest Classification:\n",
      "[ 0.8125      0.6875      0.6875      0.5         0.73333333]\n",
      "Accuracy: 0.68 (+/- 0.21)\n",
      "Feature ranking:\n",
      "1. feature 7 - 8A Lateral Consonants (0.138190)\n",
      "2. feature 2 - 3A Consonant-Vowel Ratio (0.130083)\n",
      "3. feature 6 - 7A Glottalized Consonants (0.112836)\n",
      "4. feature 8 - 9A The Velar Nasal (0.106066)\n",
      "5. feature 1 - 2A Vowel Quality Inventories (0.104991)\n",
      "6. feature 5 - 18A Absence of Common Consonants (0.094900)\n",
      "7. feature 0 - 1A Consonant Inventories (0.092031)\n",
      "8. feature 4 - 13A Tone (0.087841)\n",
      "9. feature 3 - 4A Voicing in Plosives and Fricatives (0.085347)\n",
      "10. feature 9 - 10A Vowel Nasalization (0.047715)\n",
      "[7 2 6 8 1 5 0 4 3 9]\n"
     ]
    },
    {
     "data": {
      "image/png": "[encoded data removed]",
      "text/plain": [
       "<matplotlib.figure.Figure at 0x7f5f6c7df748>"
      ]
     },
     "metadata": {},
     "output_type": "display_data"
    },
    {
     "name": "stdout",
     "output_type": "stream",
     "text": [
      "\n",
      "Extra Trees Classification:\n",
      "[ 0.6875      0.75        0.6875      0.5625      0.73333333]\n",
      "Accuracy: 0.68 (+/- 0.13)\n",
      "Feature ranking:\n",
      "1. feature 0 - 1A Consonant Inventories (0.149228)\n",
      "2. feature 4 - 13A Tone (0.136267)\n",
      "3. feature 7 - 8A Lateral Consonants (0.122144)\n",
      "4. feature 1 - 2A Vowel Quality Inventories (0.107632)\n",
      "5. feature 2 - 3A Consonant-Vowel Ratio (0.096768)\n",
      "6. feature 3 - 4A Voicing in Plosives and Fricatives (0.096751)\n",
      "7. feature 5 - 18A Absence of Common Consonants (0.092170)\n",
      "8. feature 8 - 9A The Velar Nasal (0.091225)\n",
      "9. feature 6 - 7A Glottalized Consonants (0.077615)\n",
      "10. feature 9 - 10A Vowel Nasalization (0.030199)\n",
      "[0 4 7 1 2 3 5 8 6 9]\n"
     ]
    },
    {
     "data": {
      "image/png": "[encoded data removed]",
      "text/plain": [
       "<matplotlib.figure.Figure at 0x7f5f6c918d30>"
      ]
     },
     "metadata": {},
     "output_type": "display_data"
    },
    {
     "name": "stdout",
     "output_type": "stream",
     "text": [
      "TROPICAL AND COLD - BINARY CLASSIFICATION\n",
      "Linear SVM Classification C-V:\n",
      "[ 0.75    0.5625  0.6875  0.375   0.8   ]\n",
      "Accuracy: 0.75 (+/- 0.18)\n",
      "Linear SVM Feature Importance:\n",
      "Feature ranking:\n",
      "1. feature 5 - 18A Absence of Common Consonants (0.310485)\n",
      "2. feature 7 - 8A Lateral Consonants (0.202913)\n",
      "3. feature 9 - 10A Vowel Nasalization (0.107094)\n",
      "4. feature 2 - 3A Consonant-Vowel Ratio (0.103709)\n",
      "5. feature 1 - 2A Vowel Quality Inventories (0.091364)\n",
      "6. feature 3 - 4A Voicing in Plosives and Fricatives (0.069779)\n",
      "7. feature 4 - 13A Tone (0.054266)\n",
      "8. feature 6 - 7A Glottalized Consonants (0.052616)\n",
      "9. feature 8 - 9A The Velar Nasal (0.007706)\n",
      "10. feature 0 - 1A Consonant Inventories (0.000067)\n"
     ]
    },
    {
     "data": {
      "image/png": "[encoded data removed]",
      "text/plain": [
       "<matplotlib.figure.Figure at 0x7f5f6c82b860>"
      ]
     },
     "metadata": {},
     "output_type": "display_data"
    },
    {
     "name": "stdout",
     "output_type": "stream",
     "text": [
      "\n",
      "Random Forest Classification:\n",
      "[ 0.84615385  0.46153846  0.76923077  0.75        0.75      ]\n",
      "Accuracy: 0.72 (+/- 0.26)\n",
      "Feature ranking:\n",
      "1. feature 0 - 1A Consonant Inventories (0.175832)\n",
      "2. feature 7 - 8A Lateral Consonants (0.174480)\n",
      "3. feature 2 - 3A Consonant-Vowel Ratio (0.136246)\n",
      "4. feature 6 - 7A Glottalized Consonants (0.097438)\n",
      "5. feature 3 - 4A Voicing in Plosives and Fricatives (0.093637)\n",
      "6. feature 5 - 18A Absence of Common Consonants (0.089478)\n",
      "7. feature 1 - 2A Vowel Quality Inventories (0.087506)\n",
      "8. feature 4 - 13A Tone (0.070452)\n",
      "9. feature 9 - 10A Vowel Nasalization (0.047114)\n",
      "10. feature 8 - 9A The Velar Nasal (0.027818)\n",
      "[0 7 2 6 3 5 1 4 9 8]\n"
     ]
    },
    {
     "data": {
      "image/png": "[encoded data removed]",
      "text/plain": [
       "<matplotlib.figure.Figure at 0x7f5f6f479668>"
      ]
     },
     "metadata": {},
     "output_type": "display_data"
    },
    {
     "name": "stdout",
     "output_type": "stream",
     "text": [
      "\n",
      "Extra Trees Classification:\n",
      "[ 0.69230769  0.38461538  0.84615385  0.58333333  1.        ]\n",
      "Accuracy: 0.70 (+/- 0.42)\n",
      "Feature ranking:\n",
      "1. feature 7 - 8A Lateral Consonants (0.163390)\n",
      "2. feature 3 - 4A Voicing in Plosives and Fricatives (0.142615)\n",
      "3. feature 0 - 1A Consonant Inventories (0.118129)\n",
      "4. feature 2 - 3A Consonant-Vowel Ratio (0.107512)\n",
      "5. feature 4 - 13A Tone (0.103999)\n",
      "6. feature 1 - 2A Vowel Quality Inventories (0.100224)\n",
      "7. feature 6 - 7A Glottalized Consonants (0.084927)\n",
      "8. feature 5 - 18A Absence of Common Consonants (0.072010)\n",
      "9. feature 8 - 9A The Velar Nasal (0.060940)\n",
      "10. feature 9 - 10A Vowel Nasalization (0.046254)\n",
      "[7 3 0 2 4 1 6 5 8 9]\n"
     ]
    },
    {
     "data": {
      "image/png": "[encoded data removed]",
      "text/plain": [
       "<matplotlib.figure.Figure at 0x7f5f6cac12e8>"
      ]
     },
     "metadata": {},
     "output_type": "display_data"
    },
    {
     "name": "stdout",
     "output_type": "stream",
     "text": [
      "TROPICAL AND POLAR - BINARY CLASSIFICATION\n",
      "Linear SVM Classification C-V:\n",
      "[ 0.75    0.5625  0.6875  0.375   0.8   ]\n",
      "Accuracy: 1.00 (+/- 0.00)\n",
      "Linear SVM Feature Importance:\n",
      "Feature ranking:\n",
      "1. feature 5 - 18A Absence of Common Consonants (0.200689)\n",
      "2. feature 2 - 3A Consonant-Vowel Ratio (0.170005)\n",
      "3. feature 8 - 9A The Velar Nasal (0.154387)\n",
      "4. feature 0 - 1A Consonant Inventories (0.102835)\n",
      "5. feature 6 - 7A Glottalized Consonants (0.102114)\n",
      "6. feature 7 - 8A Lateral Consonants (0.099683)\n",
      "7. feature 1 - 2A Vowel Quality Inventories (0.093336)\n",
      "8. feature 4 - 13A Tone (0.041573)\n",
      "9. feature 3 - 4A Voicing in Plosives and Fricatives (0.035377)\n",
      "10. feature 9 - 10A Vowel Nasalization (0.000000)\n"
     ]
    },
    {
     "data": {
      "image/png": "[encoded data removed]",
      "text/plain": [
       "<matplotlib.figure.Figure at 0x7f5f6c97cd30>"
      ]
     },
     "metadata": {},
     "output_type": "display_data"
    },
    {
     "name": "stderr",
     "output_type": "stream",
     "text": [
      "/opt/jupyterhub/pyvenv/lib/python3.4/site-packages/sklearn/cross_validation.py:516: Warning: The least populated class in y has only 4 members, which is too few. The minimum number of labels for any class cannot be less than n_folds=5.\n",
      "  % (min_labels, self.n_folds)), Warning)\n"
     ]
    },
    {
     "name": "stdout",
     "output_type": "stream",
     "text": [
      "\n",
      "Random Forest Classification:\n",
      "[ 0.9  0.8  0.9  0.9  1. ]\n",
      "Accuracy: 0.90 (+/- 0.13)\n",
      "Feature ranking:\n",
      "1. feature 2 - 3A Consonant-Vowel Ratio (0.322308)\n",
      "2. feature 7 - 8A Lateral Consonants (0.236934)\n",
      "3. feature 1 - 2A Vowel Quality Inventories (0.129734)\n",
      "4. feature 0 - 1A Consonant Inventories (0.106751)\n",
      "5. feature 5 - 18A Absence of Common Consonants (0.072850)\n",
      "6. feature 8 - 9A The Velar Nasal (0.046733)\n",
      "7. feature 3 - 4A Voicing in Plosives and Fricatives (0.042009)\n",
      "8. feature 4 - 13A Tone (0.036471)\n",
      "9. feature 9 - 10A Vowel Nasalization (0.006211)\n",
      "10. feature 6 - 7A Glottalized Consonants (0.000000)\n",
      "[2 7 1 0 5 8 3 4 9 6]\n"
     ]
    },
    {
     "data": {
      "image/png": "[encoded data removed]",
      "text/plain": [
       "<matplotlib.figure.Figure at 0x7f5f6c540438>"
      ]
     },
     "metadata": {},
     "output_type": "display_data"
    },
    {
     "name": "stdout",
     "output_type": "stream",
     "text": [
      "\n",
      "Extra Trees Classification:\n",
      "[ 0.9         1.          0.9         0.9         0.88888889]\n",
      "Accuracy: 0.92 (+/- 0.08)\n",
      "Feature ranking:\n",
      "1. feature 2 - 3A Consonant-Vowel Ratio (0.228797)\n",
      "2. feature 1 - 2A Vowel Quality Inventories (0.164447)\n",
      "3. feature 7 - 8A Lateral Consonants (0.154381)\n",
      "4. feature 8 - 9A The Velar Nasal (0.132471)\n",
      "5. feature 0 - 1A Consonant Inventories (0.089399)\n",
      "6. feature 9 - 10A Vowel Nasalization (0.067107)\n",
      "7. feature 5 - 18A Absence of Common Consonants (0.053787)\n",
      "8. feature 6 - 7A Glottalized Consonants (0.049312)\n",
      "9. feature 4 - 13A Tone (0.039953)\n",
      "10. feature 3 - 4A Voicing in Plosives and Fricatives (0.020345)\n",
      "[2 1 7 8 0 9 5 6 4 3]\n"
     ]
    },
    {
     "name": "stderr",
     "output_type": "stream",
     "text": [
      "/opt/jupyterhub/pyvenv/lib/python3.4/site-packages/sklearn/cross_validation.py:516: Warning: The least populated class in y has only 4 members, which is too few. The minimum number of labels for any class cannot be less than n_folds=5.\n",
      "  % (min_labels, self.n_folds)), Warning)\n"
     ]
    },
    {
     "data": {
      "image/png": "[encoded data removed]",
      "text/plain": [
       "<matplotlib.figure.Figure at 0x7f5f6c807c50>"
      ]
     },
     "metadata": {},
     "output_type": "display_data"
    },
    {
     "name": "stdout",
     "output_type": "stream",
     "text": [
      "ARID AND TEMPERATE - BINARY CLASSIFICATION\n",
      "Linear SVM Classification C-V:\n",
      "[ 0.75    0.5625  0.6875  0.375   0.8   ]\n",
      "Accuracy: 0.41 (+/- 0.22)\n",
      "Linear SVM Feature Importance:\n",
      "Feature ranking:\n",
      "1. feature 4 - 13A Tone (0.269063)\n",
      "2. feature 3 - 4A Voicing in Plosives and Fricatives (0.170256)\n",
      "3. feature 5 - 18A Absence of Common Consonants (0.137798)\n",
      "4. feature 6 - 7A Glottalized Consonants (0.120099)\n",
      "5. feature 8 - 9A The Velar Nasal (0.089440)\n",
      "6. feature 7 - 8A Lateral Consonants (0.071377)\n",
      "7. feature 0 - 1A Consonant Inventories (0.053892)\n",
      "8. feature 1 - 2A Vowel Quality Inventories (0.042781)\n",
      "9. feature 2 - 3A Consonant-Vowel Ratio (0.030202)\n",
      "10. feature 9 - 10A Vowel Nasalization (0.015091)\n"
     ]
    },
    {
     "data": {
      "image/png": "[encoded data removed]",
      "text/plain": [
       "<matplotlib.figure.Figure at 0x7f5f6c7053c8>"
      ]
     },
     "metadata": {},
     "output_type": "display_data"
    },
    {
     "name": "stdout",
     "output_type": "stream",
     "text": [
      "\n",
      "Random Forest Classification:\n",
      "[ 0.61538462  0.15384615  0.5         0.33333333  0.54545455]\n",
      "Accuracy: 0.43 (+/- 0.33)\n",
      "Feature ranking:\n",
      "1. feature 2 - 3A Consonant-Vowel Ratio (0.182072)\n",
      "2. feature 3 - 4A Voicing in Plosives and Fricatives (0.125204)\n",
      "3. feature 8 - 9A The Velar Nasal (0.123763)\n",
      "4. feature 0 - 1A Consonant Inventories (0.117471)\n",
      "5. feature 7 - 8A Lateral Consonants (0.091046)\n",
      "6. feature 1 - 2A Vowel Quality Inventories (0.090500)\n",
      "7. feature 6 - 7A Glottalized Consonants (0.084143)\n",
      "8. feature 4 - 13A Tone (0.079421)\n",
      "9. feature 9 - 10A Vowel Nasalization (0.076579)\n",
      "10. feature 5 - 18A Absence of Common Consonants (0.029802)\n",
      "[2 3 8 0 7 1 6 4 9 5]\n"
     ]
    },
    {
     "data": {
      "image/png": "[encoded data removed]",
      "text/plain": [
       "<matplotlib.figure.Figure at 0x7f5f6c6d45f8>"
      ]
     },
     "metadata": {},
     "output_type": "display_data"
    },
    {
     "name": "stdout",
     "output_type": "stream",
     "text": [
      "\n",
      "Extra Trees Classification:\n",
      "[ 0.46153846  0.38461538  0.25        0.25        0.36363636]\n",
      "Accuracy: 0.34 (+/- 0.16)\n",
      "Feature ranking:\n",
      "1. feature 2 - 3A Consonant-Vowel Ratio (0.146881)\n",
      "2. feature 8 - 9A The Velar Nasal (0.131429)\n",
      "3. feature 3 - 4A Voicing in Plosives and Fricatives (0.129945)\n",
      "4. feature 1 - 2A Vowel Quality Inventories (0.110338)\n",
      "5. feature 9 - 10A Vowel Nasalization (0.099014)\n",
      "6. feature 0 - 1A Consonant Inventories (0.098544)\n",
      "7. feature 7 - 8A Lateral Consonants (0.097665)\n",
      "8. feature 6 - 7A Glottalized Consonants (0.092264)\n",
      "9. feature 4 - 13A Tone (0.064553)\n",
      "10. feature 5 - 18A Absence of Common Consonants (0.029367)\n",
      "[2 8 3 1 9 0 7 6 4 5]\n"
     ]
    },
    {
     "data": {
      "image/png": "[encoded data removed]",
      "text/plain": [
       "<matplotlib.figure.Figure at 0x7f5f6c5040b8>"
      ]
     },
     "metadata": {},
     "output_type": "display_data"
    },
    {
     "name": "stdout",
     "output_type": "stream",
     "text": [
      "ARID AND COLD - BINARY CLASSIFICATION\n",
      "Linear SVM Classification C-V:\n",
      "[ 0.75    0.5625  0.6875  0.375   0.8   ]\n",
      "Accuracy: 0.53 (+/- 0.16)\n",
      "Linear SVM Feature Importance:\n",
      "Feature ranking:\n",
      "1. feature 4 - 13A Tone (0.269928)\n",
      "2. feature 9 - 10A Vowel Nasalization (0.207609)\n",
      "3. feature 5 - 18A Absence of Common Consonants (0.183648)\n",
      "4. feature 7 - 8A Lateral Consonants (0.126902)\n",
      "5. feature 2 - 3A Consonant-Vowel Ratio (0.072727)\n",
      "6. feature 6 - 7A Glottalized Consonants (0.050585)\n",
      "7. feature 1 - 2A Vowel Quality Inventories (0.049639)\n",
      "8. feature 8 - 9A The Velar Nasal (0.036436)\n",
      "9. feature 3 - 4A Voicing in Plosives and Fricatives (0.001495)\n",
      "10. feature 0 - 1A Consonant Inventories (0.001031)\n"
     ]
    },
    {
     "data": {
      "image/png": "[encoded data removed]",
      "text/plain": [
       "<matplotlib.figure.Figure at 0x7f5f6c4f7a90>"
      ]
     },
     "metadata": {},
     "output_type": "display_data"
    },
    {
     "name": "stdout",
     "output_type": "stream",
     "text": [
      "\n",
      "Random Forest Classification:\n",
      "[ 0.7         0.4         0.66666667  0.5         0.5       ]\n",
      "Accuracy: 0.55 (+/- 0.23)\n",
      "Feature ranking:\n",
      "1. feature 2 - 3A Consonant-Vowel Ratio (0.163198)\n",
      "2. feature 3 - 4A Voicing in Plosives and Fricatives (0.151732)\n",
      "3. feature 0 - 1A Consonant Inventories (0.151398)\n",
      "4. feature 4 - 13A Tone (0.147844)\n",
      "5. feature 6 - 7A Glottalized Consonants (0.112190)\n",
      "6. feature 1 - 2A Vowel Quality Inventories (0.087273)\n",
      "7. feature 7 - 8A Lateral Consonants (0.061079)\n",
      "8. feature 8 - 9A The Velar Nasal (0.051067)\n",
      "9. feature 9 - 10A Vowel Nasalization (0.050973)\n",
      "10. feature 5 - 18A Absence of Common Consonants (0.023246)\n",
      "[2 3 0 4 6 1 7 8 9 5]\n"
     ]
    },
    {
     "data": {
      "image/png": "[encoded data removed]",
      "text/plain": [
       "<matplotlib.figure.Figure at 0x7f5f6c652da0>"
      ]
     },
     "metadata": {},
     "output_type": "display_data"
    },
    {
     "name": "stdout",
     "output_type": "stream",
     "text": [
      "\n",
      "Extra Trees Classification:\n",
      "[ 0.6         0.6         0.77777778  0.625       0.375     ]\n",
      "Accuracy: 0.60 (+/- 0.26)\n",
      "Feature ranking:\n",
      "1. feature 0 - 1A Consonant Inventories (0.203390)\n",
      "2. feature 2 - 3A Consonant-Vowel Ratio (0.169298)\n",
      "3. feature 4 - 13A Tone (0.124348)\n",
      "4. feature 3 - 4A Voicing in Plosives and Fricatives (0.110875)\n",
      "5. feature 6 - 7A Glottalized Consonants (0.096678)\n",
      "6. feature 7 - 8A Lateral Consonants (0.078458)\n",
      "7. feature 1 - 2A Vowel Quality Inventories (0.069662)\n",
      "8. feature 8 - 9A The Velar Nasal (0.067203)\n",
      "9. feature 9 - 10A Vowel Nasalization (0.052497)\n",
      "10. feature 5 - 18A Absence of Common Consonants (0.027591)\n",
      "[0 2 4 3 6 7 1 8 9 5]\n"
     ]
    },
    {
     "data": {
      "image/png": "[encoded data removed]",
      "text/plain": [
       "<matplotlib.figure.Figure at 0x7f5f6c4ea7b8>"
      ]
     },
     "metadata": {},
     "output_type": "display_data"
    },
    {
     "name": "stdout",
     "output_type": "stream",
     "text": [
      "ARID AND POLAR - BINARY CLASSIFICATION\n",
      "Linear SVM Classification C-V:\n",
      "[ 0.75    0.5625  0.6875  0.375   0.8   ]\n",
      "Accuracy: 0.81 (+/- 0.41)\n",
      "Linear SVM Feature Importance:\n",
      "Feature ranking:\n",
      "1. feature 8 - 9A The Velar Nasal (0.210441)\n",
      "2. feature 7 - 8A Lateral Consonants (0.172917)\n",
      "3. feature 4 - 13A Tone (0.166176)\n",
      "4. feature 9 - 10A Vowel Nasalization (0.144348)\n",
      "5. feature 0 - 1A Consonant Inventories (0.141102)\n",
      "6. feature 5 - 18A Absence of Common Consonants (0.105240)\n",
      "7. feature 2 - 3A Consonant-Vowel Ratio (0.042203)\n",
      "8. feature 6 - 7A Glottalized Consonants (0.011827)\n",
      "9. feature 1 - 2A Vowel Quality Inventories (0.003868)\n",
      "10. feature 3 - 4A Voicing in Plosives and Fricatives (0.001878)\n"
     ]
    },
    {
     "data": {
      "image/png": "[encoded data removed]",
      "text/plain": [
       "<matplotlib.figure.Figure at 0x7f5f6c4d80f0>"
      ]
     },
     "metadata": {},
     "output_type": "display_data"
    },
    {
     "name": "stderr",
     "output_type": "stream",
     "text": [
      "/opt/jupyterhub/pyvenv/lib/python3.4/site-packages/sklearn/cross_validation.py:516: Warning: The least populated class in y has only 4 members, which is too few. The minimum number of labels for any class cannot be less than n_folds=5.\n",
      "  % (min_labels, self.n_folds)), Warning)\n"
     ]
    },
    {
     "name": "stdout",
     "output_type": "stream",
     "text": [
      "\n",
      "Random Forest Classification:\n",
      "[ 0.85714286  0.85714286  0.83333333  0.83333333  1.        ]\n",
      "Accuracy: 0.88 (+/- 0.13)\n",
      "Feature ranking:\n",
      "1. feature 2 - 3A Consonant-Vowel Ratio (0.265085)\n",
      "2. feature 8 - 9A The Velar Nasal (0.180322)\n",
      "3. feature 0 - 1A Consonant Inventories (0.114073)\n",
      "4. feature 3 - 4A Voicing in Plosives and Fricatives (0.098702)\n",
      "5. feature 4 - 13A Tone (0.096149)\n",
      "6. feature 5 - 18A Absence of Common Consonants (0.084610)\n",
      "7. feature 1 - 2A Vowel Quality Inventories (0.056482)\n",
      "8. feature 9 - 10A Vowel Nasalization (0.046830)\n",
      "9. feature 7 - 8A Lateral Consonants (0.039240)\n",
      "10. feature 6 - 7A Glottalized Consonants (0.018509)\n",
      "[2 8 0 3 4 5 1 9 7 6]\n"
     ]
    },
    {
     "data": {
      "image/png": "[encoded data removed]",
      "text/plain": [
       "<matplotlib.figure.Figure at 0x7f5f6f525630>"
      ]
     },
     "metadata": {},
     "output_type": "display_data"
    },
    {
     "name": "stdout",
     "output_type": "stream",
     "text": [
      "\n",
      "Extra Trees Classification:\n",
      "[ 0.85714286  0.71428571  0.83333333  0.83333333  1.        ]\n",
      "Accuracy: 0.85 (+/- 0.18)\n",
      "Feature ranking:\n",
      "1. feature 8 - 9A The Velar Nasal (0.264987)\n",
      "2. feature 7 - 8A Lateral Consonants (0.164016)\n",
      "3. feature 2 - 3A Consonant-Vowel Ratio (0.139865)\n",
      "4. feature 4 - 13A Tone (0.090515)\n",
      "5. feature 0 - 1A Consonant Inventories (0.083918)\n",
      "6. feature 5 - 18A Absence of Common Consonants (0.083032)\n",
      "7. feature 9 - 10A Vowel Nasalization (0.076541)\n",
      "8. feature 1 - 2A Vowel Quality Inventories (0.047548)\n",
      "9. feature 3 - 4A Voicing in Plosives and Fricatives (0.043126)\n",
      "10. feature 6 - 7A Glottalized Consonants (0.006452)\n",
      "[8 7 2 4 0 5 9 1 3 6]\n"
     ]
    },
    {
     "name": "stderr",
     "output_type": "stream",
     "text": [
      "/opt/jupyterhub/pyvenv/lib/python3.4/site-packages/sklearn/cross_validation.py:516: Warning: The least populated class in y has only 4 members, which is too few. The minimum number of labels for any class cannot be less than n_folds=5.\n",
      "  % (min_labels, self.n_folds)), Warning)\n"
     ]
    },
    {
     "data": {
      "image/png": "[encoded data removed]",
      "text/plain": [
       "<matplotlib.figure.Figure at 0x7f5f77d33be0>"
      ]
     },
     "metadata": {},
     "output_type": "display_data"
    },
    {
     "name": "stdout",
     "output_type": "stream",
     "text": [
      "TEMPERATE AND COLD - BINARY CLASSIFICATION\n",
      "Linear SVM Classification C-V:\n",
      "[ 0.75    0.5625  0.6875  0.375   0.8   ]\n",
      "Accuracy: 0.31 (+/- 0.23)\n",
      "Linear SVM Feature Importance:\n",
      "Feature ranking:\n",
      "1. feature 9 - 10A Vowel Nasalization (0.269151)\n",
      "2. feature 8 - 9A The Velar Nasal (0.191441)\n",
      "3. feature 5 - 18A Absence of Common Consonants (0.181924)\n",
      "4. feature 1 - 2A Vowel Quality Inventories (0.092879)\n",
      "5. feature 3 - 4A Voicing in Plosives and Fricatives (0.080682)\n",
      "6. feature 2 - 3A Consonant-Vowel Ratio (0.069099)\n",
      "7. feature 4 - 13A Tone (0.057430)\n",
      "8. feature 6 - 7A Glottalized Consonants (0.023346)\n",
      "9. feature 0 - 1A Consonant Inventories (0.023197)\n",
      "10. feature 7 - 8A Lateral Consonants (0.010851)\n"
     ]
    },
    {
     "data": {
      "image/png": "[encoded data removed]",
      "text/plain": [
       "<matplotlib.figure.Figure at 0x7f5f6c74cf60>"
      ]
     },
     "metadata": {},
     "output_type": "display_data"
    },
    {
     "name": "stdout",
     "output_type": "stream",
     "text": [
      "\n",
      "Random Forest Classification:\n",
      "[ 0.54545455  0.45454545  0.36363636  0.4         0.33333333]\n",
      "Accuracy: 0.42 (+/- 0.15)\n",
      "Feature ranking:\n",
      "1. feature 0 - 1A Consonant Inventories (0.148339)\n",
      "2. feature 7 - 8A Lateral Consonants (0.146132)\n",
      "3. feature 2 - 3A Consonant-Vowel Ratio (0.144302)\n",
      "4. feature 3 - 4A Voicing in Plosives and Fricatives (0.142099)\n",
      "5. feature 8 - 9A The Velar Nasal (0.110819)\n",
      "6. feature 1 - 2A Vowel Quality Inventories (0.101109)\n",
      "7. feature 6 - 7A Glottalized Consonants (0.087701)\n",
      "8. feature 4 - 13A Tone (0.062784)\n",
      "9. feature 9 - 10A Vowel Nasalization (0.056715)\n",
      "10. feature 5 - 18A Absence of Common Consonants (0.000000)\n",
      "[0 7 2 3 8 1 6 4 9 5]\n"
     ]
    },
    {
     "data": {
      "image/png": "[encoded data removed]",
      "text/plain": [
       "<matplotlib.figure.Figure at 0x7f5f78471d68>"
      ]
     },
     "metadata": {},
     "output_type": "display_data"
    },
    {
     "name": "stdout",
     "output_type": "stream",
     "text": [
      "\n",
      "Extra Trees Classification:\n",
      "[ 0.63636364  0.54545455  0.45454545  0.4         0.33333333]\n",
      "Accuracy: 0.47 (+/- 0.21)\n",
      "Feature ranking:\n",
      "1. feature 2 - 3A Consonant-Vowel Ratio (0.150021)\n",
      "2. feature 3 - 4A Voicing in Plosives and Fricatives (0.145817)\n",
      "3. feature 7 - 8A Lateral Consonants (0.144181)\n",
      "4. feature 1 - 2A Vowel Quality Inventories (0.140129)\n",
      "5. feature 0 - 1A Consonant Inventories (0.125726)\n",
      "6. feature 8 - 9A The Velar Nasal (0.088999)\n",
      "7. feature 4 - 13A Tone (0.082771)\n",
      "8. feature 6 - 7A Glottalized Consonants (0.070183)\n",
      "9. feature 9 - 10A Vowel Nasalization (0.035438)\n",
      "10. feature 5 - 18A Absence of Common Consonants (0.016735)\n",
      "[2 3 7 1 0 8 4 6 9 5]\n"
     ]
    },
    {
     "data": {
      "image/png": "[encoded data removed]",
      "text/plain": [
       "<matplotlib.figure.Figure at 0x7f5f6e4b3da0>"
      ]
     },
     "metadata": {},
     "output_type": "display_data"
    },
    {
     "name": "stdout",
     "output_type": "stream",
     "text": [
      "TEMPERATE AND POLAR - BINARY CLASSIFICATION\n",
      "Linear SVM Classification C-V:\n",
      "[ 0.75    0.5625  0.6875  0.375   0.8   ]\n",
      "Accuracy: 0.84 (+/- 0.11)\n",
      "Linear SVM Feature Importance:\n",
      "Feature ranking:\n",
      "1. feature 8 - 9A The Velar Nasal (0.184697)\n",
      "2. feature 6 - 7A Glottalized Consonants (0.172725)\n",
      "3. feature 7 - 8A Lateral Consonants (0.163215)\n",
      "4. feature 4 - 13A Tone (0.121880)\n",
      "5. feature 2 - 3A Consonant-Vowel Ratio (0.110880)\n",
      "6. feature 9 - 10A Vowel Nasalization (0.104932)\n",
      "7. feature 0 - 1A Consonant Inventories (0.080019)\n",
      "8. feature 3 - 4A Voicing in Plosives and Fricatives (0.055402)\n",
      "9. feature 1 - 2A Vowel Quality Inventories (0.006250)\n",
      "10. feature 5 - 18A Absence of Common Consonants (0.000000)\n"
     ]
    },
    {
     "data": {
      "image/png": "[encoded data removed]",
      "text/plain": [
       "<matplotlib.figure.Figure at 0x7f5f6c93c518>"
      ]
     },
     "metadata": {},
     "output_type": "display_data"
    },
    {
     "name": "stderr",
     "output_type": "stream",
     "text": [
      "/opt/jupyterhub/pyvenv/lib/python3.4/site-packages/sklearn/cross_validation.py:516: Warning: The least populated class in y has only 4 members, which is too few. The minimum number of labels for any class cannot be less than n_folds=5.\n",
      "  % (min_labels, self.n_folds)), Warning)\n"
     ]
    },
    {
     "name": "stdout",
     "output_type": "stream",
     "text": [
      "\n",
      "Random Forest Classification:\n",
      "[ 0.875  0.875  0.875  0.875  1.   ]\n",
      "Accuracy: 0.90 (+/- 0.10)\n",
      "Feature ranking:\n",
      "1. feature 0 - 1A Consonant Inventories (0.171549)\n",
      "2. feature 3 - 4A Voicing in Plosives and Fricatives (0.148948)\n",
      "3. feature 8 - 9A The Velar Nasal (0.127630)\n",
      "4. feature 2 - 3A Consonant-Vowel Ratio (0.124141)\n",
      "5. feature 1 - 2A Vowel Quality Inventories (0.123851)\n",
      "6. feature 7 - 8A Lateral Consonants (0.075244)\n",
      "7. feature 4 - 13A Tone (0.055856)\n",
      "8. feature 9 - 10A Vowel Nasalization (0.039001)\n",
      "9. feature 6 - 7A Glottalized Consonants (0.032413)\n",
      "10. feature 5 - 18A Absence of Common Consonants (0.001365)\n",
      "[0 3 8 2 1 7 4 9 6 5]\n"
     ]
    },
    {
     "data": {
      "image/png": "[encoded data removed]",
      "text/plain": [
       "<matplotlib.figure.Figure at 0x7f5f6c7f2080>"
      ]
     },
     "metadata": {},
     "output_type": "display_data"
    },
    {
     "name": "stdout",
     "output_type": "stream",
     "text": [
      "\n",
      "Extra Trees Classification:\n",
      "[ 0.875  0.875  0.875  0.875  1.   ]\n",
      "Accuracy: 0.90 (+/- 0.10)\n",
      "Feature ranking:\n",
      "1. feature 8 - 9A The Velar Nasal (0.209537)\n",
      "2. feature 2 - 3A Consonant-Vowel Ratio (0.206901)\n",
      "3. feature 1 - 2A Vowel Quality Inventories (0.162058)\n",
      "4. feature 7 - 8A Lateral Consonants (0.083796)\n",
      "5. feature 0 - 1A Consonant Inventories (0.082563)\n",
      "6. feature 9 - 10A Vowel Nasalization (0.066039)\n",
      "7. feature 3 - 4A Voicing in Plosives and Fricatives (0.056021)\n",
      "8. feature 6 - 7A Glottalized Consonants (0.055943)\n",
      "9. feature 5 - 18A Absence of Common Consonants (0.052929)\n",
      "10. feature 4 - 13A Tone (0.024211)\n",
      "[8 2 1 7 0 9 3 6 5 4]\n"
     ]
    },
    {
     "name": "stderr",
     "output_type": "stream",
     "text": [
      "/opt/jupyterhub/pyvenv/lib/python3.4/site-packages/sklearn/cross_validation.py:516: Warning: The least populated class in y has only 4 members, which is too few. The minimum number of labels for any class cannot be less than n_folds=5.\n",
      "  % (min_labels, self.n_folds)), Warning)\n"
     ]
    },
    {
     "data": {
      "image/png": "[encoded data removed]",
      "text/plain": [
       "<matplotlib.figure.Figure at 0x7f5f6c88eda0>"
      ]
     },
     "metadata": {},
     "output_type": "display_data"
    },
    {
     "name": "stdout",
     "output_type": "stream",
     "text": [
      "COLD AND POLAR - BINARY CLASSIFICATION\n",
      "Linear SVM Classification C-V:\n",
      "[ 0.75    0.5625  0.6875  0.375   0.8   ]\n",
      "Accuracy: 0.73 (+/- 0.19)\n",
      "Linear SVM Feature Importance:\n",
      "Feature ranking:\n",
      "1. feature 8 - 9A The Velar Nasal (0.190097)\n",
      "2. feature 7 - 8A Lateral Consonants (0.172819)\n",
      "3. feature 6 - 7A Glottalized Consonants (0.153454)\n",
      "4. feature 2 - 3A Consonant-Vowel Ratio (0.142706)\n",
      "5. feature 0 - 1A Consonant Inventories (0.118804)\n",
      "6. feature 4 - 13A Tone (0.116170)\n",
      "7. feature 3 - 4A Voicing in Plosives and Fricatives (0.071374)\n",
      "8. feature 1 - 2A Vowel Quality Inventories (0.034576)\n",
      "9. feature 9 - 10A Vowel Nasalization (0.000000)\n",
      "10. feature 5 - 18A Absence of Common Consonants (0.000000)\n"
     ]
    },
    {
     "data": {
      "image/png": "[encoded data removed]",
      "text/plain": [
       "<matplotlib.figure.Figure at 0x7f5f6c9f1e48>"
      ]
     },
     "metadata": {},
     "output_type": "display_data"
    },
    {
     "name": "stderr",
     "output_type": "stream",
     "text": [
      "/opt/jupyterhub/pyvenv/lib/python3.4/site-packages/sklearn/cross_validation.py:516: Warning: The least populated class in y has only 4 members, which is too few. The minimum number of labels for any class cannot be less than n_folds=5.\n",
      "  % (min_labels, self.n_folds)), Warning)\n"
     ]
    },
    {
     "name": "stdout",
     "output_type": "stream",
     "text": [
      "\n",
      "Random Forest Classification:\n",
      "[ 0.8  0.8  0.8  0.5  1. ]\n",
      "Accuracy: 0.78 (+/- 0.32)\n",
      "Feature ranking:\n",
      "1. feature 8 - 9A The Velar Nasal (0.198132)\n",
      "2. feature 0 - 1A Consonant Inventories (0.165652)\n",
      "3. feature 2 - 3A Consonant-Vowel Ratio (0.160807)\n",
      "4. feature 7 - 8A Lateral Consonants (0.105649)\n",
      "5. feature 6 - 7A Glottalized Consonants (0.099371)\n",
      "6. feature 3 - 4A Voicing in Plosives and Fricatives (0.089456)\n",
      "7. feature 1 - 2A Vowel Quality Inventories (0.076698)\n",
      "8. feature 4 - 13A Tone (0.063418)\n",
      "9. feature 5 - 18A Absence of Common Consonants (0.040816)\n",
      "10. feature 9 - 10A Vowel Nasalization (0.000000)\n",
      "[8 0 2 7 6 3 1 4 5 9]\n"
     ]
    },
    {
     "data": {
      "image/png": "[encoded data removed]",
      "text/plain": [
       "<matplotlib.figure.Figure at 0x7f5f6e74e160>"
      ]
     },
     "metadata": {},
     "output_type": "display_data"
    },
    {
     "name": "stdout",
     "output_type": "stream",
     "text": [
      "\n",
      "Extra Trees Classification:\n",
      "[ 0.8  1.   0.6  0.5  1. ]\n",
      "Accuracy: 0.78 (+/- 0.41)\n",
      "Feature ranking:\n",
      "1. feature 8 - 9A The Velar Nasal (0.286385)\n",
      "2. feature 2 - 3A Consonant-Vowel Ratio (0.214622)\n",
      "3. feature 5 - 18A Absence of Common Consonants (0.109381)\n",
      "4. feature 1 - 2A Vowel Quality Inventories (0.097241)\n",
      "5. feature 4 - 13A Tone (0.082552)\n",
      "6. feature 7 - 8A Lateral Consonants (0.067176)\n",
      "7. feature 0 - 1A Consonant Inventories (0.065799)\n",
      "8. feature 6 - 7A Glottalized Consonants (0.054996)\n",
      "9. feature 3 - 4A Voicing in Plosives and Fricatives (0.021848)\n",
      "10. feature 9 - 10A Vowel Nasalization (0.000000)\n",
      "[8 2 5 1 4 7 0 6 3 9]\n"
     ]
    },
    {
     "name": "stderr",
     "output_type": "stream",
     "text": [
      "/opt/jupyterhub/pyvenv/lib/python3.4/site-packages/sklearn/cross_validation.py:516: Warning: The least populated class in y has only 4 members, which is too few. The minimum number of labels for any class cannot be less than n_folds=5.\n",
      "  % (min_labels, self.n_folds)), Warning)\n"
     ]
    },
    {
     "data": {
      "image/png": "[encoded data removed]",
      "text/plain": [
       "<matplotlib.figure.Figure at 0x7f5f7739a860>"
      ]
     },
     "metadata": {},
     "output_type": "display_data"
    }
   ],
   "source": [
    "#Phonological - Binary Classifications\n",
    "\n",
    "#Binary classification for each climate\n",
    "binary_clas(df1,features,subsets)\n"
   ]
  },
  {
   "cell_type": "code",
   "execution_count": 479,
   "metadata": {
    "collapsed": false
   },
   "outputs": [
    {
     "name": "stdout",
     "output_type": "stream",
     "text": [
      "Linear SVM Classification C-V:\n",
      "[ 0.75    0.5625  0.6875  0.375   0.8   ]\n",
      "Accuracy: 0.55 (+/- 0.27)\n",
      "Linear SVM Feature Importance:\n",
      "Feature ranking:\n",
      "(128, 10)\n",
      "10\n",
      "10\n",
      "1. feature 5 - 18A Absence of Common Consonants (0.275054)\n",
      "2. feature 7 - 8A Lateral Consonants (0.219866)\n",
      "3. feature 4 - 13A Tone (0.214727)\n",
      "4. feature 8 - 9A The Velar Nasal (0.099573)\n",
      "5. feature 1 - 2A Vowel Quality Inventories (0.078449)\n",
      "6. feature 3 - 4A Voicing in Plosives and Fricatives (0.057645)\n",
      "7. feature 9 - 10A Vowel Nasalization (0.021185)\n",
      "8. feature 6 - 7A Glottalized Consonants (0.012491)\n",
      "9. feature 2 - 3A Consonant-Vowel Ratio (0.010688)\n",
      "10. feature 0 - 1A Consonant Inventories (0.010321)\n"
     ]
    },
    {
     "data": {
      "image/png": "[encoded data removed]",
      "text/plain": [
       "<matplotlib.figure.Figure at 0x7f5f77d03710>"
      ]
     },
     "metadata": {},
     "output_type": "display_data"
    },
    {
     "name": "stdout",
     "output_type": "stream",
     "text": [
      "\n",
      "Random Forest Classification:\n",
      "[ 0.59259259  0.69230769  0.6         0.44        0.72      ]\n",
      "Accuracy: 0.61 (+/- 0.20)\n",
      "Feature ranking:\n",
      "1. feature 7 - 8A Lateral Consonants (0.147612)\n",
      "2. feature 2 - 3A Consonant-Vowel Ratio (0.133321)\n",
      "3. feature 3 - 4A Voicing in Plosives and Fricatives (0.131474)\n",
      "4. feature 0 - 1A Consonant Inventories (0.126937)\n",
      "5. feature 4 - 13A Tone (0.112962)\n",
      "6. feature 8 - 9A The Velar Nasal (0.100264)\n",
      "7. feature 1 - 2A Vowel Quality Inventories (0.075515)\n",
      "8. feature 5 - 18A Absence of Common Consonants (0.065153)\n",
      "9. feature 6 - 7A Glottalized Consonants (0.058186)\n",
      "10. feature 9 - 10A Vowel Nasalization (0.048575)\n",
      "[7 2 3 0 4 8 1 5 6 9]\n"
     ]
    },
    {
     "data": {
      "image/png": "[encoded data removed]",
      "text/plain": [
       "<matplotlib.figure.Figure at 0x7f5f6e456c88>"
      ]
     },
     "metadata": {},
     "output_type": "display_data"
    },
    {
     "name": "stdout",
     "output_type": "stream",
     "text": [
      "\n",
      "Extra Trees Classification:\n",
      "[ 0.62962963  0.69230769  0.6         0.6         0.8       ]\n",
      "Accuracy: 0.66 (+/- 0.15)\n",
      "Feature ranking:\n",
      "1. feature 2 - 3A Consonant-Vowel Ratio (0.141811)\n",
      "2. feature 0 - 1A Consonant Inventories (0.134660)\n",
      "3. feature 7 - 8A Lateral Consonants (0.120466)\n",
      "4. feature 4 - 13A Tone (0.105240)\n",
      "5. feature 3 - 4A Voicing in Plosives and Fricatives (0.100850)\n",
      "6. feature 1 - 2A Vowel Quality Inventories (0.098786)\n",
      "7. feature 8 - 9A The Velar Nasal (0.096146)\n",
      "8. feature 6 - 7A Glottalized Consonants (0.082812)\n",
      "9. feature 5 - 18A Absence of Common Consonants (0.076262)\n",
      "10. feature 9 - 10A Vowel Nasalization (0.042967)\n",
      "[2 0 7 4 3 1 8 6 5 9]\n"
     ]
    },
    {
     "data": {
      "image/png": "[encoded data removed]",
      "text/plain": [
       "<matplotlib.figure.Figure at 0x7f5f6e456080>"
      ]
     },
     "metadata": {},
     "output_type": "display_data"
    }
   ],
   "source": [
    "#Binary Group Classification\n",
    "#Tropical,Arid (F) vs Temperate, Cold, Polar (G)\n",
    "y_ = trg\n",
    "for l in range(0,len(y_)):\n",
    "    if y_[l]=='A' or y_[l]=='B':\n",
    "        y_[l] = 'F'\n",
    "    else:\n",
    "        y_[l] = 'G'\n",
    "#print(y_)\n",
    "rf = RandomForestClassifier(class_weight = 'balanced')\n",
    "sv = svm.SVC(kernel= \"linear\", class_weight = 'balanced')\n",
    "et = ExtraTreesClassifier(random_state=0, class_weight = 'balanced')\n",
    "trained_model = rf.fit(X,y_)\n",
    "cvsv = cross_val_score(sv, X, y_, cv=5)\n",
    "t_m = et.fit(X, y_)\n",
    "print(\"Linear SVM Classification C-V:\")\n",
    "print(cvs)\n",
    "print(\"Accuracy: %0.2f (+/- %0.2f)\" % (cvsv.mean(), cvsv.std() * 2))\n",
    "print(\"Linear SVM Feature Importance:\")\n",
    "svm_feat_imp(sv, X, trg, features)\n",
    "cvrf = cross_val_score(rf, X, y_, cv=5)\n",
    "print()\n",
    "print(\"Random Forest Classification:\")\n",
    "print(cvrf)\n",
    "print(\"Accuracy: %0.2f (+/- %0.2f)\" % (cvrf.mean(), cvrf.std() * 2))\n",
    "RFC_feat_imp(trained_model, features, X)\n",
    "print()\n",
    "print(\"Extra Trees Classification:\")\n",
    "etcv = cross_val_score(et, X, y_, cv=5)\n",
    "print(etcv)\n",
    "print(\"Accuracy: %0.2f (+/- %0.2f)\" % (etcv.mean(), etcv.std() * 2))\n",
    "RFC_feat_imp(t_m, features, X)\n"
   ]
  },
  {
   "cell_type": "code",
   "execution_count": 487,
   "metadata": {
    "collapsed": false
   },
   "outputs": [
    {
     "name": "stdout",
     "output_type": "stream",
     "text": [
      "Linear SVM Classification C-V:\n",
      "[ 0.75    0.5625  0.6875  0.375   0.8   ]\n",
      "Accuracy: 0.53 (+/- 0.20)\n",
      "Linear SVM Feature Importance:\n",
      "Feature ranking:\n",
      "(128, 10)\n",
      "10\n",
      "10\n",
      "1. feature 9 - 10A Vowel Nasalization (0.204635)\n",
      "2. feature 5 - 18A Absence of Common Consonants (0.203967)\n",
      "3. feature 0 - 1A Consonant Inventories (0.154368)\n",
      "4. feature 2 - 3A Consonant-Vowel Ratio (0.135989)\n",
      "5. feature 3 - 4A Voicing in Plosives and Fricatives (0.096813)\n",
      "6. feature 7 - 8A Lateral Consonants (0.085679)\n",
      "7. feature 6 - 7A Glottalized Consonants (0.065198)\n",
      "8. feature 8 - 9A The Velar Nasal (0.018380)\n",
      "9. feature 1 - 2A Vowel Quality Inventories (0.018276)\n",
      "10. feature 4 - 13A Tone (0.016695)\n"
     ]
    },
    {
     "data": {
      "image/png": "[encoded data removed]",
      "text/plain": [
       "<matplotlib.figure.Figure at 0x7f5f6c734b38>"
      ]
     },
     "metadata": {},
     "output_type": "display_data"
    },
    {
     "name": "stdout",
     "output_type": "stream",
     "text": [
      "\n",
      "Random Forest Classification:\n",
      "[ 0.5         0.34615385  0.57692308  0.69230769  0.58333333]\n",
      "Accuracy: 0.54 (+/- 0.23)\n",
      "Feature ranking:\n",
      "1. feature 2 - 3A Consonant-Vowel Ratio (0.150314)\n",
      "2. feature 0 - 1A Consonant Inventories (0.132213)\n",
      "3. feature 3 - 4A Voicing in Plosives and Fricatives (0.128550)\n",
      "4. feature 1 - 2A Vowel Quality Inventories (0.124455)\n",
      "5. feature 7 - 8A Lateral Consonants (0.114898)\n",
      "6. feature 4 - 13A Tone (0.112726)\n",
      "7. feature 6 - 7A Glottalized Consonants (0.083776)\n",
      "8. feature 8 - 9A The Velar Nasal (0.082486)\n",
      "9. feature 9 - 10A Vowel Nasalization (0.058099)\n",
      "10. feature 5 - 18A Absence of Common Consonants (0.012484)\n",
      "[2 0 3 1 7 4 6 8 9 5]\n"
     ]
    },
    {
     "data": {
      "image/png": "[encoded data removed]",
      "text/plain": [
       "<matplotlib.figure.Figure at 0x7f5f6c9247b8>"
      ]
     },
     "metadata": {},
     "output_type": "display_data"
    },
    {
     "name": "stdout",
     "output_type": "stream",
     "text": [
      "\n",
      "Extra Trees Classification:\n",
      "[ 0.65384615  0.34615385  0.53846154  0.46153846  0.625     ]\n",
      "Accuracy: 0.53 (+/- 0.22)\n",
      "Feature ranking:\n",
      "1. feature 3 - 4A Voicing in Plosives and Fricatives (0.159408)\n",
      "2. feature 2 - 3A Consonant-Vowel Ratio (0.130467)\n",
      "3. feature 0 - 1A Consonant Inventories (0.125080)\n",
      "4. feature 7 - 8A Lateral Consonants (0.118318)\n",
      "5. feature 4 - 13A Tone (0.107399)\n",
      "6. feature 6 - 7A Glottalized Consonants (0.106717)\n",
      "7. feature 1 - 2A Vowel Quality Inventories (0.096739)\n",
      "8. feature 8 - 9A The Velar Nasal (0.075085)\n",
      "9. feature 9 - 10A Vowel Nasalization (0.051080)\n",
      "10. feature 5 - 18A Absence of Common Consonants (0.029708)\n",
      "[3 2 0 7 4 6 1 8 9 5]\n"
     ]
    },
    {
     "data": {
      "image/png": "[encoded data removed]",
      "text/plain": [
       "<matplotlib.figure.Figure at 0x7f5f6c7502b0>"
      ]
     },
     "metadata": {},
     "output_type": "display_data"
    }
   ],
   "source": [
    "#Binary Group Classification\n",
    "#Arid,Cold,Polar(H) vs Tropical,Temperate(I)\n",
    "y_ = trg\n",
    "for l in range(0,len(y_)):\n",
    "    if y_[l]=='A' or y_[l]=='C':\n",
    "        y_[l] = 'H'\n",
    "    else:\n",
    "        y_[l] = 'I'\n",
    "#print(y_)\n",
    "rf = RandomForestClassifier(class_weight = 'balanced')\n",
    "sv = svm.SVC(kernel= \"linear\", class_weight = 'balanced')\n",
    "et = ExtraTreesClassifier(random_state=0, class_weight = 'balanced')\n",
    "trained_model = rf.fit(X,y_)\n",
    "cvsv = cross_val_score(sv, X, y_, cv=5)\n",
    "t_m = et.fit(X, y_)\n",
    "print(\"Linear SVM Classification C-V:\")\n",
    "print(cvs)\n",
    "print(\"Accuracy: %0.2f (+/- %0.2f)\" % (cvsv.mean(), cvsv.std() * 2))\n",
    "print(\"Linear SVM Feature Importance:\")\n",
    "svm_feat_imp(sv, X, trg, features)\n",
    "cvrf = cross_val_score(rf, X, y_, cv=5)\n",
    "print()\n",
    "print(\"Random Forest Classification:\")\n",
    "print(cvrf)\n",
    "print(\"Accuracy: %0.2f (+/- %0.2f)\" % (cvrf.mean(), cvrf.std() * 2))\n",
    "RFC_feat_imp(trained_model, features, X)\n",
    "print()\n",
    "print(\"Extra Trees Classification:\")\n",
    "etcv = cross_val_score(et, X, y_, cv=5)\n",
    "print(etcv)\n",
    "print(\"Accuracy: %0.2f (+/- %0.2f)\" % (etcv.mean(), etcv.std() * 2))\n",
    "RFC_feat_imp(t_m, features, X)\n"
   ]
  },
  {
   "cell_type": "code",
   "execution_count": 490,
   "metadata": {
    "collapsed": false
   },
   "outputs": [
    {
     "name": "stdout",
     "output_type": "stream",
     "text": [
      "Linear SVM Classification C-V:\n",
      "[ 0.75    0.5625  0.6875  0.375   0.8   ]\n",
      "Accuracy: 0.37 (+/- 0.17)\n",
      "Linear SVM Feature Importance:\n",
      "Feature ranking:\n",
      "(128, 10)\n",
      "10\n",
      "10\n",
      "1. feature 1 - 2A Vowel Quality Inventories (0.386799)\n",
      "2. feature 5 - 18A Absence of Common Consonants (0.230787)\n",
      "3. feature 3 - 4A Voicing in Plosives and Fricatives (0.096658)\n",
      "4. feature 2 - 3A Consonant-Vowel Ratio (0.083150)\n",
      "5. feature 0 - 1A Consonant Inventories (0.069604)\n",
      "6. feature 9 - 10A Vowel Nasalization (0.051940)\n",
      "7. feature 4 - 13A Tone (0.042836)\n",
      "8. feature 6 - 7A Glottalized Consonants (0.029343)\n",
      "9. feature 8 - 9A The Velar Nasal (0.006577)\n",
      "10. feature 7 - 8A Lateral Consonants (0.002306)\n"
     ]
    },
    {
     "data": {
      "image/png": "[encoded data removed]",
      "text/plain": [
       "<matplotlib.figure.Figure at 0x7f5f6c7354a8>"
      ]
     },
     "metadata": {},
     "output_type": "display_data"
    },
    {
     "name": "stdout",
     "output_type": "stream",
     "text": [
      "\n",
      "Random Forest Classification:\n",
      "[ 0.66666667  0.57692308  0.48        0.52        0.56      ]\n",
      "Accuracy: 0.56 (+/- 0.13)\n",
      "Feature ranking:\n",
      "1. feature 0 - 1A Consonant Inventories (0.166430)\n",
      "2. feature 2 - 3A Consonant-Vowel Ratio (0.150618)\n",
      "3. feature 3 - 4A Voicing in Plosives and Fricatives (0.150228)\n",
      "4. feature 4 - 13A Tone (0.099617)\n",
      "5. feature 7 - 8A Lateral Consonants (0.098142)\n",
      "6. feature 1 - 2A Vowel Quality Inventories (0.093309)\n",
      "7. feature 6 - 7A Glottalized Consonants (0.086550)\n",
      "8. feature 8 - 9A The Velar Nasal (0.074711)\n",
      "9. feature 9 - 10A Vowel Nasalization (0.051491)\n",
      "10. feature 5 - 18A Absence of Common Consonants (0.028906)\n",
      "[0 2 3 4 7 1 6 8 9 5]\n"
     ]
    },
    {
     "data": {
      "image/png": "[encoded data removed]",
      "text/plain": [
       "<matplotlib.figure.Figure at 0x7f5f6e9ab8d0>"
      ]
     },
     "metadata": {},
     "output_type": "display_data"
    },
    {
     "name": "stdout",
     "output_type": "stream",
     "text": [
      "\n",
      "Extra Trees Classification:\n",
      "[ 0.7037037   0.53846154  0.44        0.36        0.48      ]\n",
      "Accuracy: 0.50 (+/- 0.23)\n",
      "Feature ranking:\n",
      "1. feature 0 - 1A Consonant Inventories (0.159650)\n",
      "2. feature 2 - 3A Consonant-Vowel Ratio (0.137665)\n",
      "3. feature 4 - 13A Tone (0.126618)\n",
      "4. feature 1 - 2A Vowel Quality Inventories (0.116255)\n",
      "5. feature 7 - 8A Lateral Consonants (0.112458)\n",
      "6. feature 3 - 4A Voicing in Plosives and Fricatives (0.104400)\n",
      "7. feature 8 - 9A The Velar Nasal (0.082174)\n",
      "8. feature 6 - 7A Glottalized Consonants (0.073802)\n",
      "9. feature 9 - 10A Vowel Nasalization (0.052257)\n",
      "10. feature 5 - 18A Absence of Common Consonants (0.034721)\n",
      "[0 2 4 1 7 3 8 6 9 5]\n"
     ]
    },
    {
     "data": {
      "image/png": "[encoded data removed]",
      "text/plain": [
       "<matplotlib.figure.Figure at 0x7f5f6c881ba8>"
      ]
     },
     "metadata": {},
     "output_type": "display_data"
    }
   ],
   "source": [
    "#Binary Group Classification\n",
    "#Arid,Temperate(J) vs Tropical,Cold,Polar(K)\n",
    "y_ = trg\n",
    "for l in range(0,len(y_)):\n",
    "    if y_[l]=='B' or y_[l]=='C':\n",
    "        y_[l] = 'J'\n",
    "    else:\n",
    "        y_[l] = 'K'\n",
    "\n",
    "rf = RandomForestClassifier(class_weight = 'balanced')\n",
    "sv = svm.SVC(kernel= \"linear\", class_weight = 'balanced')\n",
    "et = ExtraTreesClassifier(random_state=0, class_weight = 'balanced')\n",
    "trained_model = rf.fit(X,y_)\n",
    "cvsv = cross_val_score(sv, X, y_, cv=5)\n",
    "t_m = et.fit(X, y_)\n",
    "print(\"Linear SVM Classification C-V:\")\n",
    "print(cvs)\n",
    "print(\"Accuracy: %0.2f (+/- %0.2f)\" % (cvsv.mean(), cvsv.std() * 2))\n",
    "print(\"Linear SVM Feature Importance:\")\n",
    "svm_feat_imp(sv, X, trg, features)\n",
    "cvrf = cross_val_score(rf, X, y_, cv=5)\n",
    "print()\n",
    "print(\"Random Forest Classification:\")\n",
    "print(cvrf)\n",
    "print(\"Accuracy: %0.2f (+/- %0.2f)\" % (cvrf.mean(), cvrf.std() * 2))\n",
    "RFC_feat_imp(trained_model, features, X)\n",
    "print()\n",
    "print(\"Extra Trees Classification:\")\n",
    "etcv = cross_val_score(et, X, y_, cv=5)\n",
    "print(etcv)\n",
    "print(\"Accuracy: %0.2f (+/- %0.2f)\" % (etcv.mean(), etcv.std() * 2))\n",
    "RFC_feat_imp(t_m, features, X)"
   ]
  },
  {
   "cell_type": "code",
   "execution_count": 445,
   "metadata": {
    "collapsed": false
   },
   "outputs": [
    {
     "name": "stdout",
     "output_type": "stream",
     "text": [
      "A - Tropical: 29\n",
      "B - Arid: 18\n",
      "C - Temperate: 29\n",
      "D - Cold: 12\n",
      "E - Polar: 3\n",
      "91\n"
     ]
    }
   ],
   "source": [
    "#PREPROCCESSING FOR MORPHOLOGY\n",
    "#Same classification procedure for 8 Morphology Features - 23A, 24A, 25A, 25B, 26A, 27A, 28A, 29A\n",
    "\n",
    "df2 = lang_df[lang_df['23A Locus of Marking in the Clause'].notnull() & lang_df['24A Locus of Marking in Possessive Noun Phrases'].notnull() & lang_df['25A Locus of Marking: Whole-language Typology'].notnull() & lang_df['25B Zero Marking of A and P Arguments'].notnull()& lang_df['26A Prefixing vs. Suffixing in Inflectional Morphology'].notnull() \n",
    "& lang_df['27A Reduplication'].notnull() & lang_df['28A Case Syncretism'].notnull() & lang_df['29A Syncretism in Verbal Person/Number Marking'].notnull()]\n",
    "\n",
    "ft = ['23A Locus of Marking in the Clause','24A Locus of Marking in Possessive Noun Phrases','25A Locus of Marking: Whole-language Typology','25B Zero Marking of A and P Arguments','26A Prefixing vs. Suffixing in Inflectional Morphology', '27A Reduplication', '28A Case Syncretism', '29A Syncretism in Verbal Person/Number Marking']\n",
    "#pre-proccesing\n",
    "#F,P = df_list(df2,ft)\n",
    "Cl= pd.Series.tolist(df2['Climate'])\n",
    "stats_out(Cl)\n",
    "print(len(Cl))\n",
    "\n",
    "\n"
   ]
  },
  {
   "cell_type": "code",
   "execution_count": 227,
   "metadata": {
    "collapsed": false
   },
   "outputs": [],
   "source": [
    "#One v Rest SVM linear classifier and Cross-Validation with OHE for Climate \n",
    "classify = OneVsRestClassifier(estimator=SVC(random_state=0))\n",
    "\n",
    "predic = classify.fit(F, P).predict(F)\n"
   ]
  },
  {
   "cell_type": "code",
   "execution_count": 228,
   "metadata": {
    "collapsed": false
   },
   "outputs": [
    {
     "data": {
      "text/html": [
       "<div>\n",
       "<table border=\"1\" class=\"dataframe\">\n",
       "  <thead>\n",
       "    <tr style=\"text-align: right;\">\n",
       "      <th>Predicted</th>\n",
       "      <th>1</th>\n",
       "      <th>2</th>\n",
       "      <th>3</th>\n",
       "      <th>4</th>\n",
       "      <th>5</th>\n",
       "    </tr>\n",
       "    <tr>\n",
       "      <th>Actual</th>\n",
       "      <th></th>\n",
       "      <th></th>\n",
       "      <th></th>\n",
       "      <th></th>\n",
       "      <th></th>\n",
       "    </tr>\n",
       "  </thead>\n",
       "  <tbody>\n",
       "    <tr>\n",
       "      <th>1</th>\n",
       "      <td>26</td>\n",
       "      <td>1</td>\n",
       "      <td>2</td>\n",
       "      <td>0</td>\n",
       "      <td>0</td>\n",
       "    </tr>\n",
       "    <tr>\n",
       "      <th>2</th>\n",
       "      <td>4</td>\n",
       "      <td>11</td>\n",
       "      <td>3</td>\n",
       "      <td>0</td>\n",
       "      <td>0</td>\n",
       "    </tr>\n",
       "    <tr>\n",
       "      <th>3</th>\n",
       "      <td>5</td>\n",
       "      <td>1</td>\n",
       "      <td>23</td>\n",
       "      <td>0</td>\n",
       "      <td>0</td>\n",
       "    </tr>\n",
       "    <tr>\n",
       "      <th>4</th>\n",
       "      <td>2</td>\n",
       "      <td>1</td>\n",
       "      <td>3</td>\n",
       "      <td>6</td>\n",
       "      <td>0</td>\n",
       "    </tr>\n",
       "    <tr>\n",
       "      <th>5</th>\n",
       "      <td>0</td>\n",
       "      <td>0</td>\n",
       "      <td>0</td>\n",
       "      <td>0</td>\n",
       "      <td>3</td>\n",
       "    </tr>\n",
       "  </tbody>\n",
       "</table>\n",
       "</div>"
      ],
      "text/plain": [
       "Predicted   1   2   3  4  5\n",
       "Actual                     \n",
       "1          26   1   2  0  0\n",
       "2           4  11   3  0  0\n",
       "3           5   1  23  0  0\n",
       "4           2   1   3  6  0\n",
       "5           0   0   0  0  3"
      ]
     },
     "execution_count": 228,
     "metadata": {},
     "output_type": "execute_result"
    }
   ],
   "source": [
    "y_actu = pd.Series(P, name='Actual')\n",
    "y_pred = pd.Series(predic, name='Predicted')\n",
    "confusion = pd.crosstab(y_actu, y_pred)\n",
    "confusion"
   ]
  },
  {
   "cell_type": "code",
   "execution_count": 229,
   "metadata": {
    "collapsed": false
   },
   "outputs": [
    {
     "data": {
      "text/plain": [
       "0.7582417582417582"
      ]
     },
     "execution_count": 229,
     "metadata": {},
     "output_type": "execute_result"
    }
   ],
   "source": [
    "#Simple accuracy of SVM\n",
    "c=0\n",
    "for i in range(0, len(P)):\n",
    "    if P[i]== predic[i]:\n",
    "        c=c+1\n",
    "c/len(P)\n"
   ]
  },
  {
   "cell_type": "code",
   "execution_count": 496,
   "metadata": {
    "collapsed": false
   },
   "outputs": [],
   "source": [
    "#Random Forest for Morphology\n",
    "\n"
   ]
  },
  {
   "cell_type": "code",
   "execution_count": null,
   "metadata": {
    "collapsed": false
   },
   "outputs": [],
   "source": [
    "predictions = trained_mod.predict(test_f)\n",
    "print(\"Train Accuracy :: \", accuracy_score(train_p, trained_mod.predict(train_f)))\n",
    "print(\"Test Accuracy  :: \", accuracy_score(test_p, predictions))"
   ]
  },
  {
   "cell_type": "code",
   "execution_count": null,
   "metadata": {
    "collapsed": false
   },
   "outputs": [],
   "source": [
    "#Feature Importance\n",
    "importances = trained_mod.feature_importances_\n",
    "std = np.std([tree.feature_importances_ for tree in trained_mod.estimators_],\n",
    "             axis=0)\n",
    "indices = np.argsort(importances)[::-1]\n",
    "\n",
    "# Print the feature ranking\n",
    "print(\"Feature ranking:\")\n",
    "\n",
    "F = np.asarray(F)\n",
    "\n",
    "for f in range(F.shape[1]):\n",
    "    print(\"%d. feature %d - %s (%f)\" % (f + 1, indices[f] , features[indices[f]], importances[indices[f]]))\n",
    "    \n",
    "print(indices)\n",
    "plt.figure()\n",
    "plt.title(\"Feature importances\")\n",
    "plt.bar(range(F.shape[1]), importances[indices],\n",
    "       color=\"r\", yerr=std[indices], align=\"center\")\n",
    "plt.xticks(range(F.shape[1]), indices)\n",
    "plt.xlim([-1, F.shape[1]])\n",
    "plt.show()"
   ]
  },
  {
   "cell_type": "code",
   "execution_count": 491,
   "metadata": {
    "collapsed": false
   },
   "outputs": [],
   "source": [
    "binary_clas(df2, ft, subsets)"
   ]
  },
  {
   "cell_type": "code",
   "execution_count": null,
   "metadata": {
    "collapsed": true
   },
   "outputs": [],
   "source": []
  }
 ],
 "metadata": {
  "kernelspec": {
   "display_name": "Python 3",
   "language": "python",
   "name": "python3"
  },
  "language_info": {
   "codemirror_mode": {
    "name": "ipython",
    "version": 3
   },
   "file_extension": ".py",
   "mimetype": "text/x-python",
   "name": "python",
   "nbconvert_exporter": "python",
   "pygments_lexer": "ipython3",
   "version": "3.4.3"
  }
 },
 "nbformat": 4,
 "nbformat_minor": 1
}
